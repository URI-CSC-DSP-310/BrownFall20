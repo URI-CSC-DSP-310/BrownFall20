{
 "cells": [
  {
   "cell_type": "markdown",
   "id": "2df75af3",
   "metadata": {},
   "source": [
    "# Class 2: intro to notebooks and python\n",
    "\n",
    "Agenda:\n",
    "1. review Data Science\n",
    "1. `jupyter notebook`\n",
    "1. `python`: conditionals and functions"
   ]
  },
  {
   "cell_type": "markdown",
   "id": "0dfbe4b8",
   "metadata": {},
   "source": [
    "## Jupyter Notebooks\n",
    "\n",
    "To launch a Jupyter notebook, in your Anaconda prompt on Windows or terminal on Linux or Mac:\n",
    "\n",
    "```\n",
    "cd dir/you/want/to/work/in\n",
    "jupyter notebook\n",
    "```\n",
    "\n",
    "\n",
    "A Jupyter notebook has two modes. When you first open, it is in command mode. The border is blue in command mode.\n",
    "\n",
    "![screenshot of a code cell in command mode](../img/command_mode.png)\n",
    "\n",
    "When you press a key in command mode it works like a shortcut. For example `p` shows the command search menu.\n",
    "\n",
    "![screenshot of the command menu](../img/command_menu.png)\n",
    "\n",
    "\n",
    "\n",
    "\n",
    "If you press `enter` (or `return`)  or click on the cell it changes to edit mode. The border is green in edit mode\n",
    "\n",
    "![screenshot of a code cell in edit mode](../img/code_cell.png)\n",
    "\n",
    "\n",
    "Type code or markdown into boxes called cells. There are two type of cells that we will used: code and markdown. You can change that in command mode with `y` for code and `m` for markdown or on the cell type menu at the top of the notebook.\n",
    "\n",
    "![screenshot of the cell type menu](../img/cell_type_menu.png)\n",
    "\n",
    "You can treat markdown cells like plain text, or use special formatting. Here is a [markdown cheatsheet](https://www.markdownguide.org/cheat-sheet/)"
   ]
  },
  {
   "cell_type": "markdown",
   "id": "e2d44a67",
   "metadata": {},
   "source": [
    "Code cells can run like a calculator. If there is a value returned by the last\n",
    "line of a cell, it will be displayed."
   ]
  },
  {
   "cell_type": "code",
   "execution_count": 1,
   "id": "07f07807",
   "metadata": {},
   "outputs": [
    {
     "data": {
      "text/plain": [
       "9"
      ]
     },
     "execution_count": 1,
     "metadata": {},
     "output_type": "execute_result"
    }
   ],
   "source": [
    "4+5"
   ]
  },
  {
   "cell_type": "markdown",
   "id": "9b0d2715",
   "metadata": {},
   "source": [
    "For example, when we assign, python \"returns\" `None` so there is no output from this cell"
   ]
  },
  {
   "cell_type": "code",
   "execution_count": 2,
   "id": "b66a3c3a",
   "metadata": {},
   "outputs": [],
   "source": [
    "a = 9"
   ]
  },
  {
   "cell_type": "markdown",
   "id": "f48472c2",
   "metadata": {},
   "source": [
    "But this one does display the value of the cell"
   ]
  },
  {
   "cell_type": "code",
   "execution_count": 3,
   "id": "5d1079cb",
   "metadata": {},
   "outputs": [
    {
     "data": {
      "text/plain": [
       "9"
      ]
     },
     "execution_count": 3,
     "metadata": {},
     "output_type": "execute_result"
    }
   ],
   "source": [
    "a"
   ]
  },
  {
   "cell_type": "code",
   "execution_count": 4,
   "id": "ea9d9686",
   "metadata": {},
   "outputs": [
    {
     "data": {
      "text/plain": [
       "4"
      ]
     },
     "execution_count": 4,
     "metadata": {},
     "output_type": "execute_result"
    }
   ],
   "source": [
    "b = 4\n",
    "b"
   ]
  },
  {
   "cell_type": "markdown",
   "id": "6f850c07",
   "metadata": {},
   "source": [
    "````{margin}\n",
    "```{note}\n",
    "Here in class we changed the value of `a` above and noted that the new value is shows here, but not in the previous cell that had ouput the value of `a`\n",
    "```\n",
    "\n",
    "````"
   ]
  },
  {
   "cell_type": "code",
   "execution_count": 5,
   "id": "445443f6",
   "metadata": {},
   "outputs": [
    {
     "data": {
      "text/plain": [
       "9"
      ]
     },
     "execution_count": 5,
     "metadata": {},
     "output_type": "execute_result"
    }
   ],
   "source": [
    "a"
   ]
  },
  {
   "cell_type": "markdown",
   "id": "3668bb18",
   "metadata": {},
   "source": [
    "## Getting Help in Python and Jupyter\n",
    "\n",
    "The standard way to get help in the help function\n",
    "\n",
    "```{margin}\n",
    "Note that these are green in the jupyter notebook because they're python reserved words.\n",
    "```"
   ]
  },
  {
   "cell_type": "code",
   "execution_count": 6,
   "id": "db0c0fcf",
   "metadata": {},
   "outputs": [
    {
     "name": "stdout",
     "output_type": "stream",
     "text": [
      "Help on built-in function print in module builtins:\n",
      "\n",
      "print(...)\n",
      "    print(value, ..., sep=' ', end='\\n', file=sys.stdout, flush=False)\n",
      "    \n",
      "    Prints the values to a stream, or to sys.stdout by default.\n",
      "    Optional keyword arguments:\n",
      "    file:  a file-like object (stream); defaults to the current sys.stdout.\n",
      "    sep:   string inserted between values, default a space.\n",
      "    end:   string appended after the last value, default a newline.\n",
      "    flush: whether to forcibly flush the stream.\n",
      "\n"
     ]
    }
   ],
   "source": [
    "help(print)"
   ]
  },
  {
   "cell_type": "markdown",
   "id": "ec66669e",
   "metadata": {},
   "source": [
    "There are two special ways to get help in Jupyter, one dynamically while you're\n",
    "working and one that stays displayed for a while\n",
    "\n",
    "Python comments are indicated by the `#` symbol."
   ]
  },
  {
   "cell_type": "code",
   "execution_count": 7,
   "id": "85b1688d",
   "metadata": {},
   "outputs": [
    {
     "name": "stdout",
     "output_type": "stream",
     "text": [
      "\n"
     ]
    }
   ],
   "source": [
    "print() # shift +tab to view help"
   ]
  },
  {
   "cell_type": "markdown",
   "id": "5fc1ca34",
   "metadata": {},
   "source": [
    "That will look like this:\n",
    "![screenshot of the docstring from shift+tab help](../img/shift_tab_help.png)\n",
    "\n",
    "Press tab twice for the longer version.\n",
    "\n",
    "A Question mark puts it in a popup window that stays until you close it"
   ]
  },
  {
   "cell_type": "code",
   "execution_count": 8,
   "id": "62137bc1",
   "metadata": {},
   "outputs": [],
   "source": [
    "print?"
   ]
  },
  {
   "cell_type": "markdown",
   "id": "4cdcff1e",
   "metadata": {},
   "source": [
    "![screenshot of the docstring from ? help](../img/qmark_help.png)\n",
    "\n",
    "This means you can then use the displayed help to remember how to call the function"
   ]
  },
  {
   "cell_type": "code",
   "execution_count": 9,
   "id": "f06616b7",
   "metadata": {},
   "outputs": [
    {
     "name": "stdout",
     "output_type": "stream",
     "text": [
      "9-4-hello\n"
     ]
    }
   ],
   "source": [
    "print(a,b, 'hello',sep='-')"
   ]
  },
  {
   "cell_type": "code",
   "execution_count": 10,
   "id": "c2ea41c7",
   "metadata": {},
   "outputs": [
    {
     "data": {
      "text/plain": [
       "4"
      ]
     },
     "execution_count": 10,
     "metadata": {},
     "output_type": "execute_result"
    }
   ],
   "source": [
    "a\n",
    "b"
   ]
  },
  {
   "cell_type": "markdown",
   "id": "8c633b29",
   "metadata": {},
   "source": [
    "## If Statements\n",
    "\n",
    ":::{warning}\n",
    "if the _concept_ of an `if` in programming is new to you, you should talk to Dr.\n",
    "Brown. Basic programming is a prerequisite to this course, we're *reviewing*\n",
    "basic ideas but only at a level of detail to serve as a reminder.\n",
    ":::\n",
    "\n",
    "The synta"
   ]
  },
  {
   "cell_type": "code",
   "execution_count": 11,
   "id": "824f7f0a",
   "metadata": {},
   "outputs": [
    {
     "name": "stdout",
     "output_type": "stream",
     "text": [
      "greater\n"
     ]
    }
   ],
   "source": [
    "if a >b:\n",
    "    print('greater')"
   ]
  },
  {
   "cell_type": "code",
   "execution_count": 12,
   "id": "d4971481",
   "metadata": {},
   "outputs": [],
   "source": [
    "if b > a:\n",
    "    print('greater')"
   ]
  },
  {
   "cell_type": "markdown",
   "id": "95cf4c4b",
   "metadata": {},
   "source": [
    "```{tip}\n",
    "this is updated to include things that were skipped in class and discussed after\n",
    "the breakouts\n",
    "```\n",
    "You can check the contents of a string with the `in` keyword\n",
    "\n",
    "````{margin}\n",
    "```{tip}\n",
    "`in` works for all lists, we'll learn more about that next week\n",
    "```\n",
    "````"
   ]
  },
  {
   "cell_type": "code",
   "execution_count": 13,
   "id": "e1f8869a",
   "metadata": {},
   "outputs": [
    {
     "name": "stdout",
     "output_type": "stream",
     "text": [
      "sarah has an a\n"
     ]
    }
   ],
   "source": [
    "name = 'sarah'\n",
    "if 'a' in name:\n",
    "    print(name, 'has an a')"
   ]
  },
  {
   "cell_type": "markdown",
   "id": "317788b9",
   "metadata": {},
   "source": [
    "if we copy and change the name we get no output"
   ]
  },
  {
   "cell_type": "code",
   "execution_count": 14,
   "id": "b0a0df5f",
   "metadata": {},
   "outputs": [],
   "source": [
    "name = 'Beibhinn'\n",
    "if 'a' in name:\n",
    "    print(name, 'has an a')"
   ]
  },
  {
   "cell_type": "markdown",
   "id": "984c8d94",
   "metadata": {},
   "source": [
    "## Functions\n",
    "\n",
    "```{tip}\n",
    "this is also updated to include things that were skipped in class and discussed after\n",
    "the breakouts\n",
    "```\n",
    "How to write functions in python:\n",
    "- the `def` keyword starts a function definition\n",
    "- then the function name\n",
    "- then the parameters it accepts in `()`\n",
    "- end that line with a `:`\n",
    "- the body of the function is spaced over one tab, but Jupyter will do it automatically for you. if it doesn't you might have forgotten the `:`\n",
    "\n",
    "````{margin}\n",
    "```{warning}\n",
    "this is actually not a great function, because the printing is only a *side effect*. It's better to return the output of the function\n",
    "```\n",
    "````"
   ]
  },
  {
   "cell_type": "code",
   "execution_count": 15,
   "id": "458fa1fb",
   "metadata": {},
   "outputs": [],
   "source": [
    "def greeting(name):\n",
    "    '''\n",
    "    a function that greets the person name by printing\n",
    "\n",
    "    parameters\n",
    "    ----------\n",
    "    name: string\n",
    "      a name to be greeeted\n",
    "\n",
    "    Returns\n",
    "    -------\n",
    "    nothing\n",
    "    '''\n",
    "    print('hello', name)"
   ]
  },
  {
   "cell_type": "code",
   "execution_count": 16,
   "id": "557f47a2",
   "metadata": {},
   "outputs": [
    {
     "name": "stdout",
     "output_type": "stream",
     "text": [
      "hello sarah\n"
     ]
    }
   ],
   "source": [
    "greeting('sarah')"
   ]
  },
  {
   "cell_type": "markdown",
   "id": "2504e657",
   "metadata": {},
   "source": [
    "A better version of that function might be:\n",
    "\n",
    "````{margin}\n",
    "```{tip}\n",
    "you can append strings with `+`\n",
    "```\n",
    "````"
   ]
  },
  {
   "cell_type": "code",
   "execution_count": 17,
   "id": "9ac44064",
   "metadata": {},
   "outputs": [],
   "source": [
    "def greeting(name):\n",
    "    '''\n",
    "    a function that greets the person name by printing\n",
    "\n",
    "    parameters\n",
    "    ----------\n",
    "    name: string\n",
    "      a name to be greeeted\n",
    "\n",
    "    Returns\n",
    "    -------\n",
    "    nothing\n",
    "    '''\n",
    "    return 'hello ' + name"
   ]
  },
  {
   "cell_type": "markdown",
   "id": "c36eae98",
   "metadata": {},
   "source": [
    "```{admonition} Try it Yourself!\n",
    "Write a function that checks if a string has a space in it and returns \"please rename\" if there is a space.\n",
    "\n",
    "Remember a docstring.  Call your function a couple of times to confirm it works.\n",
    "```\n",
    "\n",
    "Unhide the cell below to see the answer."
   ]
  },
  {
   "cell_type": "code",
   "execution_count": 18,
   "id": "57fc483d",
   "metadata": {
    "tags": [
     "hide-input"
    ]
   },
   "outputs": [],
   "source": [
    "def check_string(text):\n",
    "    '''\n",
    "    this function checks for spaces in text\n",
    "\n",
    "    Parameters\n",
    "    ----------\n",
    "    text : string\n",
    "      the text to be checked\n",
    "\n",
    "    Returns\n",
    "    -------\n",
    "    None or \"please rename\"\n",
    "    '''\n",
    "    if ' ' in text:\n",
    "        return \"please rename\""
   ]
  },
  {
   "cell_type": "markdown",
   "id": "049b6b3d",
   "metadata": {},
   "source": [
    "This is what some calls of the function look lik"
   ]
  },
  {
   "cell_type": "code",
   "execution_count": 19,
   "id": "d57335aa",
   "metadata": {},
   "outputs": [
    {
     "data": {
      "text/plain": [
       "'please rename'"
      ]
     },
     "execution_count": 19,
     "metadata": {},
     "output_type": "execute_result"
    }
   ],
   "source": [
    "check_string(\"my data.csv\")"
   ]
  },
  {
   "cell_type": "markdown",
   "id": "2ba40772",
   "metadata": {},
   "source": [
    "If there's no string we see no output"
   ]
  },
  {
   "cell_type": "code",
   "execution_count": 20,
   "id": "99ec7e19",
   "metadata": {},
   "outputs": [],
   "source": [
    "check_string(\"my_data.csv\")"
   ]
  },
  {
   "cell_type": "markdown",
   "id": "a7bd36fb",
   "metadata": {},
   "source": [
    "What does python actually return?"
   ]
  },
  {
   "cell_type": "code",
   "execution_count": 21,
   "id": "b801dfbb",
   "metadata": {
    "tags": [
     "hide-input"
    ]
   },
   "outputs": [
    {
     "data": {
      "text/plain": [
       "NoneType"
      ]
     },
     "execution_count": 21,
     "metadata": {},
     "output_type": "execute_result"
    }
   ],
   "source": [
    "type(check_string(\"my_data.csv\"))"
   ]
  },
  {
   "cell_type": "markdown",
   "id": "fc2eba85",
   "metadata": {},
   "source": [
    "```{toggle}\n",
    "it returns `None`, which is the python empty/null data type\n",
    "```\n",
    "\n",
    "\n",
    "## Further Reading\n",
    "\n",
    "- [How Ipython Works](https://ipython.readthedocs.io/en/stable/development/how_ipython_works.html)\n",
    "- [Ipython Overiver](https://ipython.readthedocs.io/en/stable/overview.html)\n",
    "- [Jupyter Notebooks Technical Overview](https://jupyter-notebook.readthedocs.io/en/stable/notebook.html)\n",
    "- [Python If Statements](https://docs.python.org/3/tutorial/controlflow.html#if-statements)\n",
    "- [Python Functions](https://docs.python.org/3/tutorial/controlflow.html#defining-functions)"
   ]
  }
 ],
 "metadata": {
  "jupytext": {
   "text_representation": {
    "extension": ".md",
    "format_name": "myst",
    "format_version": 0.12,
    "jupytext_version": "1.6.0"
   }
  },
  "kernelspec": {
   "display_name": "Python 3",
   "language": "python",
   "name": "python3"
  },
  "language_info": {
   "codemirror_mode": {
    "name": "ipython",
    "version": 3
   },
   "file_extension": ".py",
   "mimetype": "text/x-python",
   "name": "python",
   "nbconvert_exporter": "python",
   "pygments_lexer": "ipython3",
   "version": "3.7.10"
  },
  "source_map": [
   12,
   21,
   54,
   59,
   61,
   65,
   67,
   69,
   73,
   76,
   85,
   87,
   96,
   98,
   104,
   106,
   114,
   116,
   121,
   125,
   128,
   138,
   143,
   146,
   159,
   163,
   167,
   171,
   193,
   211,
   213,
   222,
   237,
   248,
   266,
   270,
   272,
   276,
   278,
   282,
   286
  ]
 },
 "nbformat": 4,
 "nbformat_minor": 5
}