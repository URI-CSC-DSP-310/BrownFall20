{
 "cells": [
  {
   "cell_type": "markdown",
   "id": "35a704f3",
   "metadata": {},
   "source": [
    "# Class 3: Welcome to Week 2\n",
    "\n",
    "This week we will:\n",
    "- clarify how this grading really works\n",
    "- learn about accessing data\n",
    "- use accessing data as motivation to review more python\n",
    "\n",
    "## Grading and Assignment 1\n",
    "\n",
    "- Solution function posted.\n",
    "- note: not a sum\n",
    "- read the rubric\n",
    "- Brightspace will show grades as they're earned\n",
    "- In class, respond on prismia\n",
    "- Portfolio\n",
    "  - will start posting prompts\n",
    "   The docstring functions like a property of the function object. so it has to be inside.\n",
    "\n",
    "## Iterables\n",
    "\n",
    "Python has a general data type for objects that are designed to facilitate repetition of some sort, they're called `iterable`s\n",
    "\n",
    "We've already seen one. Strings are `Iterable`s"
   ]
  },
  {
   "cell_type": "code",
   "execution_count": 1,
   "id": "3a12622d",
   "metadata": {},
   "outputs": [],
   "source": [
    "name = 'sarah'"
   ]
  },
  {
   "cell_type": "markdown",
   "id": "c941e221",
   "metadata": {},
   "source": [
    "````{margin}\n",
    "```{tip}\n",
    "remember python indexes from 0\n",
    "```\n",
    "````\n",
    "which means we can index them"
   ]
  },
  {
   "cell_type": "code",
   "execution_count": 2,
   "id": "5648b0b8",
   "metadata": {},
   "outputs": [
    {
     "data": {
      "text/plain": [
       "'a'"
      ]
     },
     "execution_count": 2,
     "metadata": {},
     "output_type": "execute_result"
    }
   ],
   "source": [
    "name[3]"
   ]
  },
  {
   "cell_type": "markdown",
   "id": "4d36db12",
   "metadata": {},
   "source": [
    "Indexing with a negative number counts from the end"
   ]
  },
  {
   "cell_type": "code",
   "execution_count": 3,
   "id": "93969a49",
   "metadata": {},
   "outputs": [
    {
     "data": {
      "text/plain": [
       "'h'"
      ]
     },
     "execution_count": 3,
     "metadata": {},
     "output_type": "execute_result"
    }
   ],
   "source": [
    "name[-1]"
   ]
  },
  {
   "cell_type": "markdown",
   "id": "9abf4fae",
   "metadata": {},
   "source": [
    "Loops in python have similar syntax to the `if` and functions we saw last week:"
   ]
  },
  {
   "cell_type": "code",
   "execution_count": 4,
   "id": "3234bf44",
   "metadata": {},
   "outputs": [
    {
     "name": "stdout",
     "output_type": "stream",
     "text": [
      "sss\n",
      "aaa\n",
      "rrr\n",
      "aaa\n",
      "hhh\n"
     ]
    }
   ],
   "source": [
    "for char in name:\n",
    "    print(char*3)"
   ]
  },
  {
   "cell_type": "markdown",
   "id": "a79ea828",
   "metadata": {},
   "source": [
    "some notes:\n",
    "- `char` is called the loop variable\n",
    "- `name` is called the collection- this can be any iterable type object in python\n",
    "- `print(char*3)` is called the loop body\n",
    "- python lets us use mathematical operations on strings\n",
    "\n",
    "### Lists and List Comprehensions\n",
    "\n",
    "We make a list with square brackets"
   ]
  },
  {
   "cell_type": "code",
   "execution_count": 5,
   "id": "be5396bd",
   "metadata": {},
   "outputs": [],
   "source": [
    "names = ['sarah', 'Jose', 'Cam', 'Bri']"
   ]
  },
  {
   "cell_type": "markdown",
   "id": "0649e872",
   "metadata": {},
   "source": [
    "we can also build lists by folding a loop into the list construction"
   ]
  },
  {
   "cell_type": "code",
   "execution_count": 6,
   "id": "efdadab8",
   "metadata": {},
   "outputs": [
    {
     "data": {
      "text/plain": [
       "['hellosarah', 'helloJose', 'helloCam', 'helloBri']"
      ]
     },
     "execution_count": 6,
     "metadata": {},
     "output_type": "execute_result"
    }
   ],
   "source": [
    "['hello' + n for n in names]"
   ]
  },
  {
   "cell_type": "markdown",
   "id": "80375058",
   "metadata": {},
   "source": [
    "this is called a list comprehension"
   ]
  },
  {
   "cell_type": "code",
   "execution_count": 7,
   "id": "8e7236b5",
   "metadata": {},
   "outputs": [],
   "source": [
    "greetings = ['hello ' + n for n in names]"
   ]
  },
  {
   "cell_type": "code",
   "execution_count": 8,
   "id": "b8f00239",
   "metadata": {},
   "outputs": [
    {
     "data": {
      "text/plain": [
       "'hello sarah'"
      ]
     },
     "execution_count": 8,
     "metadata": {},
     "output_type": "execute_result"
    }
   ],
   "source": [
    "greetings[0]"
   ]
  },
  {
   "cell_type": "markdown",
   "id": "d9d7244c",
   "metadata": {},
   "source": [
    "## Dictionaries\n",
    "\n",
    "Dictionaries are a useful datatype in python. It is denoted by `{}` and contains `key: value` pairs separated by commas."
   ]
  },
  {
   "cell_type": "code",
   "execution_count": 9,
   "id": "6db8f5ac",
   "metadata": {},
   "outputs": [
    {
     "data": {
      "text/plain": [
       "{'brownsarahm': 'Sarah Brown',\n",
       " 'briannakathrynm1': 'Brianna MacDonald',\n",
       " 'jdion62': 'Jacob Dion'}"
      ]
     },
     "execution_count": 9,
     "metadata": {},
     "output_type": "execute_result"
    }
   ],
   "source": [
    "gh_names = {'brownsarahm':'Sarah Brown',\n",
    "            'briannakathrynm1' : 'Brianna MacDonald',\n",
    "            'jdion62':'Jacob Dion'}\n",
    "gh_names"
   ]
  },
  {
   "cell_type": "markdown",
   "id": "dbe29afd",
   "metadata": {},
   "source": [
    "You can think of it like a list of the values with a named index."
   ]
  },
  {
   "cell_type": "code",
   "execution_count": 10,
   "id": "91611eec",
   "metadata": {},
   "outputs": [
    {
     "data": {
      "text/plain": [
       "'Jacob Dion'"
      ]
     },
     "execution_count": 10,
     "metadata": {},
     "output_type": "execute_result"
    }
   ],
   "source": [
    "gh_names['jdion62']"
   ]
  },
  {
   "cell_type": "markdown",
   "id": "93d73ba1",
   "metadata": {},
   "source": [
    "we can iterate over both the key and the value by using the `items` method on a dictionary. That makes another iterable object that can be used as a loop collection. It functions as a set of pairs now, so we get two loop variables:"
   ]
  },
  {
   "cell_type": "code",
   "execution_count": 11,
   "id": "4822634d",
   "metadata": {},
   "outputs": [
    {
     "name": "stdout",
     "output_type": "stream",
     "text": [
      "Sarah Brown 's username is  brownsarahm\n",
      "Brianna MacDonald 's username is  briannakathrynm1\n",
      "Jacob Dion 's username is  jdion62\n"
     ]
    }
   ],
   "source": [
    "for key, value in gh_names.items():\n",
    "    print(value, \"'s username is \", key)"
   ]
  },
  {
   "cell_type": "markdown",
   "id": "ea35ae12",
   "metadata": {},
   "source": [
    "If we iterate over the dictionary without that method, we get the keys."
   ]
  },
  {
   "cell_type": "code",
   "execution_count": 12,
   "id": "9d8678ad",
   "metadata": {},
   "outputs": [
    {
     "name": "stdout",
     "output_type": "stream",
     "text": [
      "brownsarahm\n",
      "briannakathrynm1\n",
      "jdion62\n"
     ]
    }
   ],
   "source": [
    "for val in gh_names:\n",
    "    print(val)"
   ]
  },
  {
   "cell_type": "markdown",
   "id": "f71fc58a",
   "metadata": {},
   "source": [
    "## Libraries\n",
    "\n",
    "To use libraries in python we import them\n",
    "````{margin}\n",
    "```{tip}\n",
    "note that `import` is a keyword and that in a Jupyter notebook, we can import anywhere and then the library can be used in any cell that is *run* after the import cell is *run*.  It's good practice to put them at the top and make your notebook runnable in sequence, but Jupyter won't force you to.\n",
    "```\n",
    "````\n",
    "We will use [`pandas`](https://pandas.pydata.org/) a lot in this class. It's the Python Data Analysis Library."
   ]
  },
  {
   "cell_type": "code",
   "execution_count": 13,
   "id": "24b706f8",
   "metadata": {},
   "outputs": [],
   "source": [
    "import pandas"
   ]
  },
  {
   "cell_type": "markdown",
   "id": "d6e59edd",
   "metadata": {},
   "source": [
    "Once we import we can use the functions, datatypes, and values a library provides by using a `.` after the name. In a notebook, pressing tab will show you the options.\n",
    "\n",
    "````{margin}\n",
    "```{tip}\n",
    "For example if you don't remember what kind of read functions there are in pandas, type `pandas.read` and then press tab to see options.\n",
    "```\n",
    "````"
   ]
  },
  {
   "cell_type": "code",
   "execution_count": 14,
   "id": "f97a8dc8",
   "metadata": {
    "tags": [
     "raises-exception"
    ]
   },
   "outputs": [
    {
     "ename": "TypeError",
     "evalue": "read_csv() missing 1 required positional argument: 'filepath_or_buffer'",
     "output_type": "error",
     "traceback": [
      "\u001b[0;31m---------------------------------------------------------------------------\u001b[0m",
      "\u001b[0;31mTypeError\u001b[0m                                 Traceback (most recent call last)",
      "\u001b[0;32m<ipython-input-14-374a1a6f9f7e>\u001b[0m in \u001b[0;36m<module>\u001b[0;34m\u001b[0m\n\u001b[0;32m----> 1\u001b[0;31m \u001b[0mpandas\u001b[0m\u001b[0;34m.\u001b[0m\u001b[0mread_csv\u001b[0m\u001b[0;34m(\u001b[0m\u001b[0;34m)\u001b[0m\u001b[0;34m\u001b[0m\u001b[0;34m\u001b[0m\u001b[0m\n\u001b[0m",
      "\u001b[0;31mTypeError\u001b[0m: read_csv() missing 1 required positional argument: 'filepath_or_buffer'"
     ]
    }
   ],
   "source": [
    "pandas.read_csv()"
   ]
  },
  {
   "cell_type": "markdown",
   "id": "6e5df619",
   "metadata": {},
   "source": [
    "We can also use an alias to give a library a nickname to make it easier to use. `pd` is the standard alias for `pandas`"
   ]
  },
  {
   "cell_type": "code",
   "execution_count": 15,
   "id": "ddd1d3cf",
   "metadata": {},
   "outputs": [],
   "source": [
    "import pandas as pd"
   ]
  },
  {
   "cell_type": "markdown",
   "id": "b8c0a153",
   "metadata": {},
   "source": [
    "We can read in from a local path or a url. Let's read in the course map page of our course website."
   ]
  },
  {
   "cell_type": "code",
   "execution_count": 16,
   "id": "2999f750",
   "metadata": {},
   "outputs": [
    {
     "data": {
      "text/plain": [
       "[   Unnamed: 0_level_0                                             topics  \\\n",
       "                  week                                 Unnamed: 1_level_1   \n",
       " 0                   1                             [admin, python review]   \n",
       " 1                   2                        Loading data, Python review   \n",
       " 2                   3                          Exploratory Data Analysis   \n",
       " 3                   4                                      Data Cleaning   \n",
       " 4                   5                      Databases, Merging DataFrames   \n",
       " 5                   6  Modeling, Naive Bayes, classification performa...   \n",
       " 6                   7                   decision trees, cross validation   \n",
       " 7                   8                                         Regression   \n",
       " 8                   9                                         Clustering   \n",
       " 9                  10                              SVM, parameter tuning   \n",
       " 10                 11                              KNN, Model comparison   \n",
       " 11                 12                                      Text Analysis   \n",
       " 12                 13                                     Topic Modeling   \n",
       " 13                 14                                      Deep Learning   \n",
       " \n",
       "                              skills  \n",
       "                  Unnamed: 2_level_1  \n",
       " 0                           process  \n",
       " 1      [access, prepare, summarize]  \n",
       " 2            [summarize, visualize]  \n",
       " 3   [prepare, summarize, visualize]  \n",
       " 4    [access, construct, summarize]  \n",
       " 5        [classification, evaluate]  \n",
       " 6        [classification, evaluate]  \n",
       " 7            [regression, evaluate]  \n",
       " 8            [clustering, evaluate]  \n",
       " 9                 [optimize, tools]  \n",
       " 10                 [compare, tools]  \n",
       " 11                   [unstructured]  \n",
       " 12            [unstructured, tools]  \n",
       " 13                 [tools, compare]  ,\n",
       "    Unnamed: 0_level_0                                              skill  \\\n",
       "               keyword                                 Unnamed: 1_level_1   \n",
       " 0              python                              pythonic code writing   \n",
       " 1             process                 describe data science as a process   \n",
       " 2              access                    access data in multiple formats   \n",
       " 3           construct           construct datasets from multiple sources   \n",
       " 4           summarize                        Summarize and describe data   \n",
       " 5           visualize                                     Visualize data   \n",
       " 6             prepare                          prepare data for analysis   \n",
       " 7      classification                               Apply classification   \n",
       " 8          regression                                   Apply Regression   \n",
       " 9          clustering                                         Clustering   \n",
       " 10           evaluate                         Evaluate model performance   \n",
       " 11           optimize                          Optimize model parameters   \n",
       " 12            compare                                     compare models   \n",
       " 13       unstructured                            model unstructured data   \n",
       " 14           workflow  use industry standard data science tools and w...   \n",
       " \n",
       "                                               Level 1  \\\n",
       "                                    Unnamed: 2_level_1   \n",
       " 0   python code that mostly runs, occasional pep8 ...   \n",
       " 1           Identify basic components of data science   \n",
       " 2   load data from at least one format; identify t...   \n",
       " 3   identify what should happen to merge datasets ...   \n",
       " 4   Describe the shape and structure of a dataset ...   \n",
       " 5   identify plot types, generate basic plots from...   \n",
       " 6   identify if data is or is not ready for analys...   \n",
       " 7   identify and describe what classification is, ...   \n",
       " 8   identify what data that can be used for regres...   \n",
       " 9                         describe what clustering is   \n",
       " 10  Explain basic performance metrics for differen...   \n",
       " 11  Identify when model parameters need to be opti...   \n",
       " 12                Qualitatively compare model classes   \n",
       " 13  Identify options for representing text data an...   \n",
       " 14  Solve well strucutred problems with a single t...   \n",
       " \n",
       "                                               Level 2  \\\n",
       "                                    Unnamed: 3_level_1   \n",
       " 0   python code that reliably runs, frequent pep8 ...   \n",
       " 1   Describe and define each stage of the data sci...   \n",
       " 2   Load data for processing from the most common ...   \n",
       " 3                                  apply basic merges   \n",
       " 4   compute summary statndard statistics of a whol...   \n",
       " 5   generate multiple plot types with complete lab...   \n",
       " 6   apply data reshaping, cleaning, and filtering ...   \n",
       " 7   fit preselected classification model to a dataset   \n",
       " 8                    can fit linear regression models   \n",
       " 9                              apply basic clustering   \n",
       " 10  Apply basic model evaluation metrics to a held...   \n",
       " 11  Manually optimize basic model parameters such ...   \n",
       " 12  Compare model classes in specific terms and fi...   \n",
       " 13  Apply at least one representation to transform...   \n",
       " 14  Solve semi-strucutred, completely specified pr...   \n",
       " \n",
       "                                               Level 3  \n",
       "                                    Unnamed: 4_level_1  \n",
       " 0   reliable, efficient, pythonic code that consis...  \n",
       " 1   Compare different ways that data science can f...  \n",
       " 2   access data from both common and uncommon form...  \n",
       " 3        merge data that is not automatically aligned  \n",
       " 4   Compute and interpret various summary statisti...  \n",
       " 5   generate complex plots with pandas and plottin...  \n",
       " 6   apply data reshaping, cleaning, and filtering ...  \n",
       " 7   fit and apply classification models and select...  \n",
       " 8   can fit and explain regrularized or nonlinear ...  \n",
       " 9   apply multiple clustering techniques, and inte...  \n",
       " 10  Evaluate a model with multiple metrics and cro...  \n",
       " 11  Select optimal parameters based of mutiple qua...  \n",
       " 12  Evaluate tradeoffs between different model com...  \n",
       " 13  apply multiple representations and compare and...  \n",
       " 14  Scope, choose an appropriate tool pipeline and...  ,\n",
       "    Unnamed: 0_level_0                 A1                 A2  \\\n",
       "               keyword Unnamed: 1_level_1 Unnamed: 2_level_1   \n",
       " 0              python                  1                  1   \n",
       " 1             process                  1                  1   \n",
       " 2              access                  0                  1   \n",
       " 3           construct                  0                  0   \n",
       " 4           summarize                  0                  0   \n",
       " 5           visualize                  0                  0   \n",
       " 6             prepare                  0                  0   \n",
       " 7      classification                  0                  0   \n",
       " 8          regression                  0                  0   \n",
       " 9          clustering                  0                  0   \n",
       " 10           evaluate                  0                  0   \n",
       " 11           optimize                  0                  0   \n",
       " 12            compare                  0                  0   \n",
       " 13       unstructured                  0                  0   \n",
       " 14           workflow                  0                  0   \n",
       " \n",
       "                    A3                 A4                 A5  \\\n",
       "    Unnamed: 3_level_1 Unnamed: 4_level_1 Unnamed: 5_level_1   \n",
       " 0                   1                  1                  0   \n",
       " 1                   0                  0                  0   \n",
       " 2                   1                  1                  0   \n",
       " 3                   0                  0                  1   \n",
       " 4                   1                  1                  1   \n",
       " 5                   1                  1                  0   \n",
       " 6                   0                  1                  1   \n",
       " 7                   0                  0                  0   \n",
       " 8                   0                  0                  0   \n",
       " 9                   0                  0                  0   \n",
       " 10                  0                  0                  0   \n",
       " 11                  0                  0                  0   \n",
       " 12                  0                  0                  0   \n",
       " 13                  0                  0                  0   \n",
       " 14                  0                  0                  0   \n",
       " \n",
       "                    A6                 A7                 A8  \\\n",
       "    Unnamed: 6_level_1 Unnamed: 7_level_1 Unnamed: 8_level_1   \n",
       " 0                   0                  0                  0   \n",
       " 1                   0                  0                  0   \n",
       " 2                   0                  0                  0   \n",
       " 3                   1                  0                  0   \n",
       " 4                   1                  1                  1   \n",
       " 5                   1                  1                  1   \n",
       " 6                   0                  0                  0   \n",
       " 7                   1                  1                  0   \n",
       " 8                   0                  0                  1   \n",
       " 9                   0                  0                  0   \n",
       " 10                  0                  0                  0   \n",
       " 11                  0                  0                  0   \n",
       " 12                  0                  0                  0   \n",
       " 13                  0                  0                  0   \n",
       " 14                  0                  0                  0   \n",
       " \n",
       "                    A9                 A10                 A11  \\\n",
       "    Unnamed: 9_level_1 Unnamed: 10_level_1 Unnamed: 11_level_1   \n",
       " 0                   0                   0                   0   \n",
       " 1                   0                   0                   0   \n",
       " 2                   0                   0                   0   \n",
       " 3                   0                   0                   0   \n",
       " 4                   1                   1                   1   \n",
       " 5                   1                   1                   1   \n",
       " 6                   0                   0                   0   \n",
       " 7                   0                   1                   0   \n",
       " 8                   0                   0                   1   \n",
       " 9                   1                   0                   1   \n",
       " 10                  0                   1                   1   \n",
       " 11                  0                   1                   1   \n",
       " 12                  0                   0                   1   \n",
       " 13                  0                   0                   0   \n",
       " 14                  0                   1                   1   \n",
       " \n",
       "                    A12                 A13       # Assignments  \n",
       "    Unnamed: 12_level_1 Unnamed: 13_level_1 Unnamed: 14_level_1  \n",
       " 0                    0                   0                   4  \n",
       " 1                    0                   0                   2  \n",
       " 2                    0                   0                   3  \n",
       " 3                    0                   0                   2  \n",
       " 4                    1                   1                  11  \n",
       " 5                    1                   1                  10  \n",
       " 6                    0                   0                   2  \n",
       " 7                    0                   0                   3  \n",
       " 8                    0                   0                   2  \n",
       " 9                    0                   0                   2  \n",
       " 10                   0                   0                   2  \n",
       " 11                   0                   0                   2  \n",
       " 12                   0                   1                   2  \n",
       " 13                   1                   1                   2  \n",
       " 14                   1                   1                   4  ,\n",
       "    Unnamed: 0_level_0                                            Level 3  \\\n",
       "               keyword                                 Unnamed: 1_level_1   \n",
       " 0              python  reliable, efficient, pythonic code that consis...   \n",
       " 1             process  Compare different ways that data science can f...   \n",
       " 2              access  access data from both common and uncommon form...   \n",
       " 3           construct       merge data that is not automatically aligned   \n",
       " 4           summarize  Compute and interpret various summary statisti...   \n",
       " 5           visualize  generate complex plots with pandas and plottin...   \n",
       " 6             prepare  apply data reshaping, cleaning, and filtering ...   \n",
       " 7      classification  fit and apply classification models and select...   \n",
       " 8          regression  can fit and explain regrularized or nonlinear ...   \n",
       " 9          clustering  apply multiple clustering techniques, and inte...   \n",
       " 10           evaluate  Evaluate a model with multiple metrics and cro...   \n",
       " 11           optimize  Select optimal parameters based of mutiple qua...   \n",
       " 12            compare  Evaluate tradeoffs between different model com...   \n",
       " 13       unstructured  apply multiple representations and compare and...   \n",
       " 14           workflow  Scope, choose an appropriate tool pipeline and...   \n",
       " \n",
       "                    P1                 P2                 P3                 P4  \n",
       "    Unnamed: 2_level_1 Unnamed: 3_level_1 Unnamed: 4_level_1 Unnamed: 5_level_1  \n",
       " 0                   1                  1                  0                  0  \n",
       " 1                   0                  1                  1                  0  \n",
       " 2                   1                  1                  0                  0  \n",
       " 3                   1                  1                  0                  0  \n",
       " 4                   1                  1                  0                  0  \n",
       " 5                   1                  1                  0                  0  \n",
       " 6                   1                  1                  0                  0  \n",
       " 7                   0                  1                  1                  0  \n",
       " 8                   0                  1                  1                  0  \n",
       " 9                   0                  1                  1                  0  \n",
       " 10                  0                  1                  1                  0  \n",
       " 11                  0                  0                  1                  1  \n",
       " 12                  0                  0                  1                  1  \n",
       " 13                  0                  0                  1                  1  \n",
       " 14                  0                  0                  1                  1  ]"
      ]
     },
     "execution_count": 16,
     "metadata": {},
     "output_type": "execute_result"
    }
   ],
   "source": [
    "pd.read_html('https://rhodyprog4ds.github.io/BrownFall20/syllabus/course_map.html')"
   ]
  },
  {
   "cell_type": "markdown",
   "id": "06533554",
   "metadata": {},
   "source": [
    "This makes a `list` of `pandas.DataFrame` objects. We can check that with the following\n",
    "\n",
    "```{warning}\n",
    "This cell was added after class, but the explanation was given in class\n",
    "```"
   ]
  },
  {
   "cell_type": "code",
   "execution_count": 17,
   "id": "0c93b9c8",
   "metadata": {},
   "outputs": [
    {
     "data": {
      "text/plain": [
       "list"
      ]
     },
     "execution_count": 17,
     "metadata": {},
     "output_type": "execute_result"
    }
   ],
   "source": [
    "type(pd.read_html('https://rhodyprog4ds.github.io/BrownFall20/syllabus/course_map.html'))"
   ]
  },
  {
   "cell_type": "markdown",
   "id": "1dd2d7d4",
   "metadata": {},
   "source": [
    "To work with it though, we should save to a variable, then we can index into that list."
   ]
  },
  {
   "cell_type": "code",
   "execution_count": 18,
   "id": "44165727",
   "metadata": {},
   "outputs": [
    {
     "data": {
      "text/html": [
       "<div>\n",
       "<style scoped>\n",
       "    .dataframe tbody tr th:only-of-type {\n",
       "        vertical-align: middle;\n",
       "    }\n",
       "\n",
       "    .dataframe tbody tr th {\n",
       "        vertical-align: top;\n",
       "    }\n",
       "\n",
       "    .dataframe thead tr th {\n",
       "        text-align: left;\n",
       "    }\n",
       "</style>\n",
       "<table border=\"1\" class=\"dataframe\">\n",
       "  <thead>\n",
       "    <tr>\n",
       "      <th></th>\n",
       "      <th>Unnamed: 0_level_0</th>\n",
       "      <th>topics</th>\n",
       "      <th>skills</th>\n",
       "    </tr>\n",
       "    <tr>\n",
       "      <th></th>\n",
       "      <th>week</th>\n",
       "      <th>Unnamed: 1_level_1</th>\n",
       "      <th>Unnamed: 2_level_1</th>\n",
       "    </tr>\n",
       "  </thead>\n",
       "  <tbody>\n",
       "    <tr>\n",
       "      <th>0</th>\n",
       "      <td>1</td>\n",
       "      <td>[admin, python review]</td>\n",
       "      <td>process</td>\n",
       "    </tr>\n",
       "    <tr>\n",
       "      <th>1</th>\n",
       "      <td>2</td>\n",
       "      <td>Loading data, Python review</td>\n",
       "      <td>[access, prepare, summarize]</td>\n",
       "    </tr>\n",
       "    <tr>\n",
       "      <th>2</th>\n",
       "      <td>3</td>\n",
       "      <td>Exploratory Data Analysis</td>\n",
       "      <td>[summarize, visualize]</td>\n",
       "    </tr>\n",
       "    <tr>\n",
       "      <th>3</th>\n",
       "      <td>4</td>\n",
       "      <td>Data Cleaning</td>\n",
       "      <td>[prepare, summarize, visualize]</td>\n",
       "    </tr>\n",
       "    <tr>\n",
       "      <th>4</th>\n",
       "      <td>5</td>\n",
       "      <td>Databases, Merging DataFrames</td>\n",
       "      <td>[access, construct, summarize]</td>\n",
       "    </tr>\n",
       "    <tr>\n",
       "      <th>5</th>\n",
       "      <td>6</td>\n",
       "      <td>Modeling, Naive Bayes, classification performa...</td>\n",
       "      <td>[classification, evaluate]</td>\n",
       "    </tr>\n",
       "    <tr>\n",
       "      <th>6</th>\n",
       "      <td>7</td>\n",
       "      <td>decision trees, cross validation</td>\n",
       "      <td>[classification, evaluate]</td>\n",
       "    </tr>\n",
       "    <tr>\n",
       "      <th>7</th>\n",
       "      <td>8</td>\n",
       "      <td>Regression</td>\n",
       "      <td>[regression, evaluate]</td>\n",
       "    </tr>\n",
       "    <tr>\n",
       "      <th>8</th>\n",
       "      <td>9</td>\n",
       "      <td>Clustering</td>\n",
       "      <td>[clustering, evaluate]</td>\n",
       "    </tr>\n",
       "    <tr>\n",
       "      <th>9</th>\n",
       "      <td>10</td>\n",
       "      <td>SVM, parameter tuning</td>\n",
       "      <td>[optimize, tools]</td>\n",
       "    </tr>\n",
       "    <tr>\n",
       "      <th>10</th>\n",
       "      <td>11</td>\n",
       "      <td>KNN, Model comparison</td>\n",
       "      <td>[compare, tools]</td>\n",
       "    </tr>\n",
       "    <tr>\n",
       "      <th>11</th>\n",
       "      <td>12</td>\n",
       "      <td>Text Analysis</td>\n",
       "      <td>[unstructured]</td>\n",
       "    </tr>\n",
       "    <tr>\n",
       "      <th>12</th>\n",
       "      <td>13</td>\n",
       "      <td>Topic Modeling</td>\n",
       "      <td>[unstructured, tools]</td>\n",
       "    </tr>\n",
       "    <tr>\n",
       "      <th>13</th>\n",
       "      <td>14</td>\n",
       "      <td>Deep Learning</td>\n",
       "      <td>[tools, compare]</td>\n",
       "    </tr>\n",
       "  </tbody>\n",
       "</table>\n",
       "</div>"
      ],
      "text/plain": [
       "   Unnamed: 0_level_0                                             topics  \\\n",
       "                 week                                 Unnamed: 1_level_1   \n",
       "0                   1                             [admin, python review]   \n",
       "1                   2                        Loading data, Python review   \n",
       "2                   3                          Exploratory Data Analysis   \n",
       "3                   4                                      Data Cleaning   \n",
       "4                   5                      Databases, Merging DataFrames   \n",
       "5                   6  Modeling, Naive Bayes, classification performa...   \n",
       "6                   7                   decision trees, cross validation   \n",
       "7                   8                                         Regression   \n",
       "8                   9                                         Clustering   \n",
       "9                  10                              SVM, parameter tuning   \n",
       "10                 11                              KNN, Model comparison   \n",
       "11                 12                                      Text Analysis   \n",
       "12                 13                                     Topic Modeling   \n",
       "13                 14                                      Deep Learning   \n",
       "\n",
       "                             skills  \n",
       "                 Unnamed: 2_level_1  \n",
       "0                           process  \n",
       "1      [access, prepare, summarize]  \n",
       "2            [summarize, visualize]  \n",
       "3   [prepare, summarize, visualize]  \n",
       "4    [access, construct, summarize]  \n",
       "5        [classification, evaluate]  \n",
       "6        [classification, evaluate]  \n",
       "7            [regression, evaluate]  \n",
       "8            [clustering, evaluate]  \n",
       "9                 [optimize, tools]  \n",
       "10                 [compare, tools]  \n",
       "11                   [unstructured]  \n",
       "12            [unstructured, tools]  \n",
       "13                 [tools, compare]  "
      ]
     },
     "execution_count": 18,
     "metadata": {},
     "output_type": "execute_result"
    }
   ],
   "source": [
    "df_list = pd.read_html('https://rhodyprog4ds.github.io/BrownFall20/syllabus/course_map.html')\n",
    "df_list[0]"
   ]
  },
  {
   "cell_type": "markdown",
   "id": "674c3ee0",
   "metadata": {},
   "source": [
    "When you display `DataFrames` in jupyter, they get nice formatting."
   ]
  },
  {
   "cell_type": "markdown",
   "id": "98bfd245",
   "metadata": {},
   "source": [
    "## Review & Further Reading\n",
    "\n",
    "- [strings](https://docs.python.org/3/library/stdtypes.html#textseq) are [iterable](https://docs.python.org/3/library/stdtypes.html#iterator-types), more specifically [sequences](https://docs.python.org/3/library/stdtypes.html#sequence-types-list-tuple-range)\n",
    "- [`for` loops](https://docs.python.org/3/tutorial/controlflow.html#for-statements), [looping techniques](https://docs.python.org/3/tutorial/datastructures.html#looping-techniques) and [list comprehensions](https://docs.python.org/3/tutorial/datastructures.html#list-comprehensions)\n",
    "- [dictionaries](https://docs.python.org/3/library/stdtypes.html#dict)\n",
    "- imported [`pandas`](https://pandas.pydata.org/docs/user_guide/index.html) and [read data from a website](https://pandas.pydata.org/pandas-docs/stable/reference/api/pandas.read_html.html)\n",
    "\n",
    "If you've made it this far, [let me know](https://forms.gle/PDATAmuRS5tAHiiZ8) how you found these notes."
   ]
  }
 ],
 "metadata": {
  "jupytext": {
   "text_representation": {
    "extension": ".md",
    "format_name": "myst",
    "format_version": 0.12,
    "jupytext_version": "1.6.0"
   }
  },
  "kernelspec": {
   "display_name": "Python 3",
   "language": "python",
   "name": "python3"
  },
  "language_info": {
   "codemirror_mode": {
    "name": "ipython",
    "version": 3
   },
   "file_extension": ".py",
   "mimetype": "text/x-python",
   "name": "python",
   "nbconvert_exporter": "python",
   "pygments_lexer": "ipython3",
   "version": "3.7.10"
  },
  "source_map": [
   12,
   38,
   40,
   50,
   52,
   55,
   57,
   60,
   63,
   74,
   76,
   80,
   82,
   86,
   90,
   92,
   98,
   103,
   106,
   108,
   112,
   115,
   118,
   121,
   133,
   135,
   145,
   148,
   152,
   154,
   158,
   160,
   168,
   170,
   174,
   177,
   181
  ]
 },
 "nbformat": 4,
 "nbformat_minor": 5
}