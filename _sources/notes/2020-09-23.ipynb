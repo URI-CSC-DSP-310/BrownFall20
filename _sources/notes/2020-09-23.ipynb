{
 "cells": [
  {
   "cell_type": "markdown",
   "metadata": {},
   "source": [
    "# Visualization for EDA\n",
    "\n",
    "\n",
    "## Announcements\n",
    "\n",
    "Syllabus updated\n",
    "1. [rubric](https://github.com/rhodyprog4ds/BrownFall20/commit/315ce164bc4bd4b7d5ee321afd9143e08f05c07b#diff-1e595cb12e4db779fb0c857562c1e0dd) for summarize and visualize are slightly changed\n",
    "1. [Please accept assignments](https://github.com/rhodyprog4ds/BrownFall20/commit/f459e8b04dc0b09d2dadba10464f49b25de57190) if you plan to not complete for any reason\n",
    "\n",
    "\n",
    "Assignment updated to [clarify continuous and categorical variables](https://github.com/rhodyprog4ds/BrownFall20/commit/f719a92c4d5dd00cbe8bf646d9d63280fb4b1e50)\n",
    "\n",
    "\n",
    "## Loading Data\n",
    "\n",
    "Importing the libraries for today. We'll continue plotting with pandas and we'll use  [`seaborn`](https://seaborn.pydata.org/introduction.html) as well. Seaborn provides higher level plotting functions and [better formatting](https://seaborn.pydata.org/examples/index.html).\n",
    "\n",
    "````{margin}\n",
    "The alias for `seaborn` is `sns` the result of an [inside joke](https://github.com/mwaskom/seaborn/issues/229) among the developers in reference so [Samuel Norman Seaborn](https://en.wikipedia.org/wiki/Sam_Seaborn) on The West Wing, per [stackexchange](https://stackoverflow.com/questions/41499857/seaborn-why-import-as-sns)\n",
    "````"
   ]
  },
  {
   "cell_type": "code",
   "execution_count": 1,
   "metadata": {},
   "outputs": [
    {
     "ename": "ModuleNotFoundError",
     "evalue": "No module named 'seaborn'",
     "output_type": "error",
     "traceback": [
      "\u001b[0;31m---------------------------------------------------------------------------\u001b[0m",
      "\u001b[0;31mModuleNotFoundError\u001b[0m                       Traceback (most recent call last)",
      "\u001b[0;32m<ipython-input-1-61e0adcaee13>\u001b[0m in \u001b[0;36m<module>\u001b[0;34m\u001b[0m\n\u001b[1;32m      1\u001b[0m \u001b[0;32mimport\u001b[0m \u001b[0mpandas\u001b[0m \u001b[0;32mas\u001b[0m \u001b[0mpd\u001b[0m\u001b[0;34m\u001b[0m\u001b[0;34m\u001b[0m\u001b[0m\n\u001b[0;32m----> 2\u001b[0;31m \u001b[0;32mimport\u001b[0m \u001b[0mseaborn\u001b[0m \u001b[0;32mas\u001b[0m \u001b[0msns\u001b[0m\u001b[0;34m\u001b[0m\u001b[0;34m\u001b[0m\u001b[0m\n\u001b[0m",
      "\u001b[0;31mModuleNotFoundError\u001b[0m: No module named 'seaborn'"
     ]
    }
   ],
   "source": [
    "import pandas as pd\n",
    "import seaborn as sns"
   ]
  },
  {
   "cell_type": "markdown",
   "metadata": {},
   "source": [
    "loading the data as usual"
   ]
  },
  {
   "cell_type": "code",
   "execution_count": 2,
   "metadata": {},
   "outputs": [],
   "source": [
    "data_url = 'https://raw.githubusercontent.com/brownsarahm/python-socialsci-files/master/data/SAFI_full_shortname.csv'"
   ]
  },
  {
   "cell_type": "markdown",
   "metadata": {},
   "source": [
    "We know that the `key_id` column should be used as an index, not as data, so we'll use the `index_col` parameter t do that from the beginning."
   ]
  },
  {
   "cell_type": "code",
   "execution_count": 3,
   "metadata": {},
   "outputs": [
    {
     "data": {
      "text/html": [
       "<div>\n",
       "<style scoped>\n",
       "    .dataframe tbody tr th:only-of-type {\n",
       "        vertical-align: middle;\n",
       "    }\n",
       "\n",
       "    .dataframe tbody tr th {\n",
       "        vertical-align: top;\n",
       "    }\n",
       "\n",
       "    .dataframe thead th {\n",
       "        text-align: right;\n",
       "    }\n",
       "</style>\n",
       "<table border=\"1\" class=\"dataframe\">\n",
       "  <thead>\n",
       "    <tr style=\"text-align: right;\">\n",
       "      <th></th>\n",
       "      <th>interview_date</th>\n",
       "      <th>quest_no</th>\n",
       "      <th>start</th>\n",
       "      <th>end</th>\n",
       "      <th>province</th>\n",
       "      <th>district</th>\n",
       "      <th>ward</th>\n",
       "      <th>village</th>\n",
       "      <th>years_farm</th>\n",
       "      <th>agr_assoc</th>\n",
       "      <th>...</th>\n",
       "      <th>items_owned</th>\n",
       "      <th>items_owned_other</th>\n",
       "      <th>no_meals</th>\n",
       "      <th>months_lack_food</th>\n",
       "      <th>no_food_mitigation</th>\n",
       "      <th>gps_Latitude</th>\n",
       "      <th>gps_Longitude</th>\n",
       "      <th>gps_Altitude</th>\n",
       "      <th>gps_Accuracy</th>\n",
       "      <th>instanceID</th>\n",
       "    </tr>\n",
       "    <tr>\n",
       "      <th>key_id</th>\n",
       "      <th></th>\n",
       "      <th></th>\n",
       "      <th></th>\n",
       "      <th></th>\n",
       "      <th></th>\n",
       "      <th></th>\n",
       "      <th></th>\n",
       "      <th></th>\n",
       "      <th></th>\n",
       "      <th></th>\n",
       "      <th></th>\n",
       "      <th></th>\n",
       "      <th></th>\n",
       "      <th></th>\n",
       "      <th></th>\n",
       "      <th></th>\n",
       "      <th></th>\n",
       "      <th></th>\n",
       "      <th></th>\n",
       "      <th></th>\n",
       "      <th></th>\n",
       "    </tr>\n",
       "  </thead>\n",
       "  <tbody>\n",
       "    <tr>\n",
       "      <th>1</th>\n",
       "      <td>17 November 2016</td>\n",
       "      <td>1</td>\n",
       "      <td>2017-03-23T09:49:57.000Z</td>\n",
       "      <td>2017-04-02T17:29:08.000Z</td>\n",
       "      <td>Manica</td>\n",
       "      <td>Manica</td>\n",
       "      <td>Bandula</td>\n",
       "      <td>God</td>\n",
       "      <td>11</td>\n",
       "      <td>no</td>\n",
       "      <td>...</td>\n",
       "      <td>['bicycle' ;  'television' ;  'solar_panel' ; ...</td>\n",
       "      <td>NaN</td>\n",
       "      <td>2</td>\n",
       "      <td>['Jan']</td>\n",
       "      <td>['na' ;  'rely_less_food' ;  'reduce_meals' ; ...</td>\n",
       "      <td>-19.112259</td>\n",
       "      <td>33.483456</td>\n",
       "      <td>698</td>\n",
       "      <td>14.0</td>\n",
       "      <td>uuid:ec241f2c-0609-46ed-b5e8-fe575f6cefef</td>\n",
       "    </tr>\n",
       "    <tr>\n",
       "      <th>2</th>\n",
       "      <td>17 November 2016</td>\n",
       "      <td>1</td>\n",
       "      <td>2017-04-02T09:48:16.000Z</td>\n",
       "      <td>2017-04-02T17:26:19.000Z</td>\n",
       "      <td>Manica</td>\n",
       "      <td>Manica</td>\n",
       "      <td>Bandula</td>\n",
       "      <td>God</td>\n",
       "      <td>2</td>\n",
       "      <td>yes</td>\n",
       "      <td>...</td>\n",
       "      <td>['cow_cart' ;  'bicycle' ;  'radio' ;  'cow_pl...</td>\n",
       "      <td>NaN</td>\n",
       "      <td>2</td>\n",
       "      <td>['Jan' ;  'Sept' ;  'Oct' ;  'Nov' ;  'Dec']</td>\n",
       "      <td>['na' ;  'reduce_meals' ;  'restrict_adults' ;...</td>\n",
       "      <td>-19.112477</td>\n",
       "      <td>33.483416</td>\n",
       "      <td>690</td>\n",
       "      <td>19.0</td>\n",
       "      <td>uuid:099de9c9-3e5e-427b-8452-26250e840d6e</td>\n",
       "    </tr>\n",
       "    <tr>\n",
       "      <th>3</th>\n",
       "      <td>17 November 2016</td>\n",
       "      <td>3</td>\n",
       "      <td>2017-04-02T14:35:26.000Z</td>\n",
       "      <td>2017-04-02T17:26:53.000Z</td>\n",
       "      <td>Manica</td>\n",
       "      <td>Manica</td>\n",
       "      <td>Bandula</td>\n",
       "      <td>God</td>\n",
       "      <td>40</td>\n",
       "      <td>no</td>\n",
       "      <td>...</td>\n",
       "      <td>['solar_torch']</td>\n",
       "      <td>NaN</td>\n",
       "      <td>2</td>\n",
       "      <td>['Jan' ;  'Feb' ;  'Mar' ;  'Oct' ;  'Nov' ;  ...</td>\n",
       "      <td>['na' ;  'restrict_adults' ;  'lab_ex_food']</td>\n",
       "      <td>-19.112108</td>\n",
       "      <td>33.483450</td>\n",
       "      <td>674</td>\n",
       "      <td>13.0</td>\n",
       "      <td>uuid:193d7daf-9582-409b-bf09-027dd36f9007</td>\n",
       "    </tr>\n",
       "    <tr>\n",
       "      <th>4</th>\n",
       "      <td>17 November 2016</td>\n",
       "      <td>4</td>\n",
       "      <td>2017-04-02T14:55:18.000Z</td>\n",
       "      <td>2017-04-02T17:27:16.000Z</td>\n",
       "      <td>Manica</td>\n",
       "      <td>Manica</td>\n",
       "      <td>Bandula</td>\n",
       "      <td>God</td>\n",
       "      <td>6</td>\n",
       "      <td>no</td>\n",
       "      <td>...</td>\n",
       "      <td>['bicycle' ;  'radio' ;  'cow_plough' ;  'sola...</td>\n",
       "      <td>NaN</td>\n",
       "      <td>2</td>\n",
       "      <td>['Sept' ;  'Oct' ;  'Nov' ;  'Dec']</td>\n",
       "      <td>['na' ;  'reduce_meals' ;  'restrict_adults' ;...</td>\n",
       "      <td>-19.112229</td>\n",
       "      <td>33.483424</td>\n",
       "      <td>679</td>\n",
       "      <td>5.0</td>\n",
       "      <td>uuid:148d1105-778a-4755-aa71-281eadd4a973</td>\n",
       "    </tr>\n",
       "    <tr>\n",
       "      <th>5</th>\n",
       "      <td>17 November 2016</td>\n",
       "      <td>5</td>\n",
       "      <td>2017-04-02T15:10:35.000Z</td>\n",
       "      <td>2017-04-02T17:27:35.000Z</td>\n",
       "      <td>Manica</td>\n",
       "      <td>Manica</td>\n",
       "      <td>Bandula</td>\n",
       "      <td>God</td>\n",
       "      <td>18</td>\n",
       "      <td>no</td>\n",
       "      <td>...</td>\n",
       "      <td>['motorcyle' ;  'radio' ;  'cow_plough' ;  'mo...</td>\n",
       "      <td>NaN</td>\n",
       "      <td>2</td>\n",
       "      <td>['Aug' ;  'Sept' ;  'Oct' ;  'Nov']</td>\n",
       "      <td>['na' ;  'go_forest' ;  'migrate']</td>\n",
       "      <td>-19.112217</td>\n",
       "      <td>33.483425</td>\n",
       "      <td>689</td>\n",
       "      <td>10.0</td>\n",
       "      <td>uuid:2c867811-9696-4966-9866-f35c3e97d02d</td>\n",
       "    </tr>\n",
       "  </tbody>\n",
       "</table>\n",
       "<p>5 rows × 64 columns</p>\n",
       "</div>"
      ],
      "text/plain": [
       "          interview_date  quest_no                     start  \\\n",
       "key_id                                                         \n",
       "1       17 November 2016         1  2017-03-23T09:49:57.000Z   \n",
       "2       17 November 2016         1  2017-04-02T09:48:16.000Z   \n",
       "3       17 November 2016         3  2017-04-02T14:35:26.000Z   \n",
       "4       17 November 2016         4  2017-04-02T14:55:18.000Z   \n",
       "5       17 November 2016         5  2017-04-02T15:10:35.000Z   \n",
       "\n",
       "                             end province district     ward village  \\\n",
       "key_id                                                                \n",
       "1       2017-04-02T17:29:08.000Z   Manica   Manica  Bandula     God   \n",
       "2       2017-04-02T17:26:19.000Z   Manica   Manica  Bandula     God   \n",
       "3       2017-04-02T17:26:53.000Z   Manica   Manica  Bandula     God   \n",
       "4       2017-04-02T17:27:16.000Z   Manica   Manica  Bandula     God   \n",
       "5       2017-04-02T17:27:35.000Z   Manica   Manica  Bandula     God   \n",
       "\n",
       "        years_farm agr_assoc  ...  \\\n",
       "key_id                        ...   \n",
       "1               11        no  ...   \n",
       "2                2       yes  ...   \n",
       "3               40        no  ...   \n",
       "4                6        no  ...   \n",
       "5               18        no  ...   \n",
       "\n",
       "                                              items_owned  items_owned_other  \\\n",
       "key_id                                                                         \n",
       "1       ['bicycle' ;  'television' ;  'solar_panel' ; ...                NaN   \n",
       "2       ['cow_cart' ;  'bicycle' ;  'radio' ;  'cow_pl...                NaN   \n",
       "3                                         ['solar_torch']                NaN   \n",
       "4       ['bicycle' ;  'radio' ;  'cow_plough' ;  'sola...                NaN   \n",
       "5       ['motorcyle' ;  'radio' ;  'cow_plough' ;  'mo...                NaN   \n",
       "\n",
       "        no_meals                                   months_lack_food  \\\n",
       "key_id                                                                \n",
       "1              2                                            ['Jan']   \n",
       "2              2       ['Jan' ;  'Sept' ;  'Oct' ;  'Nov' ;  'Dec']   \n",
       "3              2  ['Jan' ;  'Feb' ;  'Mar' ;  'Oct' ;  'Nov' ;  ...   \n",
       "4              2                ['Sept' ;  'Oct' ;  'Nov' ;  'Dec']   \n",
       "5              2                ['Aug' ;  'Sept' ;  'Oct' ;  'Nov']   \n",
       "\n",
       "                                       no_food_mitigation gps_Latitude  \\\n",
       "key_id                                                                   \n",
       "1       ['na' ;  'rely_less_food' ;  'reduce_meals' ; ...   -19.112259   \n",
       "2       ['na' ;  'reduce_meals' ;  'restrict_adults' ;...   -19.112477   \n",
       "3            ['na' ;  'restrict_adults' ;  'lab_ex_food']   -19.112108   \n",
       "4       ['na' ;  'reduce_meals' ;  'restrict_adults' ;...   -19.112229   \n",
       "5                      ['na' ;  'go_forest' ;  'migrate']   -19.112217   \n",
       "\n",
       "       gps_Longitude gps_Altitude gps_Accuracy  \\\n",
       "key_id                                           \n",
       "1          33.483456          698         14.0   \n",
       "2          33.483416          690         19.0   \n",
       "3          33.483450          674         13.0   \n",
       "4          33.483424          679          5.0   \n",
       "5          33.483425          689         10.0   \n",
       "\n",
       "                                       instanceID  \n",
       "key_id                                             \n",
       "1       uuid:ec241f2c-0609-46ed-b5e8-fe575f6cefef  \n",
       "2       uuid:099de9c9-3e5e-427b-8452-26250e840d6e  \n",
       "3       uuid:193d7daf-9582-409b-bf09-027dd36f9007  \n",
       "4       uuid:148d1105-778a-4755-aa71-281eadd4a973  \n",
       "5       uuid:2c867811-9696-4966-9866-f35c3e97d02d  \n",
       "\n",
       "[5 rows x 64 columns]"
      ]
     },
     "execution_count": 3,
     "metadata": {},
     "output_type": "execute_result"
    }
   ],
   "source": [
    "safi_df = pd.read_csv(data_url,index_col='key_id')\n",
    "safi_df.head()"
   ]
  },
  {
   "cell_type": "markdown",
   "metadata": {},
   "source": [
    "We can make scatter plots as we saw Friday."
   ]
  },
  {
   "cell_type": "code",
   "execution_count": 4,
   "metadata": {},
   "outputs": [
    {
     "data": {
      "text/plain": [
       "<AxesSubplot:xlabel='gps_Latitude', ylabel='gps_Longitude'>"
      ]
     },
     "execution_count": 4,
     "metadata": {},
     "output_type": "execute_result"
    },
    {
     "data": {
      "image/png": "[encoded data removed]",
      "text/plain": [
       "<Figure size 432x288 with 1 Axes>"
      ]
     },
     "metadata": {
      "filenames": {
       "image/png": "/home/runner/work/BrownFall20/BrownFall20/_build/jupyter_execute/notes/2020-09-23_7_1.png"
      },
      "needs_background": "light"
     },
     "output_type": "display_data"
    }
   ],
   "source": [
    "safi_df.plot.scatter('gps_Latitude','gps_Longitude')"
   ]
  },
  {
   "cell_type": "markdown",
   "metadata": {},
   "source": [
    "With seaborn, however, we can control it more, changing the color of the points based on a column of the data."
   ]
  },
  {
   "cell_type": "code",
   "execution_count": 5,
   "metadata": {},
   "outputs": [
    {
     "ename": "NameError",
     "evalue": "name 'sns' is not defined",
     "output_type": "error",
     "traceback": [
      "\u001b[0;31m---------------------------------------------------------------------------\u001b[0m",
      "\u001b[0;31mNameError\u001b[0m                                 Traceback (most recent call last)",
      "\u001b[0;32m<ipython-input-5-656822e1da8a>\u001b[0m in \u001b[0;36m<module>\u001b[0;34m\u001b[0m\n\u001b[0;32m----> 1\u001b[0;31m sns.relplot(x= 'gps_Latitude',y='gps_Longitude',\n\u001b[0m\u001b[1;32m      2\u001b[0m            data=safi_df, hue='village')\n",
      "\u001b[0;31mNameError\u001b[0m: name 'sns' is not defined"
     ]
    }
   ],
   "source": [
    "sns.relplot(x= 'gps_Latitude',y='gps_Longitude',\n",
    "           data=safi_df, hue='village')"
   ]
  },
  {
   "cell_type": "markdown",
   "metadata": {},
   "source": [
    "We can also plot a single variable to see the quantiles (the box is 25%-50%) and see if there are outliers (the points outside the box)."
   ]
  },
  {
   "cell_type": "code",
   "execution_count": 6,
   "metadata": {},
   "outputs": [
    {
     "data": {
      "text/plain": [
       "<AxesSubplot:>"
      ]
     },
     "execution_count": 6,
     "metadata": {},
     "output_type": "execute_result"
    },
    {
     "data": {
      "image/png": "[encoded data removed]",
      "text/plain": [
       "<Figure size 432x288 with 1 Axes>"
      ]
     },
     "metadata": {
      "filenames": {
       "image/png": "/home/runner/work/BrownFall20/BrownFall20/_build/jupyter_execute/notes/2020-09-23_11_1.png"
      },
      "needs_background": "light"
     },
     "output_type": "display_data"
    }
   ],
   "source": [
    "safi_df.boxplot('years_farm')"
   ]
  },
  {
   "cell_type": "markdown",
   "metadata": {},
   "source": [
    "We can do some more conditiioning, even with only pandas. Using the `by` parameter will do a `groupby` operation first and then make the plot."
   ]
  },
  {
   "cell_type": "code",
   "execution_count": 7,
   "metadata": {},
   "outputs": [
    {
     "data": {
      "text/plain": [
       "<AxesSubplot:title={'center':'years_farm'}, xlabel='village'>"
      ]
     },
     "execution_count": 7,
     "metadata": {},
     "output_type": "execute_result"
    },
    {
     "data": {
      "image/png": "[encoded data removed]",
      "text/plain": [
       "<Figure size 432x288 with 1 Axes>"
      ]
     },
     "metadata": {
      "filenames": {
       "image/png": "/home/runner/work/BrownFall20/BrownFall20/_build/jupyter_execute/notes/2020-09-23_13_1.png"
      },
      "needs_background": "light"
     },
     "output_type": "display_data"
    }
   ],
   "source": [
    "safi_df.boxplot('years_farm', by='village')"
   ]
  },
  {
   "cell_type": "markdown",
   "metadata": {},
   "source": [
    "We can also make the figure larger"
   ]
  },
  {
   "cell_type": "code",
   "execution_count": 8,
   "metadata": {},
   "outputs": [
    {
     "data": {
      "text/plain": [
       "<AxesSubplot:title={'center':'years_farm'}, xlabel='village'>"
      ]
     },
     "execution_count": 8,
     "metadata": {},
     "output_type": "execute_result"
    },
    {
     "data": {
      "image/png": "[encoded data removed]",
      "text/plain": [
       "<Figure size 864x576 with 1 Axes>"
      ]
     },
     "metadata": {
      "filenames": {
       "image/png": "/home/runner/work/BrownFall20/BrownFall20/_build/jupyter_execute/notes/2020-09-23_15_1.png"
      },
      "needs_background": "light"
     },
     "output_type": "display_data"
    }
   ],
   "source": [
    "safi_df.boxplot('years_farm', by='village',figsize=(12,8))"
   ]
  },
  {
   "cell_type": "markdown",
   "metadata": {},
   "source": [
    "We can see how a single variable is distributed in more detail with the [seaborn displot](https://seaborn.pydata.org/generated/seaborn.displot.html#seaborn.displot)."
   ]
  },
  {
   "cell_type": "code",
   "execution_count": 9,
   "metadata": {},
   "outputs": [
    {
     "ename": "NameError",
     "evalue": "name 'sns' is not defined",
     "output_type": "error",
     "traceback": [
      "\u001b[0;31m---------------------------------------------------------------------------\u001b[0m",
      "\u001b[0;31mNameError\u001b[0m                                 Traceback (most recent call last)",
      "\u001b[0;32m<ipython-input-9-b6111069f3f7>\u001b[0m in \u001b[0;36m<module>\u001b[0;34m\u001b[0m\n\u001b[0;32m----> 1\u001b[0;31m \u001b[0msns\u001b[0m\u001b[0;34m.\u001b[0m\u001b[0mdisplot\u001b[0m\u001b[0;34m(\u001b[0m\u001b[0mdata\u001b[0m\u001b[0;34m=\u001b[0m\u001b[0msafi_df\u001b[0m\u001b[0;34m,\u001b[0m \u001b[0mx\u001b[0m\u001b[0;34m=\u001b[0m\u001b[0;34m'years_farm'\u001b[0m\u001b[0;34m,\u001b[0m\u001b[0mcol\u001b[0m\u001b[0;34m=\u001b[0m\u001b[0;34m'village'\u001b[0m\u001b[0;34m)\u001b[0m\u001b[0;34m\u001b[0m\u001b[0;34m\u001b[0m\u001b[0m\n\u001b[0m",
      "\u001b[0;31mNameError\u001b[0m: name 'sns' is not defined"
     ]
    }
   ],
   "source": [
    "sns.displot(data=safi_df, x='years_farm',col='village')"
   ]
  },
  {
   "cell_type": "code",
   "execution_count": 10,
   "metadata": {},
   "outputs": [
    {
     "ename": "NameError",
     "evalue": "name 'sns' is not defined",
     "output_type": "error",
     "traceback": [
      "\u001b[0;31m---------------------------------------------------------------------------\u001b[0m",
      "\u001b[0;31mNameError\u001b[0m                                 Traceback (most recent call last)",
      "\u001b[0;32m<ipython-input-10-daeba54c6e9a>\u001b[0m in \u001b[0;36m<module>\u001b[0;34m\u001b[0m\n\u001b[0;32m----> 1\u001b[0;31m \u001b[0msns\u001b[0m\u001b[0;34m.\u001b[0m\u001b[0mdisplot\u001b[0m\u001b[0;34m(\u001b[0m\u001b[0mdata\u001b[0m\u001b[0;34m=\u001b[0m\u001b[0msafi_df\u001b[0m\u001b[0;34m,\u001b[0m \u001b[0mx\u001b[0m\u001b[0;34m=\u001b[0m\u001b[0;34m'years_farm'\u001b[0m\u001b[0;34m,\u001b[0m\u001b[0mcol\u001b[0m\u001b[0;34m=\u001b[0m\u001b[0;34m'village'\u001b[0m\u001b[0;34m,\u001b[0m\u001b[0mkind\u001b[0m\u001b[0;34m=\u001b[0m\u001b[0;34m'kde'\u001b[0m\u001b[0;34m)\u001b[0m\u001b[0;34m\u001b[0m\u001b[0;34m\u001b[0m\u001b[0m\n\u001b[0m",
      "\u001b[0;31mNameError\u001b[0m: name 'sns' is not defined"
     ]
    }
   ],
   "source": [
    "sns.displot(data=safi_df, x='years_farm',col='village',kind='kde')"
   ]
  },
  {
   "cell_type": "markdown",
   "metadata": {},
   "source": [
    "## Updating Seaborn\n",
    "the `displot` is new in seaborn 0.11, on your terminal (mac, linux) or anaconda prompt(Windows):\n",
    "```\n",
    "pip install update seaborn\n",
    "```\n",
    "\n",
    "Then restart your notebook's kernel and re-run all cells\n",
    "\n",
    "or, in a notebook, you can update with\n",
    "```{margin}\n",
    "This is set to not run on the served site\n",
    "```\n",
    "\n",
    "```\n",
    "!pip install seaborn==0.11.0\n",
    "```\n",
    "\n",
    "## Regression plots\n",
    "\n",
    "We can also plot with some calculations done for us already."
   ]
  },
  {
   "cell_type": "code",
   "execution_count": 11,
   "metadata": {},
   "outputs": [
    {
     "ename": "NameError",
     "evalue": "name 'sns' is not defined",
     "output_type": "error",
     "traceback": [
      "\u001b[0;31m---------------------------------------------------------------------------\u001b[0m",
      "\u001b[0;31mNameError\u001b[0m                                 Traceback (most recent call last)",
      "\u001b[0;32m<ipython-input-11-3dac5b918d01>\u001b[0m in \u001b[0;36m<module>\u001b[0;34m\u001b[0m\n\u001b[0;32m----> 1\u001b[0;31m sns.lmplot(x='years_farm',y='years_liv', data=safi_df,\n\u001b[0m\u001b[1;32m      2\u001b[0m            hue='village')\n",
      "\u001b[0;31mNameError\u001b[0m: name 'sns' is not defined"
     ]
    }
   ],
   "source": [
    "sns.lmplot(x='years_farm',y='years_liv', data=safi_df,\n",
    "           hue='village')"
   ]
  },
  {
   "cell_type": "markdown",
   "metadata": {},
   "source": [
    "And we can make grids of plots with the `row` and `col` parameters. We can turn off the regression lines with the `fit_reg` parameter."
   ]
  },
  {
   "cell_type": "code",
   "execution_count": 12,
   "metadata": {},
   "outputs": [
    {
     "ename": "NameError",
     "evalue": "name 'sns' is not defined",
     "output_type": "error",
     "traceback": [
      "\u001b[0;31m---------------------------------------------------------------------------\u001b[0m",
      "\u001b[0;31mNameError\u001b[0m                                 Traceback (most recent call last)",
      "\u001b[0;32m<ipython-input-12-b98c76efaf40>\u001b[0m in \u001b[0;36m<module>\u001b[0;34m\u001b[0m\n\u001b[0;32m----> 1\u001b[0;31m sns.lmplot(x='years_farm',y='years_liv', data=safi_df,\n\u001b[0m\u001b[1;32m      2\u001b[0m            \u001b[0mhue\u001b[0m\u001b[0;34m=\u001b[0m\u001b[0;34m'village'\u001b[0m\u001b[0;34m,\u001b[0m  \u001b[0mcol\u001b[0m\u001b[0;34m=\u001b[0m\u001b[0;34m'respondent_wall_type'\u001b[0m\u001b[0;34m,\u001b[0m\u001b[0mrow\u001b[0m\u001b[0;34m=\u001b[0m\u001b[0;34m'respondent_floor_type'\u001b[0m\u001b[0;34m,\u001b[0m\u001b[0;34m\u001b[0m\u001b[0;34m\u001b[0m\u001b[0m\n\u001b[1;32m      3\u001b[0m            fit_reg=False)\n",
      "\u001b[0;31mNameError\u001b[0m: name 'sns' is not defined"
     ]
    }
   ],
   "source": [
    "sns.lmplot(x='years_farm',y='years_liv', data=safi_df,\n",
    "           hue='village',  col='respondent_wall_type',row='respondent_floor_type',\n",
    "           fit_reg=False)"
   ]
  },
  {
   "cell_type": "code",
   "execution_count": 13,
   "metadata": {},
   "outputs": [
    {
     "data": {
      "text/plain": [
       "poultry\n",
       "no     5.894737\n",
       "yes    7.720430\n",
       "Name: members_count, dtype: float64"
      ]
     },
     "execution_count": 13,
     "metadata": {},
     "output_type": "execute_result"
    }
   ],
   "source": [
    "safi_df.groupby('poultry')['members_count'].mean()"
   ]
  },
  {
   "cell_type": "markdown",
   "metadata": {},
   "source": [
    "## Questions after class\n",
    "\n",
    "\n",
    "## More practice\n",
    "\n",
    "Test out the parameters of the plotting functions to see what they do.\n",
    "\n",
    "## Further Reading\n",
    "\n",
    "- [Pandas Plotting](https://pandas.pydata.org/docs/user_guide/visualization.html)\n",
    "- [Seaborn Gallery](https://seaborn.pydata.org/examples/index.html)\n",
    "- [Seaborn Tutorial](https://seaborn.pydata.org/tutorial.html)\n",
    "\n",
    "If you've made it this far, [let me know](https://forms.gle/PDATAmuRS5tAHiiZ8) how you found these notes."
   ]
  }
 ],
 "metadata": {
  "jupytext": {
   "text_representation": {
    "extension": ".md",
    "format_name": "myst",
    "format_version": 0.12,
    "jupytext_version": "1.6.0"
   }
  },
  "kernelspec": {
   "display_name": "Python 3",
   "language": "python",
   "name": "python3"
  },
  "language_info": {
   "codemirror_mode": {
    "name": "ipython",
    "version": 3
   },
   "file_extension": ".py",
   "mimetype": "text/x-python",
   "name": "python",
   "nbconvert_exporter": "python",
   "pygments_lexer": "ipython3",
   "version": "3.7.9"
  },
  "source_map": [
   12,
   35,
   38,
   42,
   44,
   47,
   50,
   53,
   55,
   58,
   61,
   65,
   67,
   71,
   73,
   76,
   78,
   83,
   87,
   89,
   112,
   115,
   119,
   127,
   129
  ]
 },
 "nbformat": 4,
 "nbformat_minor": 4
}