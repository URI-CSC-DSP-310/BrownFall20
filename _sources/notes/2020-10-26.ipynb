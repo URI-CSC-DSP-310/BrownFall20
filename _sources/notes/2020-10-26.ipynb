{
 "cells": [
  {
   "cell_type": "markdown",
   "id": "480cf822",
   "metadata": {},
   "source": [
    "# Class 21: Regression\n",
    "\n",
    "1. Log onto prismia\n",
    "1. Share a topic you're most interested in applying data science to in the zoom chat\n",
    "\n",
    "## Regression Introduction\n",
    "\n",
    "\n",
    "What is the difference in data that's well suited for regression vs classification\n",
    "- [ ] regression is better for more features\n",
    "- [ ] regression can work with categorical features\n",
    "- [x] regression uses a continuous target variable\n",
    "\n",
    "Explanation: the difference is that for regression we can use continuous target variables.  Either classification or regression can work with high dimensional data (dimension refers to the number of features). Either can also work with a mixture of categorical or continuous valued features."
   ]
  },
  {
   "cell_type": "code",
   "execution_count": 1,
   "id": "49a5a72f",
   "metadata": {},
   "outputs": [],
   "source": [
    "import numpy as np\n",
    "import seaborn as sns\n",
    "from sklearn import datasets, linear_model\n",
    "from sklearn.metrics import mean_squared_error, r2_score\n",
    "import pandas as pd\n",
    "sns.set_theme(font_scale=2)"
   ]
  },
  {
   "cell_type": "markdown",
   "id": "ab829216",
   "metadata": {},
   "source": [
    "Today we will work with the [diabetes dataset](https://scikit-learn.org/stable/datasets/index.html#diabetes-dataset) and we'll use the `sklearn.datasets` module to load it.  When we load data this way, it gets loaded as a `numpy` array"
   ]
  },
  {
   "cell_type": "code",
   "execution_count": 2,
   "id": "f73b212b",
   "metadata": {},
   "outputs": [],
   "source": [
    "diabetes_X, diabetes_y = datasets.load_diabetes(return_X_y = True)"
   ]
  },
  {
   "cell_type": "markdown",
   "id": "26fdc54f",
   "metadata": {},
   "source": [
    "Since it's not a `pandas.DataFrame` we don't have the head method, but we can index using square brackets."
   ]
  },
  {
   "cell_type": "code",
   "execution_count": 3,
   "id": "a238c028",
   "metadata": {},
   "outputs": [
    {
     "data": {
      "text/plain": [
       "array([[ 0.03807591,  0.05068012,  0.06169621,  0.02187235, -0.0442235 ,\n",
       "        -0.03482076, -0.04340085, -0.00259226,  0.01990842, -0.01764613],\n",
       "       [-0.00188202, -0.04464164, -0.05147406, -0.02632783, -0.00844872,\n",
       "        -0.01916334,  0.07441156, -0.03949338, -0.06832974, -0.09220405],\n",
       "       [ 0.08529891,  0.05068012,  0.04445121, -0.00567061, -0.04559945,\n",
       "        -0.03419447, -0.03235593, -0.00259226,  0.00286377, -0.02593034],\n",
       "       [-0.08906294, -0.04464164, -0.01159501, -0.03665645,  0.01219057,\n",
       "         0.02499059, -0.03603757,  0.03430886,  0.02269202, -0.00936191],\n",
       "       [ 0.00538306, -0.04464164, -0.03638469,  0.02187235,  0.00393485,\n",
       "         0.01559614,  0.00814208, -0.00259226, -0.03199144, -0.04664087]])"
      ]
     },
     "execution_count": 3,
     "metadata": {},
     "output_type": "execute_result"
    }
   ],
   "source": [
    "diabetes_X[:5]"
   ]
  },
  {
   "cell_type": "markdown",
   "id": "9e48caf5",
   "metadata": {},
   "source": [
    "and the same for the labels."
   ]
  },
  {
   "cell_type": "code",
   "execution_count": 4,
   "id": "3edeac98",
   "metadata": {},
   "outputs": [
    {
     "data": {
      "text/plain": [
       "array([151.,  75., 141., 206., 135.])"
      ]
     },
     "execution_count": 4,
     "metadata": {},
     "output_type": "execute_result"
    }
   ],
   "source": [
    "diabetes_y[:5]"
   ]
  },
  {
   "cell_type": "markdown",
   "id": "028ca63a",
   "metadata": {},
   "source": [
    "Since this data is not in any sorted order, we can split into test and train using indexing instead of the `test_train_split` function.  This way we all get the same split, without setting the `ranomd_seed` parameter.  In most cases, it's best to use the function, but it's good to know different ways to do things.\n",
    "\n",
    "We'll start by using only one feature, the one in column 8."
   ]
  },
  {
   "cell_type": "code",
   "execution_count": 5,
   "id": "57c827d1",
   "metadata": {},
   "outputs": [],
   "source": [
    "diabetes_X_train = diabetes_X[:-20,8]\n",
    "diabetes_X_test = diabetes_X[-20:,8]\n",
    "diabetes_y_train = diabetes_y[:-20]\n",
    "diabetes_y_test = diabetes_y[-20:]"
   ]
  },
  {
   "cell_type": "markdown",
   "id": "9592d23a",
   "metadata": {},
   "source": [
    "Now we can instantiate the object"
   ]
  },
  {
   "cell_type": "code",
   "execution_count": 6,
   "id": "01c2d9a7",
   "metadata": {},
   "outputs": [],
   "source": [
    "regr = linear_model.LinearRegression()"
   ]
  },
  {
   "cell_type": "markdown",
   "id": "6118c4c3",
   "metadata": {},
   "source": [
    "All `sklearn` estimators have the same methods, and all take any specialized parameters in the constructor.  We've used the default values here, but this is an important design feature of scikit learn, because it makes their pipeline infrastructure and functions for cross validation work."
   ]
  },
  {
   "cell_type": "code",
   "execution_count": 7,
   "id": "a853ec74",
   "metadata": {},
   "outputs": [
    {
     "ename": "ValueError",
     "evalue": "Expected 2D array, got 1D array instead:\narray=[ 0.01990842 -0.06832974  0.00286377  0.02269202 -0.03199144 -0.04118039\n -0.06291295 -0.03581673 -0.01495648  0.06773633 -0.06291295 -0.09643322\n -0.03075121  0.03839325 -0.03199144  0.03605579  0.05228     0.02736771\n -0.01811827 -0.00894402 -0.01190068 -0.07212845 -0.0611766   0.13359898\n -0.02595242  0.01919903 -0.0425721  -0.01599827 -0.00060925  0.0594238\n -0.02712865 -0.03712835  0.00027149 -0.01811827 -0.0594727   0.02131085\n  0.054724    0.01703713  0.07142403  0.01919903  0.01255315 -0.04986847\n -0.00991896 -0.0425721   0.03243323 -0.01495648 -0.0079794  -0.01811827\n -0.0594727   0.03546194 -0.02139368 -0.00239668 -0.01811827 -0.03324879\n -0.04118039 -0.06648815  0.03365681 -0.05615757 -0.00060925  0.03839325\n -0.05140054  0.0366458  -0.08238148 -0.03075121 -0.01919705  0.0423449\n  0.00027149 -0.01190068 -0.01290794 -0.05140054 -0.06291295  0.02671426\n  0.08449528 -0.00514531  0.00371174  0.00620932 -0.03075121 -0.07408887\n  0.04289569 -0.06832974  0.02539313 -0.00608025 -0.07020931 -0.01599827\n -0.06832974 -0.04118039 -0.09643322  0.04289569 -0.03452372 -0.02479119\n -0.07212845  0.03723201  0.01255315 -0.03324879 -0.04118039  0.0011438\n  0.06078775  0.00286377 -0.00608025  0.0117839   0.03723201 -0.03075121\n -0.00514531 -0.01090444 -0.0611766  -0.01090444 -0.0594727  -0.05295879\n  0.04560081 -0.02595242 -0.12609739 -0.02364456 -0.02364456  0.04666077\n  0.09924023  0.08379677  0.02200405  0.07912108  0.02061233  0.02736771\n -0.03980959  0.01990842  0.03243323  0.01556684 -0.01599827  0.08058546\n -0.09393565  0.00455189 -0.03075121  0.03896837  0.02269202 -0.04687948\n -0.01290794 -0.07212845 -0.02712865  0.05078151 -0.06648815  0.01703713\n  0.02801651  0.054724   -0.03324879  0.04506617  0.04560081 -0.04118039\n  0.00620932 -0.01599827  0.01482271  0.02605609 -0.03075121  0.06123791\n -0.01919705 -0.00894402  0.02671426 -0.03452372  0.00864028  0.03781448\n -0.02139368  0.01022564 -0.03075121  0.0423449  -0.03581673  0.07573759\n -0.03075121 -0.02364456  0.01776348 -0.05615757 -0.07814091  0.07763279\n  0.06898221  0.13359898 -0.09643322 -0.05140054  0.07341008 -0.01811827\n  0.01703713 -0.02712865 -0.00330371  0.07222365 -0.04836172  0.01407245\n  0.01630495 -0.02595242  0.01556684  0.01556684  0.03723201  0.06731722\n  0.04718617 -0.08682899 -0.00149859 -0.02028875  0.02337484  0.01022564\n -0.02952762  0.03953988  0.00200784  0.00783714 -0.03324879  0.01331597\n -0.07408887  0.08989869 -0.02832024 -0.05295879  0.08449528  0.02539313\n  0.00200784  0.06345592  0.00943641  0.04613233 -0.00149859 -0.01190068\n -0.03324879 -0.02251217 -0.00060925 -0.02251217 -0.03980959  0.0366458\n  0.04560081  0.03365681  0.00702686  0.0011438  -0.10164355  0.0011438\n  0.0011438  -0.01811827 -0.03581673  0.06301662 -0.03980959 -0.03845911\n -0.02712865 -0.02364456  0.05027649  0.00943641  0.02405258 -0.02595242\n  0.06432823 -0.00514531  0.04067226 -0.04836172  0.0110081   0.06604821\n  0.03365681 -0.02952762 -0.07814091 -0.0439854  -0.0439854  -0.04986847\n  0.04506617 -0.01090444  0.06389312  0.0702113   0.07573759  0.08449528\n -0.00421986  0.03486419  0.12005338 -0.00330371  0.02801651 -0.00514531\n -0.03712835 -0.0439854  -0.08023654 -0.01290794  0.03486419 -0.07212845\n -0.0594727   0.01482271 -0.08682899  0.02337484  0.02930041 -0.01190068\n  0.00864028 -0.01811827 -0.01811827  0.10635428  0.01556684  0.0110081\n  0.05757286 -0.02139368  0.0011438  -0.01599827  0.01630495  0.02405258\n -0.00894402 -0.06832974  0.00286377  0.05988072 -0.01919705  0.03243323\n -0.07020931  0.06123791  0.02993565  0.05803913 -0.06291295 -0.05454415\n -0.07408887  0.01630495 -0.05615757 -0.06468302 -0.03075121 -0.02595242\n  0.04289569 -0.02139368  0.03119299  0.07380215 -0.02251217  0.01776348\n -0.03980959  0.02337484 -0.0611766   0.02671426 -0.01811827  0.01255315\n -0.03845911  0.05520504 -0.01190068 -0.01090444  0.07496834  0.02472532\n  0.00943641  0.02866072  0.03304707  0.09864637  0.13339573  0.12901941\n  0.06604821  0.08449528  0.02993565 -0.00060925 -0.00149859 -0.0170521\n -0.02364456 -0.04118039  0.05710419  0.02930041 -0.06291295 -0.05140054\n  0.08094791  0.00538437 -0.02251217  0.04344317 -0.03581673 -0.02479119\n -0.02364456 -0.05780007  0.00702686 -0.00060925  0.06257518  0.00371174\n -0.01090444 -0.0611766   0.0702113  -0.05780007 -0.02028875  0.13237265\n  0.07419254 -0.03324879 -0.02832024  0.04976866 -0.08238148  0.01482271\n  0.01331597 -0.07212845  0.00371174  0.01919903  0.01482271  0.03119299\n  0.07102158  0.03365681  0.08553312 -0.00514531 -0.0611766   0.11934399\n -0.01090444 -0.0425721  -0.00060925  0.02801651  0.04613233  0.00943641\n  0.02269202 -0.04687948 -0.05140054 -0.01290794  0.10413761 -0.01811827\n  0.02405258 -0.02595242 -0.03075121 -0.10436482  0.02671426 -0.04118039\n  0.10329226 -0.08913686 -0.04118039 -0.03980959  0.13008061  0.03181522\n -0.09643322  0.03605579  0.04506617  0.03953988 -0.03452372 -0.0425721\n  0.01556684  0.06168585 -0.02712865  0.0366458  -0.05615757 -0.04836172\n  0.05803913  0.03056649  0.06604821 -0.05140054  0.00620932 -0.03581673\n  0.054724    0.01482271 -0.02952762 -0.04687948 -0.02139368 -0.07408887\n -0.03324879  0.04976866].\nReshape your data either using array.reshape(-1, 1) if your data has a single feature or array.reshape(1, -1) if it contains a single sample.",
     "output_type": "error",
     "traceback": [
      "\u001b[0;31m---------------------------------------------------------------------------\u001b[0m",
      "\u001b[0;31mValueError\u001b[0m                                Traceback (most recent call last)",
      "\u001b[0;32m<ipython-input-7-7563ebc7151a>\u001b[0m in \u001b[0;36m<module>\u001b[0;34m\u001b[0m\n\u001b[0;32m----> 1\u001b[0;31m \u001b[0mregr\u001b[0m\u001b[0;34m.\u001b[0m\u001b[0mfit\u001b[0m\u001b[0;34m(\u001b[0m\u001b[0mdiabetes_X_train\u001b[0m\u001b[0;34m,\u001b[0m\u001b[0mdiabetes_y_train\u001b[0m\u001b[0;34m)\u001b[0m\u001b[0;34m\u001b[0m\u001b[0;34m\u001b[0m\u001b[0m\n\u001b[0m",
      "\u001b[0;32m/opt/hostedtoolcache/Python/3.7.10/x64/lib/python3.7/site-packages/sklearn/linear_model/_base.py\u001b[0m in \u001b[0;36mfit\u001b[0;34m(self, X, y, sample_weight)\u001b[0m\n\u001b[1;32m    517\u001b[0m \u001b[0;34m\u001b[0m\u001b[0m\n\u001b[1;32m    518\u001b[0m         X, y = self._validate_data(X, y, accept_sparse=accept_sparse,\n\u001b[0;32m--> 519\u001b[0;31m                                    y_numeric=True, multi_output=True)\n\u001b[0m\u001b[1;32m    520\u001b[0m \u001b[0;34m\u001b[0m\u001b[0m\n\u001b[1;32m    521\u001b[0m         \u001b[0;32mif\u001b[0m \u001b[0msample_weight\u001b[0m \u001b[0;32mis\u001b[0m \u001b[0;32mnot\u001b[0m \u001b[0;32mNone\u001b[0m\u001b[0;34m:\u001b[0m\u001b[0;34m\u001b[0m\u001b[0;34m\u001b[0m\u001b[0m\n",
      "\u001b[0;32m/opt/hostedtoolcache/Python/3.7.10/x64/lib/python3.7/site-packages/sklearn/base.py\u001b[0m in \u001b[0;36m_validate_data\u001b[0;34m(self, X, y, reset, validate_separately, **check_params)\u001b[0m\n\u001b[1;32m    431\u001b[0m                 \u001b[0my\u001b[0m \u001b[0;34m=\u001b[0m \u001b[0mcheck_array\u001b[0m\u001b[0;34m(\u001b[0m\u001b[0my\u001b[0m\u001b[0;34m,\u001b[0m \u001b[0;34m**\u001b[0m\u001b[0mcheck_y_params\u001b[0m\u001b[0;34m)\u001b[0m\u001b[0;34m\u001b[0m\u001b[0;34m\u001b[0m\u001b[0m\n\u001b[1;32m    432\u001b[0m             \u001b[0;32melse\u001b[0m\u001b[0;34m:\u001b[0m\u001b[0;34m\u001b[0m\u001b[0;34m\u001b[0m\u001b[0m\n\u001b[0;32m--> 433\u001b[0;31m                 \u001b[0mX\u001b[0m\u001b[0;34m,\u001b[0m \u001b[0my\u001b[0m \u001b[0;34m=\u001b[0m \u001b[0mcheck_X_y\u001b[0m\u001b[0;34m(\u001b[0m\u001b[0mX\u001b[0m\u001b[0;34m,\u001b[0m \u001b[0my\u001b[0m\u001b[0;34m,\u001b[0m \u001b[0;34m**\u001b[0m\u001b[0mcheck_params\u001b[0m\u001b[0;34m)\u001b[0m\u001b[0;34m\u001b[0m\u001b[0;34m\u001b[0m\u001b[0m\n\u001b[0m\u001b[1;32m    434\u001b[0m             \u001b[0mout\u001b[0m \u001b[0;34m=\u001b[0m \u001b[0mX\u001b[0m\u001b[0;34m,\u001b[0m \u001b[0my\u001b[0m\u001b[0;34m\u001b[0m\u001b[0;34m\u001b[0m\u001b[0m\n\u001b[1;32m    435\u001b[0m \u001b[0;34m\u001b[0m\u001b[0m\n",
      "\u001b[0;32m/opt/hostedtoolcache/Python/3.7.10/x64/lib/python3.7/site-packages/sklearn/utils/validation.py\u001b[0m in \u001b[0;36minner_f\u001b[0;34m(*args, **kwargs)\u001b[0m\n\u001b[1;32m     61\u001b[0m             \u001b[0mextra_args\u001b[0m \u001b[0;34m=\u001b[0m \u001b[0mlen\u001b[0m\u001b[0;34m(\u001b[0m\u001b[0margs\u001b[0m\u001b[0;34m)\u001b[0m \u001b[0;34m-\u001b[0m \u001b[0mlen\u001b[0m\u001b[0;34m(\u001b[0m\u001b[0mall_args\u001b[0m\u001b[0;34m)\u001b[0m\u001b[0;34m\u001b[0m\u001b[0;34m\u001b[0m\u001b[0m\n\u001b[1;32m     62\u001b[0m             \u001b[0;32mif\u001b[0m \u001b[0mextra_args\u001b[0m \u001b[0;34m<=\u001b[0m \u001b[0;36m0\u001b[0m\u001b[0;34m:\u001b[0m\u001b[0;34m\u001b[0m\u001b[0;34m\u001b[0m\u001b[0m\n\u001b[0;32m---> 63\u001b[0;31m                 \u001b[0;32mreturn\u001b[0m \u001b[0mf\u001b[0m\u001b[0;34m(\u001b[0m\u001b[0;34m*\u001b[0m\u001b[0margs\u001b[0m\u001b[0;34m,\u001b[0m \u001b[0;34m**\u001b[0m\u001b[0mkwargs\u001b[0m\u001b[0;34m)\u001b[0m\u001b[0;34m\u001b[0m\u001b[0;34m\u001b[0m\u001b[0m\n\u001b[0m\u001b[1;32m     64\u001b[0m \u001b[0;34m\u001b[0m\u001b[0m\n\u001b[1;32m     65\u001b[0m             \u001b[0;31m# extra_args > 0\u001b[0m\u001b[0;34m\u001b[0m\u001b[0;34m\u001b[0m\u001b[0;34m\u001b[0m\u001b[0m\n",
      "\u001b[0;32m/opt/hostedtoolcache/Python/3.7.10/x64/lib/python3.7/site-packages/sklearn/utils/validation.py\u001b[0m in \u001b[0;36mcheck_X_y\u001b[0;34m(X, y, accept_sparse, accept_large_sparse, dtype, order, copy, force_all_finite, ensure_2d, allow_nd, multi_output, ensure_min_samples, ensure_min_features, y_numeric, estimator)\u001b[0m\n\u001b[1;32m    876\u001b[0m                     \u001b[0mensure_min_samples\u001b[0m\u001b[0;34m=\u001b[0m\u001b[0mensure_min_samples\u001b[0m\u001b[0;34m,\u001b[0m\u001b[0;34m\u001b[0m\u001b[0;34m\u001b[0m\u001b[0m\n\u001b[1;32m    877\u001b[0m                     \u001b[0mensure_min_features\u001b[0m\u001b[0;34m=\u001b[0m\u001b[0mensure_min_features\u001b[0m\u001b[0;34m,\u001b[0m\u001b[0;34m\u001b[0m\u001b[0;34m\u001b[0m\u001b[0m\n\u001b[0;32m--> 878\u001b[0;31m                     estimator=estimator)\n\u001b[0m\u001b[1;32m    879\u001b[0m     \u001b[0;32mif\u001b[0m \u001b[0mmulti_output\u001b[0m\u001b[0;34m:\u001b[0m\u001b[0;34m\u001b[0m\u001b[0;34m\u001b[0m\u001b[0m\n\u001b[1;32m    880\u001b[0m         y = check_array(y, accept_sparse='csr', force_all_finite=True,\n",
      "\u001b[0;32m/opt/hostedtoolcache/Python/3.7.10/x64/lib/python3.7/site-packages/sklearn/utils/validation.py\u001b[0m in \u001b[0;36minner_f\u001b[0;34m(*args, **kwargs)\u001b[0m\n\u001b[1;32m     61\u001b[0m             \u001b[0mextra_args\u001b[0m \u001b[0;34m=\u001b[0m \u001b[0mlen\u001b[0m\u001b[0;34m(\u001b[0m\u001b[0margs\u001b[0m\u001b[0;34m)\u001b[0m \u001b[0;34m-\u001b[0m \u001b[0mlen\u001b[0m\u001b[0;34m(\u001b[0m\u001b[0mall_args\u001b[0m\u001b[0;34m)\u001b[0m\u001b[0;34m\u001b[0m\u001b[0;34m\u001b[0m\u001b[0m\n\u001b[1;32m     62\u001b[0m             \u001b[0;32mif\u001b[0m \u001b[0mextra_args\u001b[0m \u001b[0;34m<=\u001b[0m \u001b[0;36m0\u001b[0m\u001b[0;34m:\u001b[0m\u001b[0;34m\u001b[0m\u001b[0;34m\u001b[0m\u001b[0m\n\u001b[0;32m---> 63\u001b[0;31m                 \u001b[0;32mreturn\u001b[0m \u001b[0mf\u001b[0m\u001b[0;34m(\u001b[0m\u001b[0;34m*\u001b[0m\u001b[0margs\u001b[0m\u001b[0;34m,\u001b[0m \u001b[0;34m**\u001b[0m\u001b[0mkwargs\u001b[0m\u001b[0;34m)\u001b[0m\u001b[0;34m\u001b[0m\u001b[0;34m\u001b[0m\u001b[0m\n\u001b[0m\u001b[1;32m     64\u001b[0m \u001b[0;34m\u001b[0m\u001b[0m\n\u001b[1;32m     65\u001b[0m             \u001b[0;31m# extra_args > 0\u001b[0m\u001b[0;34m\u001b[0m\u001b[0;34m\u001b[0m\u001b[0;34m\u001b[0m\u001b[0m\n",
      "\u001b[0;32m/opt/hostedtoolcache/Python/3.7.10/x64/lib/python3.7/site-packages/sklearn/utils/validation.py\u001b[0m in \u001b[0;36mcheck_array\u001b[0;34m(array, accept_sparse, accept_large_sparse, dtype, order, copy, force_all_finite, ensure_2d, allow_nd, ensure_min_samples, ensure_min_features, estimator)\u001b[0m\n\u001b[1;32m    696\u001b[0m                     \u001b[0;34m\"Reshape your data either using array.reshape(-1, 1) if \"\u001b[0m\u001b[0;34m\u001b[0m\u001b[0;34m\u001b[0m\u001b[0m\n\u001b[1;32m    697\u001b[0m                     \u001b[0;34m\"your data has a single feature or array.reshape(1, -1) \"\u001b[0m\u001b[0;34m\u001b[0m\u001b[0;34m\u001b[0m\u001b[0m\n\u001b[0;32m--> 698\u001b[0;31m                     \"if it contains a single sample.\".format(array))\n\u001b[0m\u001b[1;32m    699\u001b[0m \u001b[0;34m\u001b[0m\u001b[0m\n\u001b[1;32m    700\u001b[0m         \u001b[0;31m# make sure we actually converted to numeric:\u001b[0m\u001b[0;34m\u001b[0m\u001b[0;34m\u001b[0m\u001b[0;34m\u001b[0m\u001b[0m\n",
      "\u001b[0;31mValueError\u001b[0m: Expected 2D array, got 1D array instead:\narray=[ 0.01990842 -0.06832974  0.00286377  0.02269202 -0.03199144 -0.04118039\n -0.06291295 -0.03581673 -0.01495648  0.06773633 -0.06291295 -0.09643322\n -0.03075121  0.03839325 -0.03199144  0.03605579  0.05228     0.02736771\n -0.01811827 -0.00894402 -0.01190068 -0.07212845 -0.0611766   0.13359898\n -0.02595242  0.01919903 -0.0425721  -0.01599827 -0.00060925  0.0594238\n -0.02712865 -0.03712835  0.00027149 -0.01811827 -0.0594727   0.02131085\n  0.054724    0.01703713  0.07142403  0.01919903  0.01255315 -0.04986847\n -0.00991896 -0.0425721   0.03243323 -0.01495648 -0.0079794  -0.01811827\n -0.0594727   0.03546194 -0.02139368 -0.00239668 -0.01811827 -0.03324879\n -0.04118039 -0.06648815  0.03365681 -0.05615757 -0.00060925  0.03839325\n -0.05140054  0.0366458  -0.08238148 -0.03075121 -0.01919705  0.0423449\n  0.00027149 -0.01190068 -0.01290794 -0.05140054 -0.06291295  0.02671426\n  0.08449528 -0.00514531  0.00371174  0.00620932 -0.03075121 -0.07408887\n  0.04289569 -0.06832974  0.02539313 -0.00608025 -0.07020931 -0.01599827\n -0.06832974 -0.04118039 -0.09643322  0.04289569 -0.03452372 -0.02479119\n -0.07212845  0.03723201  0.01255315 -0.03324879 -0.04118039  0.0011438\n  0.06078775  0.00286377 -0.00608025  0.0117839   0.03723201 -0.03075121\n -0.00514531 -0.01090444 -0.0611766  -0.01090444 -0.0594727  -0.05295879\n  0.04560081 -0.02595242 -0.12609739 -0.02364456 -0.02364456  0.04666077\n  0.09924023  0.08379677  0.02200405  0.07912108  0.02061233  0.02736771\n -0.03980959  0.01990842  0.03243323  0.01556684 -0.01599827  0.08058546\n -0.09393565  0.00455189 -0.03075121  0.03896837  0.02269202 -0.04687948\n -0.01290794 -0.07212845 -0.02712865  0.05078151 -0.06648815  0.01703713\n  0.02801651  0.054724   -0.03324879  0.04506617  0.04560081 -0.04118039\n  0.00620932 -0.01599827  0.01482271  0.02605609 -0.03075121  0.06123791\n -0.01919705 -0.00894402  0.02671426 -0.03452372  0.00864028  0.03781448\n -0.02139368  0.01022564 -0.03075121  0.0423449  -0.03581673  0.07573759\n -0.03075121 -0.02364456  0.01776348 -0.05615757 -0.07814091  0.07763279\n  0.06898221  0.13359898 -0.09643322 -0.05140054  0.07341008 -0.01811827\n  0.01703713 -0.02712865 -0.00330371  0.07222365 -0.04836172  0.01407245\n  0.01630495 -0.02595242  0.01556684  0.01556684  0.03723201  0.06731722\n  0.04718617 -0.08682899 -0.00149859 -0.02028875  0.02337484  0.01022564\n -0.02952762  0.03953988  0.00200784  0.00783714 -0.03324879  0.01331597\n -0.07408887  0.08989869 -0.02832024 -0.05295879  0.08449528  0.02539313\n  0.00200784  0.06345592  0.00943641  0.04613233 -0.00149859 -0.01190068\n -0.03324879 -0.02251217 -0.00060925 -0.02251217 -0.03980959  0.0366458\n  0.04560081  0.03365681  0.00702686  0.0011438  -0.10164355  0.0011438\n  0.0011438  -0.01811827 -0.03581673  0.06301662 -0.03980959 -0.03845911\n -0.02712865 -0.02364456  0.05027649  0.00943641  0.02405258 -0.02595242\n  0.06432823 -0.00514531  0.04067226 -0.04836172  0.0110081   0.06604821\n  0.03365681 -0.02952762 -0.07814091 -0.0439854  -0.0439854  -0.04986847\n  0.04506617 -0.01090444  0.06389312  0.0702113   0.07573759  0.08449528\n -0.00421986  0.03486419  0.12005338 -0.00330371  0.02801651 -0.00514531\n -0.03712835 -0.0439854  -0.08023654 -0.01290794  0.03486419 -0.07212845\n -0.0594727   0.01482271 -0.08682899  0.02337484  0.02930041 -0.01190068\n  0.00864028 -0.01811827 -0.01811827  0.10635428  0.01556684  0.0110081\n  0.05757286 -0.02139368  0.0011438  -0.01599827  0.01630495  0.02405258\n -0.00894402 -0.06832974  0.00286377  0.05988072 -0.01919705  0.03243323\n -0.07020931  0.06123791  0.02993565  0.05803913 -0.06291295 -0.05454415\n -0.07408887  0.01630495 -0.05615757 -0.06468302 -0.03075121 -0.02595242\n  0.04289569 -0.02139368  0.03119299  0.07380215 -0.02251217  0.01776348\n -0.03980959  0.02337484 -0.0611766   0.02671426 -0.01811827  0.01255315\n -0.03845911  0.05520504 -0.01190068 -0.01090444  0.07496834  0.02472532\n  0.00943641  0.02866072  0.03304707  0.09864637  0.13339573  0.12901941\n  0.06604821  0.08449528  0.02993565 -0.00060925 -0.00149859 -0.0170521\n -0.02364456 -0.04118039  0.05710419  0.02930041 -0.06291295 -0.05140054\n  0.08094791  0.00538437 -0.02251217  0.04344317 -0.03581673 -0.02479119\n -0.02364456 -0.05780007  0.00702686 -0.00060925  0.06257518  0.00371174\n -0.01090444 -0.0611766   0.0702113  -0.05780007 -0.02028875  0.13237265\n  0.07419254 -0.03324879 -0.02832024  0.04976866 -0.08238148  0.01482271\n  0.01331597 -0.07212845  0.00371174  0.01919903  0.01482271  0.03119299\n  0.07102158  0.03365681  0.08553312 -0.00514531 -0.0611766   0.11934399\n -0.01090444 -0.0425721  -0.00060925  0.02801651  0.04613233  0.00943641\n  0.02269202 -0.04687948 -0.05140054 -0.01290794  0.10413761 -0.01811827\n  0.02405258 -0.02595242 -0.03075121 -0.10436482  0.02671426 -0.04118039\n  0.10329226 -0.08913686 -0.04118039 -0.03980959  0.13008061  0.03181522\n -0.09643322  0.03605579  0.04506617  0.03953988 -0.03452372 -0.0425721\n  0.01556684  0.06168585 -0.02712865  0.0366458  -0.05615757 -0.04836172\n  0.05803913  0.03056649  0.06604821 -0.05140054  0.00620932 -0.03581673\n  0.054724    0.01482271 -0.02952762 -0.04687948 -0.02139368 -0.07408887\n -0.03324879  0.04976866].\nReshape your data either using array.reshape(-1, 1) if your data has a single feature or array.reshape(1, -1) if it contains a single sample."
     ]
    }
   ],
   "source": [
    "regr.fit(diabetes_X_train,diabetes_y_train)"
   ]
  },
  {
   "cell_type": "markdown",
   "id": "86edbcc1",
   "metadata": {},
   "source": [
    "we get an error because the training data  (`diabetes_X_train`) is only one dimensional.\n",
    "Scikit learn's `fit` methods require a 2d-array even if fitting with only one feature."
   ]
  },
  {
   "cell_type": "code",
   "execution_count": 8,
   "id": "d47b0a00",
   "metadata": {},
   "outputs": [
    {
     "data": {
      "text/plain": [
       "(422,)"
      ]
     },
     "execution_count": 8,
     "metadata": {},
     "output_type": "execute_result"
    }
   ],
   "source": [
    "diabetes_X_train.shape"
   ]
  },
  {
   "cell_type": "markdown",
   "id": "6b280d4f",
   "metadata": {},
   "source": [
    "we can use `np.newaxis` to fix this problem."
   ]
  },
  {
   "cell_type": "code",
   "execution_count": 9,
   "id": "e8766bd5",
   "metadata": {},
   "outputs": [],
   "source": [
    "diabetes_X_train = diabetes_X[:-20,np.newaxis,8]\n",
    "diabetes_X_test = diabetes_X[-20:,np.newaxis,8]"
   ]
  },
  {
   "cell_type": "markdown",
   "id": "2e081250",
   "metadata": {},
   "source": [
    "and check the shape"
   ]
  },
  {
   "cell_type": "code",
   "execution_count": 10,
   "id": "d44267cd",
   "metadata": {},
   "outputs": [
    {
     "data": {
      "text/plain": [
       "(422, 1)"
      ]
     },
     "execution_count": 10,
     "metadata": {},
     "output_type": "execute_result"
    }
   ],
   "source": [
    "diabetes_X_train.shape"
   ]
  },
  {
   "cell_type": "markdown",
   "id": "7006db10",
   "metadata": {},
   "source": [
    "It's the same shape, in a mathematical sense, but in terms of the underlying data structure this one has a second dimension (it's just only 1 long) in that dimension.  This is tricky, but an important thing to know how to fix.\n",
    "\n",
    "Now we can fit our model"
   ]
  },
  {
   "cell_type": "code",
   "execution_count": 11,
   "id": "f8258374",
   "metadata": {},
   "outputs": [
    {
     "data": {
      "text/plain": [
       "LinearRegression()"
      ]
     },
     "execution_count": 11,
     "metadata": {},
     "output_type": "execute_result"
    }
   ],
   "source": [
    "regr.fit(diabetes_X_train,diabetes_y_train)"
   ]
  },
  {
   "cell_type": "markdown",
   "id": "66763e93",
   "metadata": {},
   "source": [
    "and examine the coefficient"
   ]
  },
  {
   "cell_type": "code",
   "execution_count": 12,
   "id": "69e1d183",
   "metadata": {},
   "outputs": [
    {
     "data": {
      "text/plain": [
       "array([900.39171612])"
      ]
     },
     "execution_count": 12,
     "metadata": {},
     "output_type": "execute_result"
    }
   ],
   "source": [
    "regr.coef_"
   ]
  },
  {
   "cell_type": "markdown",
   "id": "efeb49ae",
   "metadata": {},
   "source": [
    "and make predictions with the model"
   ]
  },
  {
   "cell_type": "code",
   "execution_count": 13,
   "id": "41e7723f",
   "metadata": {},
   "outputs": [],
   "source": [
    "diabetes_y_pred = regr.predict(diabetes_X_test)"
   ]
  },
  {
   "cell_type": "markdown",
   "id": "9887f954",
   "metadata": {},
   "source": [
    "we can evaluate with `mean_squared_error` (see below for more detail), which is as it's named. It computes the error in each prediction (`y_pred- y_true`), squares it, then averages them all together."
   ]
  },
  {
   "cell_type": "code",
   "execution_count": 14,
   "id": "847ceabb",
   "metadata": {},
   "outputs": [
    {
     "data": {
      "text/plain": [
       "2923.342534244987"
      ]
     },
     "execution_count": 14,
     "metadata": {},
     "output_type": "execute_result"
    }
   ],
   "source": [
    "mean_squared_error(diabetes_y_test,diabetes_y_pred)"
   ]
  },
  {
   "cell_type": "markdown",
   "id": "f2c53777",
   "metadata": {},
   "source": [
    "We can also use the $r^2$ score, which is more normalized, it's best value is 1."
   ]
  },
  {
   "cell_type": "code",
   "execution_count": 15,
   "id": "b5a36b56",
   "metadata": {},
   "outputs": [
    {
     "data": {
      "text/plain": [
       "0.3948984231023219"
      ]
     },
     "execution_count": 15,
     "metadata": {},
     "output_type": "execute_result"
    }
   ],
   "source": [
    "r2_score(diabetes_y_test,diabetes_y_pred)"
   ]
  },
  {
   "cell_type": "markdown",
   "id": "622622e7",
   "metadata": {},
   "source": [
    "To get an even better idea, we can plot.  We'll use `matplotlib` to plot, since our data is not in a DataFrame. `seaborn` and `pandas` use `matplotlib` under the hood, so it will have a lot of familiar methods, but it takes a lot more work to build complicated figures with `matplotlib`. The alias `plt` is used by convention for the `pyplot` module of `matplotlib`"
   ]
  },
  {
   "cell_type": "code",
   "execution_count": 16,
   "id": "543b95a9",
   "metadata": {},
   "outputs": [],
   "source": [
    "import matplotlib.pyplot as plt"
   ]
  },
  {
   "cell_type": "markdown",
   "id": "4fe13234",
   "metadata": {},
   "source": [
    "Then we can scatter plot the true data and make a line of the predictions in blue."
   ]
  },
  {
   "cell_type": "code",
   "execution_count": 17,
   "id": "70eda56c",
   "metadata": {},
   "outputs": [
    {
     "data": {
      "text/plain": [
       "[<matplotlib.lines.Line2D at 0x7f8cb7733810>]"
      ]
     },
     "execution_count": 17,
     "metadata": {},
     "output_type": "execute_result"
    },
    {
     "data": {
      "image/png": "[encoded data removed]",
      "text/plain": [
       "<Figure size 432x288 with 1 Axes>"
      ]
     },
     "metadata": {
      "filenames": {
       "image/png": "/home/runner/work/BrownFall20/BrownFall20/_build/jupyter_execute/notes/2020-10-26_33_1.png"
      }
     },
     "output_type": "display_data"
    }
   ],
   "source": [
    "plt.scatter(diabetes_X_test,diabetes_y_test, color='black')\n",
    "plt.plot(diabetes_X_test,diabetes_y_pred, color='blue')"
   ]
  },
  {
   "cell_type": "markdown",
   "id": "e2c7033f",
   "metadata": {},
   "source": [
    "We can modify this plot to highlight the errors, too.\n",
    "````{margin}\n",
    "```{tip}\n",
    "the semicolon here prevents it from printing out the axis information for each element of the list comprehension\n",
    "```\n",
    "````"
   ]
  },
  {
   "cell_type": "code",
   "execution_count": 18,
   "id": "590f3e72",
   "metadata": {},
   "outputs": [
    {
     "data": {
      "image/png": "[encoded data removed]",
      "text/plain": [
       "<Figure size 432x288 with 1 Axes>"
      ]
     },
     "metadata": {
      "filenames": {
       "image/png": "/home/runner/work/BrownFall20/BrownFall20/_build/jupyter_execute/notes/2020-10-26_35_0.png"
      }
     },
     "output_type": "display_data"
    }
   ],
   "source": [
    "plt.scatter(diabetes_X_test, diabetes_y_test,  color='black')\n",
    "plt.plot(diabetes_X_test, diabetes_y_pred, color='blue', linewidth=3)\n",
    "\n",
    "[plt.plot([x,x],[yp,yt], color='red', linewidth=3)\n",
    "                 for x, yp, yt in zip(diabetes_X_test, diabetes_y_pred,diabetes_y_test)];"
   ]
  },
  {
   "cell_type": "markdown",
   "id": "4e074c1a",
   "metadata": {},
   "source": [
    "```{admonition} Try it yourself\n",
    "\n",
    "Fit another regression model to this data that uses all of the feautures instead of only one\n",
    "```"
   ]
  },
  {
   "cell_type": "code",
   "execution_count": 19,
   "id": "11e53f05",
   "metadata": {},
   "outputs": [
    {
     "data": {
      "text/plain": [
       "0.5850753022690575"
      ]
     },
     "execution_count": 19,
     "metadata": {},
     "output_type": "execute_result"
    }
   ],
   "source": [
    "diabetes_X_train2 = diabetes_X[:-20]\n",
    "diabetes_X_test2 = diabetes_X[-20:]\n",
    "diabetes_y_train2 = diabetes_y[:-20]\n",
    "diabetes_y_test2 = diabetes_y[-20:]\n",
    "\n",
    "regr2 = linear_model.LinearRegression()\n",
    "regr2.fit(diabetes_X_train2,diabetes_y_train2)\n",
    "diabetes_y_pred2 = regr2.predict(diabetes_X_test2)\n",
    "r2_score(diabetes_y_test2,diabetes_y_pred2)"
   ]
  },
  {
   "cell_type": "markdown",
   "id": "60010526",
   "metadata": {},
   "source": [
    "This does better on $r^2$, let's also check the mse."
   ]
  },
  {
   "cell_type": "code",
   "execution_count": 20,
   "id": "c4c520a8",
   "metadata": {},
   "outputs": [
    {
     "data": {
      "text/plain": [
       "2004.5676026898207"
      ]
     },
     "execution_count": 20,
     "metadata": {},
     "output_type": "execute_result"
    }
   ],
   "source": [
    "mean_squared_error(diabetes_y_test2,diabetes_y_pred2)"
   ]
  },
  {
   "cell_type": "markdown",
   "id": "e9ff5e81",
   "metadata": {},
   "source": [
    "## More practice\n",
    "\n",
    "1. try out `regr2.score` what does scikite learn use for the score for `linear_model.LinearRegression` models?\n",
    "1. repeat the above using `test_train_split`, can you make the test size 20 samples again?\n",
    "1. try another single feature model using a different feature than we did above. Is your new feature a better or worse predictor? Make plots to compare and try to build intuition for the performance metrics geometrically.\n",
    "\n",
    "\n",
    "\n",
    "## Questions After class\n",
    "\n",
    "### What is considered a good r2 value?\n",
    "\n",
    "This will depend on context in some sense. You can read about it in the [`r2_score` docs]() and the corresponding [wikipedia page](https://en.wikipedia.org/wiki/Coefficient_of_determination)\n",
    "\n",
    "Here's a quick visual of what different r2 score values lookl like. I simulated data by ranomly picking 10 points, then made the \"predicted\" y values by picking a slope of 3 and computing `3*x`.  Then I simulated various levels of noise, by sampling noise and multiplying the same noise vector by different scales and adding all of those to a data frame with the column name the r score for if that column of target values was the truth.\n",
    "\n",
    "Then I added some columns of y values that were with different slopes and different functions of x.  These all have the small amount of noise.\n",
    "\n",
    "\n",
    "I used the pandas `melt` method to restructure the DataFrame so that I could use `FaceGrid` with `col` and `col_wrap` to show all of the results."
   ]
  },
  {
   "cell_type": "code",
   "execution_count": 21,
   "id": "fd802c00",
   "metadata": {},
   "outputs": [
    {
     "data": {
      "text/plain": [
       "<seaborn.axisgrid.FacetGrid at 0x7f8cb7727f50>"
      ]
     },
     "execution_count": 21,
     "metadata": {},
     "output_type": "execute_result"
    },
    {
     "data": {
      "image/png": "[encoded data removed]",
      "text/plain": [
       "<Figure size 972x1080 with 15 Axes>"
      ]
     },
     "metadata": {
      "filenames": {
       "image/png": "/home/runner/work/BrownFall20/BrownFall20/_build/jupyter_execute/notes/2020-10-26_41_1.png"
      }
     },
     "output_type": "display_data"
    }
   ],
   "source": [
    "x = 10*np.random.random(20)\n",
    "y_pred = 3*x\n",
    "ex_df = pd.DataFrame(data = x,columns = ['x'])\n",
    "ex_df['y_pred'] = y_pred\n",
    "n_levels = range(1,18,2)\n",
    "noise = (np.random.random(20)-.5)*2\n",
    "for n in n_levels:\n",
    "    y_true = y_pred + n* noise\n",
    "    ex_df['r2 = '+ str(np.round(r2_score(y_pred,y_true),3))] = y_true\n",
    "\n",
    "f_x_list = [2*x,3.5*x,.5*x**2, .03*x**3, 10*np.sin(x)+x*3,3*np.log(x**2)]\n",
    "for fx in f_x_list:\n",
    "    y_true = fx + noise\n",
    "    ex_df['r2 = '+ str(np.round(r2_score(y_pred,y_true),3))] = y_true    \n",
    "\n",
    "xy_df = ex_df.melt(id_vars=['x','y_pred'],var_name='rscore',value_name='y')\n",
    "# sns.lmplot(x='x',y='y', data = xy_df,col='rscore',col_wrap=3,)\n",
    "g = sns.FacetGrid(data = xy_df,col='rscore',col_wrap=3,aspect=1.5,height=3)\n",
    "g.map(plt.plot, 'x','y_pred',color='k')\n",
    "g.map(sns.scatterplot, \"x\", \"y\",)"
   ]
  },
  {
   "cell_type": "markdown",
   "id": "b9b6c8a4",
   "metadata": {},
   "source": [
    "The `r2_score` alone doesn't tell the whole picture. We'll also often want to analyze the errors in greater detail.  We'll look at how to do that to investigate how the model really fits more later this week.\n",
    "\n",
    "### Can some of the methods applied in regression can be used in the same format in classification?\n",
    "\n",
    "the `sklearn` estimator objects all have the same methods, you can see details on the API on the [sklearn developer page](https://scikit-learn.org/stable/developers/develop.html).\n",
    "\n",
    "\n",
    "### Why couldn't we use `train_test_split` for this model?\n",
    "\n",
    "We absolutely can. Splitting this way was to show *another* way to split the data, and point out under which conditions this way is ok.\n",
    "\n",
    "### I am still confused about machine learning\n",
    "\n",
    "Try reading the notes from the [introduction class](2020-10-12).\n",
    "\n",
    "The scikit-learn [choose an estimator](https://scikit-learn.org/stable/_static/ml_map.png) graph can also be helpful.\n",
    "\n",
    "\n",
    "\n",
    "### What is the difference between test and train data?\n",
    "\n",
    "We split data, sample-wise, into two pieces, in order to evaluate what we are doing.\n",
    "\n",
    "There is nothing inherently different between test data and train data.  In fact, by applying the model we learned with the training data to predict on the test data we are assuming that they are very similar.   \n",
    "\n",
    "We split our data so that we can see how well we expect our trained model to work on new data, since the goal is to send our learned model into the world and use it for something else.  For example, a model fit on today's data, about diabetes, might be used to predict which patients are going to have the most severe disease in a year based on their stats today and then enroll them in a program to help them learn to better manage their diabetes.\n",
    "\n",
    "The test set is meant to simulate future data that we've never seen before, but it's usually data *we* have seen, but our learning algorithm did not use to fit the model.\n",
    "\n",
    "\n",
    "### What does cross validation mean?\n",
    "\n",
    "Cross validation will come up again later, but basically cross validation is a more elaborate evaluation.  It repeatedly splits the data into test and train sets, fits the model, scores the model, and then returns all fo the results.\n",
    "\n",
    "\n",
    "### What does `mean_squared_error` do?\n",
    "\n",
    "It is a popular performance metric for regression.  To understand it, let's look back at what regression is doing.  Regression is tyring to predict a continuous valued quantity, so unlike in classification where we can just check if it matches or not, to compute performance, it makes sense consider the _size_ of the erorr, beacuse it's unlikely to get _exactly_ the right value for any prediction.\n",
    "\n",
    "\n",
    "So, we might be tempted to compute error like this:"
   ]
  },
  {
   "cell_type": "code",
   "execution_count": 22,
   "id": "f24c40c0",
   "metadata": {},
   "outputs": [
    {
     "data": {
      "text/plain": [
       "array([ 35.38153092, -64.43979328, -61.88665147,  40.46462721,\n",
       "       -44.80054784, -64.06954875,  50.87762239,  -6.47935157,\n",
       "        65.9398948 , -58.30503555, -45.36632793,  10.80168716,\n",
       "       -83.25046751, -56.3332925 ,  -4.54458691, -16.03798088,\n",
       "         1.42860298,   8.43395013,   8.9653683 ,   4.39664326])"
      ]
     },
     "execution_count": 22,
     "metadata": {},
     "output_type": "execute_result"
    }
   ],
   "source": [
    "diabetes_y_test2-diabetes_y_pred2"
   ]
  },
  {
   "cell_type": "markdown",
   "id": "8d014ac7",
   "metadata": {},
   "source": [
    "this, however is a whole vector of quantities, so we would need to take the average.  Taking the average here though, will be very small, because some are positive and some are negative and they will cancel one another out."
   ]
  },
  {
   "cell_type": "code",
   "execution_count": 23,
   "id": "23a15b06",
   "metadata": {},
   "outputs": [
    {
     "data": {
      "text/plain": [
       "-13.941182850978748"
      ]
     },
     "execution_count": 23,
     "metadata": {},
     "output_type": "execute_result"
    }
   ],
   "source": [
    "np.mean(diabetes_y_test2-diabetes_y_pred2)\n"
   ]
  },
  {
   "cell_type": "markdown",
   "id": "c013708b",
   "metadata": {},
   "source": [
    "In this case, it turns out to even be negative.\n",
    "\n",
    "Instead, we can square each error, to make them all postive.  We *could* also take the absolute value, but in a lot of calculations, we want to take the derivative, so suqaring instead of absolute value became more popular."
   ]
  },
  {
   "cell_type": "code",
   "execution_count": 24,
   "id": "c814d9f3",
   "metadata": {},
   "outputs": [
    {
     "data": {
      "text/plain": [
       "array([1.25185273e+03, 4.15248696e+03, 3.82995763e+03, 1.63738606e+03,\n",
       "       2.00708909e+03, 4.10490708e+03, 2.58853246e+03, 4.19819967e+01,\n",
       "       4.34806973e+03, 3.39947717e+03, 2.05810371e+03, 1.16676446e+02,\n",
       "       6.93064034e+03, 3.17343984e+03, 2.06532702e+01, 2.57216831e+02,\n",
       "       2.04090647e+00, 7.11315149e+01, 8.03778287e+01, 1.93304719e+01])"
      ]
     },
     "execution_count": 24,
     "metadata": {},
     "output_type": "execute_result"
    }
   ],
   "source": [
    "(diabetes_y_test2-diabetes_y_pred2)**2\n"
   ]
  },
  {
   "cell_type": "markdown",
   "id": "1322ec7f",
   "metadata": {},
   "source": [
    "now we can take the mean of these to get a total average error."
   ]
  },
  {
   "cell_type": "code",
   "execution_count": 25,
   "id": "52644651",
   "metadata": {},
   "outputs": [
    {
     "data": {
      "text/plain": [
       "2004.5676026898207"
      ]
     },
     "execution_count": 25,
     "metadata": {},
     "output_type": "execute_result"
    }
   ],
   "source": [
    "mse_manual = np.mean((diabetes_y_test2-diabetes_y_pred2)**2)\n",
    "mse_manual"
   ]
  },
  {
   "cell_type": "markdown",
   "id": "38b6741f",
   "metadata": {},
   "source": [
    "we can confirm this gets the same answer as the sklearn function"
   ]
  },
  {
   "cell_type": "code",
   "execution_count": 26,
   "id": "60e043d6",
   "metadata": {},
   "outputs": [
    {
     "data": {
      "text/plain": [
       "2004.5676026898207"
      ]
     },
     "execution_count": 26,
     "metadata": {},
     "output_type": "execute_result"
    }
   ],
   "source": [
    "mse_sk = mean_squared_error(diabetes_y_test2,diabetes_y_pred2)\n",
    "mse_sk"
   ]
  },
  {
   "cell_type": "markdown",
   "id": "be5b2a70",
   "metadata": {},
   "source": [
    "We can even assert that they're the same, they're always going to be exactly the same"
   ]
  },
  {
   "cell_type": "code",
   "execution_count": 27,
   "id": "bdd5c94f",
   "metadata": {},
   "outputs": [],
   "source": [
    "assert mse_manual == mse_sk"
   ]
  }
 ],
 "metadata": {
  "jupytext": {
   "text_representation": {
    "extension": ".md",
    "format_name": "myst",
    "format_version": 0.12,
    "jupytext_version": "1.6.0"
   }
  },
  "kernelspec": {
   "display_name": "Python 3",
   "language": "python",
   "name": "python3"
  },
  "language_info": {
   "codemirror_mode": {
    "name": "ipython",
    "version": 3
   },
   "file_extension": ".py",
   "mimetype": "text/x-python",
   "name": "python",
   "nbconvert_exporter": "python",
   "pygments_lexer": "ipython3",
   "version": "3.7.10"
  },
  "source_map": [
   12,
   32,
   39,
   45,
   47,
   51,
   53,
   56,
   58,
   63,
   68,
   71,
   73,
   77,
   79,
   85,
   87,
   91,
   94,
   98,
   100,
   106,
   108,
   112,
   114,
   118,
   120,
   124,
   126,
   130,
   132,
   136,
   138,
   142,
   145,
   154,
   160,
   168,
   178,
   182,
   184,
   207,
   229,
   273,
   275,
   279,
   282,
   289,
   292,
   298,
   301,
   305,
   308,
   313
  ]
 },
 "nbformat": 4,
 "nbformat_minor": 5
}