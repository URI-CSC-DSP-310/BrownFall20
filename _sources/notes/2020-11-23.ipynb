{
 "cells": [
  {
   "cell_type": "markdown",
   "metadata": {},
   "source": [
    "# Class 31: Intro to NLP"
   ]
  },
  {
   "cell_type": "markdown",
   "metadata": {},
   "source": [
    "1. say hello on zoom\n",
    "1. share a sentence on the doc linked on prismia"
   ]
  },
  {
   "cell_type": "code",
   "execution_count": 1,
   "metadata": {},
   "outputs": [],
   "source": [
    "import numpy as np"
   ]
  },
  {
   "cell_type": "code",
   "execution_count": 2,
   "metadata": {},
   "outputs": [],
   "source": [
    "# %load http://drsmb.co/310\n",
    "def classification_confint(acc, n):\n",
    "    '''\n",
    "    Compute the 95% confidence interval for a classification problem.\n",
    "      acc -- classification accuracy\n",
    "      n   -- number of observations used to compute the accuracy\n",
    "    Returns a tuple (lb,ub)\n",
    "    '''\n",
    "    interval = 1.96*np.sqrt(acc*(1-acc)/n)\n",
    "    lb = max(0, acc - interval)\n",
    "    ub = min(1.0, acc + interval)\n",
    "    return (lb,ub)"
   ]
  },
  {
   "cell_type": "code",
   "execution_count": 3,
   "metadata": {},
   "outputs": [
    {
     "data": {
      "text/plain": [
       "(0.6651767828355258, 0.8948232171644742)"
      ]
     },
     "execution_count": 3,
     "metadata": {},
     "output_type": "execute_result"
    }
   ],
   "source": [
    "classification_confint(.78,50)"
   ]
  },
  {
   "cell_type": "code",
   "execution_count": 4,
   "metadata": {},
   "outputs": [
    {
     "data": {
      "text/plain": [
       "(0.816844242532462, 0.983155757467538)"
      ]
     },
     "execution_count": 4,
     "metadata": {},
     "output_type": "execute_result"
    }
   ],
   "source": [
    "classification_confint(.9,50)"
   ]
  },
  {
   "cell_type": "code",
   "execution_count": 5,
   "metadata": {},
   "outputs": [
    {
     "data": {
      "text/plain": [
       "(0.8584221212662311, 0.941577878733769)"
      ]
     },
     "execution_count": 5,
     "metadata": {},
     "output_type": "execute_result"
    }
   ],
   "source": [
    "N =200\n",
    "classification_confint(.9,N)"
   ]
  },
  {
   "cell_type": "code",
   "execution_count": 6,
   "metadata": {},
   "outputs": [
    {
     "data": {
      "text/plain": [
       "(0.722588391417763, 0.8374116085822371)"
      ]
     },
     "execution_count": 6,
     "metadata": {},
     "output_type": "execute_result"
    }
   ],
   "source": [
    "classification_confint(.78,N)"
   ]
  },
  {
   "cell_type": "markdown",
   "metadata": {},
   "source": [
    "## Natural Language Processing"
   ]
  },
  {
   "cell_type": "markdown",
   "metadata": {},
   "source": [
    "### represention\n",
    "\n",
    "- vector\n",
    "- bag of words\n",
    "\n",
    "\n",
    "terms:\n",
    "\n",
    "- document: unit of text we're analyzing (one sample)\n",
    "- token: word\n",
    "- stop words: no meaning, we don't need them"
   ]
  },
  {
   "cell_type": "code",
   "execution_count": 7,
   "metadata": {},
   "outputs": [],
   "source": [
    "# %load http://drsmb.co/310\n",
    "text = {\n",
    "'Demeus Alves':'Hope everybody is staying safe',\n",
    "'Ryan Booth':'The power is out where I live, might be forced to leave soon',\n",
    "'Brianna MacDonald':'Rainy days',\n",
    "'Jair Delgado':'Can not wait for lunch... hungry',\n",
    "'Shawn Vincent':'I am excited for Thaksgiving',\n",
    "'Jacob Afonso':'Short weeks are the best!',\n",
    "'Ryan Buquicchio':'The sentence is sentence. (Best sentence ever)',\n",
    "'Nick McCaffery':'Very windy today',\n",
    "'David Perrone':'this is a sentence',\n",
    "'Masoud':'It is rainy here. What about there?',\n",
    "'Rony Lopes':'I get to relax later this week',\n",
    "'Patrick Dowd':'It is cold out today',\n",
    "'Ruifang Kuang':'Happy Thanksgiving!',\n",
    "}"
   ]
  },
  {
   "cell_type": "code",
   "execution_count": 8,
   "metadata": {},
   "outputs": [],
   "source": [
    "from sklearn.feature_extraction.text import CountVectorizer\n",
    "from sklearn.metrics.pairwise import euclidean_distances"
   ]
  },
  {
   "cell_type": "code",
   "execution_count": 9,
   "metadata": {},
   "outputs": [
    {
     "data": {
      "text/plain": [
       "'Hope everybody is staying safe'"
      ]
     },
     "execution_count": 9,
     "metadata": {},
     "output_type": "execute_result"
    }
   ],
   "source": [
    "text['Demeus Alves']"
   ]
  },
  {
   "cell_type": "code",
   "execution_count": 10,
   "metadata": {},
   "outputs": [],
   "source": [
    "s1 = text['Demeus Alves']"
   ]
  },
  {
   "cell_type": "code",
   "execution_count": 11,
   "metadata": {},
   "outputs": [
    {
     "data": {
      "text/plain": [
       "'Hope everybody is staying safe'"
      ]
     },
     "execution_count": 11,
     "metadata": {},
     "output_type": "execute_result"
    }
   ],
   "source": [
    "s1"
   ]
  },
  {
   "cell_type": "code",
   "execution_count": 12,
   "metadata": {},
   "outputs": [],
   "source": [
    "counts = CountVectorizer()"
   ]
  },
  {
   "cell_type": "code",
   "execution_count": 13,
   "metadata": {},
   "outputs": [
    {
     "data": {
      "text/plain": [
       "<1x5 sparse matrix of type '<class 'numpy.int64'>'\n",
       "\twith 5 stored elements in Compressed Sparse Row format>"
      ]
     },
     "execution_count": 13,
     "metadata": {},
     "output_type": "execute_result"
    }
   ],
   "source": [
    "counts.fit_transform([s1])"
   ]
  },
  {
   "cell_type": "code",
   "execution_count": 14,
   "metadata": {},
   "outputs": [
    {
     "data": {
      "text/plain": [
       "{'hope': 1, 'everybody': 0, 'is': 2, 'staying': 4, 'safe': 3}"
      ]
     },
     "execution_count": 14,
     "metadata": {},
     "output_type": "execute_result"
    }
   ],
   "source": [
    "counts.vocabulary_"
   ]
  },
  {
   "cell_type": "code",
   "execution_count": 15,
   "metadata": {},
   "outputs": [
    {
     "data": {
      "text/plain": [
       "<13x49 sparse matrix of type '<class 'numpy.int64'>'\n",
       "\twith 65 stored elements in Compressed Sparse Row format>"
      ]
     },
     "execution_count": 15,
     "metadata": {},
     "output_type": "execute_result"
    }
   ],
   "source": [
    "counts.fit_transform(text.values())"
   ]
  },
  {
   "cell_type": "code",
   "execution_count": 16,
   "metadata": {},
   "outputs": [
    {
     "data": {
      "text/plain": [
       "{'hope': 16,\n",
       " 'everybody': 9,\n",
       " 'is': 18,\n",
       " 'staying': 34,\n",
       " 'safe': 30,\n",
       " 'the': 37,\n",
       " 'power': 27,\n",
       " 'out': 26,\n",
       " 'where': 47,\n",
       " 'live': 22,\n",
       " 'might': 24,\n",
       " 'be': 3,\n",
       " 'forced': 12,\n",
       " 'to': 40,\n",
       " 'leave': 21,\n",
       " 'soon': 33,\n",
       " 'rainy': 28,\n",
       " 'days': 7,\n",
       " 'can': 5,\n",
       " 'not': 25,\n",
       " 'wait': 43,\n",
       " 'for': 11,\n",
       " 'lunch': 23,\n",
       " 'hungry': 17,\n",
       " 'am': 1,\n",
       " 'excited': 10,\n",
       " 'thaksgiving': 35,\n",
       " 'short': 32,\n",
       " 'weeks': 45,\n",
       " 'are': 2,\n",
       " 'best': 4,\n",
       " 'sentence': 31,\n",
       " 'ever': 8,\n",
       " 'very': 42,\n",
       " 'windy': 48,\n",
       " 'today': 41,\n",
       " 'this': 39,\n",
       " 'it': 19,\n",
       " 'here': 15,\n",
       " 'what': 46,\n",
       " 'about': 0,\n",
       " 'there': 38,\n",
       " 'get': 13,\n",
       " 'relax': 29,\n",
       " 'later': 20,\n",
       " 'week': 44,\n",
       " 'cold': 6,\n",
       " 'happy': 14,\n",
       " 'thanksgiving': 36}"
      ]
     },
     "execution_count": 16,
     "metadata": {},
     "output_type": "execute_result"
    }
   ],
   "source": [
    "counts.vocabulary_"
   ]
  },
  {
   "cell_type": "code",
   "execution_count": 17,
   "metadata": {},
   "outputs": [
    {
     "data": {
      "text/plain": [
       "array([[0, 0, 0, 0, 0, 0, 0, 0, 0, 1, 0, 0, 0, 0, 0, 0, 1, 0, 1, 0, 0, 0,\n",
       "        0, 0, 0, 0, 0, 0, 0, 0, 1, 0, 0, 0, 1, 0, 0, 0, 0, 0, 0, 0, 0, 0,\n",
       "        0, 0, 0, 0, 0],\n",
       "       [0, 0, 0, 1, 0, 0, 0, 0, 0, 0, 0, 0, 1, 0, 0, 0, 0, 0, 1, 0, 0, 1,\n",
       "        1, 0, 1, 0, 1, 1, 0, 0, 0, 0, 0, 1, 0, 0, 0, 1, 0, 0, 1, 0, 0, 0,\n",
       "        0, 0, 0, 1, 0],\n",
       "       [0, 0, 0, 0, 0, 0, 0, 1, 0, 0, 0, 0, 0, 0, 0, 0, 0, 0, 0, 0, 0, 0,\n",
       "        0, 0, 0, 0, 0, 0, 1, 0, 0, 0, 0, 0, 0, 0, 0, 0, 0, 0, 0, 0, 0, 0,\n",
       "        0, 0, 0, 0, 0],\n",
       "       [0, 0, 0, 0, 0, 1, 0, 0, 0, 0, 0, 1, 0, 0, 0, 0, 0, 1, 0, 0, 0, 0,\n",
       "        0, 1, 0, 1, 0, 0, 0, 0, 0, 0, 0, 0, 0, 0, 0, 0, 0, 0, 0, 0, 0, 1,\n",
       "        0, 0, 0, 0, 0],\n",
       "       [0, 1, 0, 0, 0, 0, 0, 0, 0, 0, 1, 1, 0, 0, 0, 0, 0, 0, 0, 0, 0, 0,\n",
       "        0, 0, 0, 0, 0, 0, 0, 0, 0, 0, 0, 0, 0, 1, 0, 0, 0, 0, 0, 0, 0, 0,\n",
       "        0, 0, 0, 0, 0],\n",
       "       [0, 0, 1, 0, 1, 0, 0, 0, 0, 0, 0, 0, 0, 0, 0, 0, 0, 0, 0, 0, 0, 0,\n",
       "        0, 0, 0, 0, 0, 0, 0, 0, 0, 0, 1, 0, 0, 0, 0, 1, 0, 0, 0, 0, 0, 0,\n",
       "        0, 1, 0, 0, 0],\n",
       "       [0, 0, 0, 0, 1, 0, 0, 0, 1, 0, 0, 0, 0, 0, 0, 0, 0, 0, 1, 0, 0, 0,\n",
       "        0, 0, 0, 0, 0, 0, 0, 0, 0, 3, 0, 0, 0, 0, 0, 1, 0, 0, 0, 0, 0, 0,\n",
       "        0, 0, 0, 0, 0],\n",
       "       [0, 0, 0, 0, 0, 0, 0, 0, 0, 0, 0, 0, 0, 0, 0, 0, 0, 0, 0, 0, 0, 0,\n",
       "        0, 0, 0, 0, 0, 0, 0, 0, 0, 0, 0, 0, 0, 0, 0, 0, 0, 0, 0, 1, 1, 0,\n",
       "        0, 0, 0, 0, 1],\n",
       "       [0, 0, 0, 0, 0, 0, 0, 0, 0, 0, 0, 0, 0, 0, 0, 0, 0, 0, 1, 0, 0, 0,\n",
       "        0, 0, 0, 0, 0, 0, 0, 0, 0, 1, 0, 0, 0, 0, 0, 0, 0, 1, 0, 0, 0, 0,\n",
       "        0, 0, 0, 0, 0],\n",
       "       [1, 0, 0, 0, 0, 0, 0, 0, 0, 0, 0, 0, 0, 0, 0, 1, 0, 0, 1, 1, 0, 0,\n",
       "        0, 0, 0, 0, 0, 0, 1, 0, 0, 0, 0, 0, 0, 0, 0, 0, 1, 0, 0, 0, 0, 0,\n",
       "        0, 0, 1, 0, 0],\n",
       "       [0, 0, 0, 0, 0, 0, 0, 0, 0, 0, 0, 0, 0, 1, 0, 0, 0, 0, 0, 0, 1, 0,\n",
       "        0, 0, 0, 0, 0, 0, 0, 1, 0, 0, 0, 0, 0, 0, 0, 0, 0, 1, 1, 0, 0, 0,\n",
       "        1, 0, 0, 0, 0],\n",
       "       [0, 0, 0, 0, 0, 0, 1, 0, 0, 0, 0, 0, 0, 0, 0, 0, 0, 0, 1, 1, 0, 0,\n",
       "        0, 0, 0, 0, 1, 0, 0, 0, 0, 0, 0, 0, 0, 0, 0, 0, 0, 0, 0, 1, 0, 0,\n",
       "        0, 0, 0, 0, 0],\n",
       "       [0, 0, 0, 0, 0, 0, 0, 0, 0, 0, 0, 0, 0, 0, 1, 0, 0, 0, 0, 0, 0, 0,\n",
       "        0, 0, 0, 0, 0, 0, 0, 0, 0, 0, 0, 0, 0, 0, 1, 0, 0, 0, 0, 0, 0, 0,\n",
       "        0, 0, 0, 0, 0]])"
      ]
     },
     "execution_count": 17,
     "metadata": {},
     "output_type": "execute_result"
    }
   ],
   "source": [
    "mat = counts.fit_transform(text.values()).toarray()\n",
    "mat"
   ]
  },
  {
   "cell_type": "code",
   "execution_count": 18,
   "metadata": {},
   "outputs": [],
   "source": [
    "import pandas as pd"
   ]
  },
  {
   "cell_type": "code",
   "execution_count": 19,
   "metadata": {},
   "outputs": [
    {
     "data": {
      "text/plain": [
       "['about',\n",
       " 'am',\n",
       " 'are',\n",
       " 'be',\n",
       " 'best',\n",
       " 'can',\n",
       " 'cold',\n",
       " 'days',\n",
       " 'ever',\n",
       " 'everybody',\n",
       " 'excited',\n",
       " 'for',\n",
       " 'forced',\n",
       " 'get',\n",
       " 'happy',\n",
       " 'here',\n",
       " 'hope',\n",
       " 'hungry',\n",
       " 'is',\n",
       " 'it',\n",
       " 'later',\n",
       " 'leave',\n",
       " 'live',\n",
       " 'lunch',\n",
       " 'might',\n",
       " 'not',\n",
       " 'out',\n",
       " 'power',\n",
       " 'rainy',\n",
       " 'relax',\n",
       " 'safe',\n",
       " 'sentence',\n",
       " 'short',\n",
       " 'soon',\n",
       " 'staying',\n",
       " 'thaksgiving',\n",
       " 'thanksgiving',\n",
       " 'the',\n",
       " 'there',\n",
       " 'this',\n",
       " 'to',\n",
       " 'today',\n",
       " 'very',\n",
       " 'wait',\n",
       " 'week',\n",
       " 'weeks',\n",
       " 'what',\n",
       " 'where',\n",
       " 'windy']"
      ]
     },
     "execution_count": 19,
     "metadata": {},
     "output_type": "execute_result"
    }
   ],
   "source": [
    "counts.get_feature_names()"
   ]
  },
  {
   "cell_type": "code",
   "execution_count": 20,
   "metadata": {},
   "outputs": [
    {
     "data": {
      "text/html": [
       "<div>\n",
       "<style scoped>\n",
       "    .dataframe tbody tr th:only-of-type {\n",
       "        vertical-align: middle;\n",
       "    }\n",
       "\n",
       "    .dataframe tbody tr th {\n",
       "        vertical-align: top;\n",
       "    }\n",
       "\n",
       "    .dataframe thead th {\n",
       "        text-align: right;\n",
       "    }\n",
       "</style>\n",
       "<table border=\"1\" class=\"dataframe\">\n",
       "  <thead>\n",
       "    <tr style=\"text-align: right;\">\n",
       "      <th></th>\n",
       "      <th>about</th>\n",
       "      <th>am</th>\n",
       "      <th>are</th>\n",
       "      <th>be</th>\n",
       "      <th>best</th>\n",
       "      <th>can</th>\n",
       "      <th>cold</th>\n",
       "      <th>days</th>\n",
       "      <th>ever</th>\n",
       "      <th>everybody</th>\n",
       "      <th>...</th>\n",
       "      <th>this</th>\n",
       "      <th>to</th>\n",
       "      <th>today</th>\n",
       "      <th>very</th>\n",
       "      <th>wait</th>\n",
       "      <th>week</th>\n",
       "      <th>weeks</th>\n",
       "      <th>what</th>\n",
       "      <th>where</th>\n",
       "      <th>windy</th>\n",
       "    </tr>\n",
       "  </thead>\n",
       "  <tbody>\n",
       "    <tr>\n",
       "      <th>Demeus Alves</th>\n",
       "      <td>0</td>\n",
       "      <td>0</td>\n",
       "      <td>0</td>\n",
       "      <td>0</td>\n",
       "      <td>0</td>\n",
       "      <td>0</td>\n",
       "      <td>0</td>\n",
       "      <td>0</td>\n",
       "      <td>0</td>\n",
       "      <td>1</td>\n",
       "      <td>...</td>\n",
       "      <td>0</td>\n",
       "      <td>0</td>\n",
       "      <td>0</td>\n",
       "      <td>0</td>\n",
       "      <td>0</td>\n",
       "      <td>0</td>\n",
       "      <td>0</td>\n",
       "      <td>0</td>\n",
       "      <td>0</td>\n",
       "      <td>0</td>\n",
       "    </tr>\n",
       "    <tr>\n",
       "      <th>Ryan Booth</th>\n",
       "      <td>0</td>\n",
       "      <td>0</td>\n",
       "      <td>0</td>\n",
       "      <td>1</td>\n",
       "      <td>0</td>\n",
       "      <td>0</td>\n",
       "      <td>0</td>\n",
       "      <td>0</td>\n",
       "      <td>0</td>\n",
       "      <td>0</td>\n",
       "      <td>...</td>\n",
       "      <td>0</td>\n",
       "      <td>1</td>\n",
       "      <td>0</td>\n",
       "      <td>0</td>\n",
       "      <td>0</td>\n",
       "      <td>0</td>\n",
       "      <td>0</td>\n",
       "      <td>0</td>\n",
       "      <td>1</td>\n",
       "      <td>0</td>\n",
       "    </tr>\n",
       "    <tr>\n",
       "      <th>Brianna MacDonald</th>\n",
       "      <td>0</td>\n",
       "      <td>0</td>\n",
       "      <td>0</td>\n",
       "      <td>0</td>\n",
       "      <td>0</td>\n",
       "      <td>0</td>\n",
       "      <td>0</td>\n",
       "      <td>1</td>\n",
       "      <td>0</td>\n",
       "      <td>0</td>\n",
       "      <td>...</td>\n",
       "      <td>0</td>\n",
       "      <td>0</td>\n",
       "      <td>0</td>\n",
       "      <td>0</td>\n",
       "      <td>0</td>\n",
       "      <td>0</td>\n",
       "      <td>0</td>\n",
       "      <td>0</td>\n",
       "      <td>0</td>\n",
       "      <td>0</td>\n",
       "    </tr>\n",
       "    <tr>\n",
       "      <th>Jair Delgado</th>\n",
       "      <td>0</td>\n",
       "      <td>0</td>\n",
       "      <td>0</td>\n",
       "      <td>0</td>\n",
       "      <td>0</td>\n",
       "      <td>1</td>\n",
       "      <td>0</td>\n",
       "      <td>0</td>\n",
       "      <td>0</td>\n",
       "      <td>0</td>\n",
       "      <td>...</td>\n",
       "      <td>0</td>\n",
       "      <td>0</td>\n",
       "      <td>0</td>\n",
       "      <td>0</td>\n",
       "      <td>1</td>\n",
       "      <td>0</td>\n",
       "      <td>0</td>\n",
       "      <td>0</td>\n",
       "      <td>0</td>\n",
       "      <td>0</td>\n",
       "    </tr>\n",
       "    <tr>\n",
       "      <th>Shawn Vincent</th>\n",
       "      <td>0</td>\n",
       "      <td>1</td>\n",
       "      <td>0</td>\n",
       "      <td>0</td>\n",
       "      <td>0</td>\n",
       "      <td>0</td>\n",
       "      <td>0</td>\n",
       "      <td>0</td>\n",
       "      <td>0</td>\n",
       "      <td>0</td>\n",
       "      <td>...</td>\n",
       "      <td>0</td>\n",
       "      <td>0</td>\n",
       "      <td>0</td>\n",
       "      <td>0</td>\n",
       "      <td>0</td>\n",
       "      <td>0</td>\n",
       "      <td>0</td>\n",
       "      <td>0</td>\n",
       "      <td>0</td>\n",
       "      <td>0</td>\n",
       "    </tr>\n",
       "    <tr>\n",
       "      <th>Jacob Afonso</th>\n",
       "      <td>0</td>\n",
       "      <td>0</td>\n",
       "      <td>1</td>\n",
       "      <td>0</td>\n",
       "      <td>1</td>\n",
       "      <td>0</td>\n",
       "      <td>0</td>\n",
       "      <td>0</td>\n",
       "      <td>0</td>\n",
       "      <td>0</td>\n",
       "      <td>...</td>\n",
       "      <td>0</td>\n",
       "      <td>0</td>\n",
       "      <td>0</td>\n",
       "      <td>0</td>\n",
       "      <td>0</td>\n",
       "      <td>0</td>\n",
       "      <td>1</td>\n",
       "      <td>0</td>\n",
       "      <td>0</td>\n",
       "      <td>0</td>\n",
       "    </tr>\n",
       "    <tr>\n",
       "      <th>Ryan Buquicchio</th>\n",
       "      <td>0</td>\n",
       "      <td>0</td>\n",
       "      <td>0</td>\n",
       "      <td>0</td>\n",
       "      <td>1</td>\n",
       "      <td>0</td>\n",
       "      <td>0</td>\n",
       "      <td>0</td>\n",
       "      <td>1</td>\n",
       "      <td>0</td>\n",
       "      <td>...</td>\n",
       "      <td>0</td>\n",
       "      <td>0</td>\n",
       "      <td>0</td>\n",
       "      <td>0</td>\n",
       "      <td>0</td>\n",
       "      <td>0</td>\n",
       "      <td>0</td>\n",
       "      <td>0</td>\n",
       "      <td>0</td>\n",
       "      <td>0</td>\n",
       "    </tr>\n",
       "    <tr>\n",
       "      <th>Nick McCaffery</th>\n",
       "      <td>0</td>\n",
       "      <td>0</td>\n",
       "      <td>0</td>\n",
       "      <td>0</td>\n",
       "      <td>0</td>\n",
       "      <td>0</td>\n",
       "      <td>0</td>\n",
       "      <td>0</td>\n",
       "      <td>0</td>\n",
       "      <td>0</td>\n",
       "      <td>...</td>\n",
       "      <td>0</td>\n",
       "      <td>0</td>\n",
       "      <td>1</td>\n",
       "      <td>1</td>\n",
       "      <td>0</td>\n",
       "      <td>0</td>\n",
       "      <td>0</td>\n",
       "      <td>0</td>\n",
       "      <td>0</td>\n",
       "      <td>1</td>\n",
       "    </tr>\n",
       "    <tr>\n",
       "      <th>David Perrone</th>\n",
       "      <td>0</td>\n",
       "      <td>0</td>\n",
       "      <td>0</td>\n",
       "      <td>0</td>\n",
       "      <td>0</td>\n",
       "      <td>0</td>\n",
       "      <td>0</td>\n",
       "      <td>0</td>\n",
       "      <td>0</td>\n",
       "      <td>0</td>\n",
       "      <td>...</td>\n",
       "      <td>1</td>\n",
       "      <td>0</td>\n",
       "      <td>0</td>\n",
       "      <td>0</td>\n",
       "      <td>0</td>\n",
       "      <td>0</td>\n",
       "      <td>0</td>\n",
       "      <td>0</td>\n",
       "      <td>0</td>\n",
       "      <td>0</td>\n",
       "    </tr>\n",
       "    <tr>\n",
       "      <th>Masoud</th>\n",
       "      <td>1</td>\n",
       "      <td>0</td>\n",
       "      <td>0</td>\n",
       "      <td>0</td>\n",
       "      <td>0</td>\n",
       "      <td>0</td>\n",
       "      <td>0</td>\n",
       "      <td>0</td>\n",
       "      <td>0</td>\n",
       "      <td>0</td>\n",
       "      <td>...</td>\n",
       "      <td>0</td>\n",
       "      <td>0</td>\n",
       "      <td>0</td>\n",
       "      <td>0</td>\n",
       "      <td>0</td>\n",
       "      <td>0</td>\n",
       "      <td>0</td>\n",
       "      <td>1</td>\n",
       "      <td>0</td>\n",
       "      <td>0</td>\n",
       "    </tr>\n",
       "    <tr>\n",
       "      <th>Rony Lopes</th>\n",
       "      <td>0</td>\n",
       "      <td>0</td>\n",
       "      <td>0</td>\n",
       "      <td>0</td>\n",
       "      <td>0</td>\n",
       "      <td>0</td>\n",
       "      <td>0</td>\n",
       "      <td>0</td>\n",
       "      <td>0</td>\n",
       "      <td>0</td>\n",
       "      <td>...</td>\n",
       "      <td>1</td>\n",
       "      <td>1</td>\n",
       "      <td>0</td>\n",
       "      <td>0</td>\n",
       "      <td>0</td>\n",
       "      <td>1</td>\n",
       "      <td>0</td>\n",
       "      <td>0</td>\n",
       "      <td>0</td>\n",
       "      <td>0</td>\n",
       "    </tr>\n",
       "    <tr>\n",
       "      <th>Patrick Dowd</th>\n",
       "      <td>0</td>\n",
       "      <td>0</td>\n",
       "      <td>0</td>\n",
       "      <td>0</td>\n",
       "      <td>0</td>\n",
       "      <td>0</td>\n",
       "      <td>1</td>\n",
       "      <td>0</td>\n",
       "      <td>0</td>\n",
       "      <td>0</td>\n",
       "      <td>...</td>\n",
       "      <td>0</td>\n",
       "      <td>0</td>\n",
       "      <td>1</td>\n",
       "      <td>0</td>\n",
       "      <td>0</td>\n",
       "      <td>0</td>\n",
       "      <td>0</td>\n",
       "      <td>0</td>\n",
       "      <td>0</td>\n",
       "      <td>0</td>\n",
       "    </tr>\n",
       "    <tr>\n",
       "      <th>Ruifang Kuang</th>\n",
       "      <td>0</td>\n",
       "      <td>0</td>\n",
       "      <td>0</td>\n",
       "      <td>0</td>\n",
       "      <td>0</td>\n",
       "      <td>0</td>\n",
       "      <td>0</td>\n",
       "      <td>0</td>\n",
       "      <td>0</td>\n",
       "      <td>0</td>\n",
       "      <td>...</td>\n",
       "      <td>0</td>\n",
       "      <td>0</td>\n",
       "      <td>0</td>\n",
       "      <td>0</td>\n",
       "      <td>0</td>\n",
       "      <td>0</td>\n",
       "      <td>0</td>\n",
       "      <td>0</td>\n",
       "      <td>0</td>\n",
       "      <td>0</td>\n",
       "    </tr>\n",
       "  </tbody>\n",
       "</table>\n",
       "<p>13 rows × 49 columns</p>\n",
       "</div>"
      ],
      "text/plain": [
       "                   about  am  are  be  best  can  cold  days  ever  everybody  \\\n",
       "Demeus Alves           0   0    0   0     0    0     0     0     0          1   \n",
       "Ryan Booth             0   0    0   1     0    0     0     0     0          0   \n",
       "Brianna MacDonald      0   0    0   0     0    0     0     1     0          0   \n",
       "Jair Delgado           0   0    0   0     0    1     0     0     0          0   \n",
       "Shawn Vincent          0   1    0   0     0    0     0     0     0          0   \n",
       "Jacob Afonso           0   0    1   0     1    0     0     0     0          0   \n",
       "Ryan Buquicchio        0   0    0   0     1    0     0     0     1          0   \n",
       "Nick McCaffery         0   0    0   0     0    0     0     0     0          0   \n",
       "David Perrone          0   0    0   0     0    0     0     0     0          0   \n",
       "Masoud                 1   0    0   0     0    0     0     0     0          0   \n",
       "Rony Lopes             0   0    0   0     0    0     0     0     0          0   \n",
       "Patrick Dowd           0   0    0   0     0    0     1     0     0          0   \n",
       "Ruifang Kuang          0   0    0   0     0    0     0     0     0          0   \n",
       "\n",
       "                   ...  this  to  today  very  wait  week  weeks  what  where  \\\n",
       "Demeus Alves       ...     0   0      0     0     0     0      0     0      0   \n",
       "Ryan Booth         ...     0   1      0     0     0     0      0     0      1   \n",
       "Brianna MacDonald  ...     0   0      0     0     0     0      0     0      0   \n",
       "Jair Delgado       ...     0   0      0     0     1     0      0     0      0   \n",
       "Shawn Vincent      ...     0   0      0     0     0     0      0     0      0   \n",
       "Jacob Afonso       ...     0   0      0     0     0     0      1     0      0   \n",
       "Ryan Buquicchio    ...     0   0      0     0     0     0      0     0      0   \n",
       "Nick McCaffery     ...     0   0      1     1     0     0      0     0      0   \n",
       "David Perrone      ...     1   0      0     0     0     0      0     0      0   \n",
       "Masoud             ...     0   0      0     0     0     0      0     1      0   \n",
       "Rony Lopes         ...     1   1      0     0     0     1      0     0      0   \n",
       "Patrick Dowd       ...     0   0      1     0     0     0      0     0      0   \n",
       "Ruifang Kuang      ...     0   0      0     0     0     0      0     0      0   \n",
       "\n",
       "                   windy  \n",
       "Demeus Alves           0  \n",
       "Ryan Booth             0  \n",
       "Brianna MacDonald      0  \n",
       "Jair Delgado           0  \n",
       "Shawn Vincent          0  \n",
       "Jacob Afonso           0  \n",
       "Ryan Buquicchio        0  \n",
       "Nick McCaffery         1  \n",
       "David Perrone          0  \n",
       "Masoud                 0  \n",
       "Rony Lopes             0  \n",
       "Patrick Dowd           0  \n",
       "Ruifang Kuang          0  \n",
       "\n",
       "[13 rows x 49 columns]"
      ]
     },
     "execution_count": 20,
     "metadata": {},
     "output_type": "execute_result"
    }
   ],
   "source": [
    "text_df = pd.DataFrame(data=mat, index = text.keys(), columns=counts.get_feature_names() )\n",
    "text_df"
   ]
  },
  {
   "cell_type": "code",
   "execution_count": 21,
   "metadata": {},
   "outputs": [
    {
     "data": {
      "text/plain": [
       "array([[0.        , 3.87298335, 2.64575131, 3.31662479, 3.        ,\n",
       "        3.16227766, 4.        , 2.82842712, 2.44948974, 3.16227766,\n",
       "        3.31662479, 2.82842712, 2.64575131],\n",
       "       [3.87298335, 0.        , 3.74165739, 4.24264069, 4.        ,\n",
       "        3.87298335, 4.58257569, 3.87298335, 3.60555128, 4.12310563,\n",
       "        4.        , 3.60555128, 3.74165739],\n",
       "       [2.64575131, 3.74165739, 0.        , 2.82842712, 2.44948974,\n",
       "        2.64575131, 3.87298335, 2.23606798, 2.23606798, 2.64575131,\n",
       "        2.82842712, 2.64575131, 2.        ],\n",
       "       [3.31662479, 4.24264069, 2.82842712, 0.        , 2.82842712,\n",
       "        3.31662479, 4.35889894, 3.        , 3.        , 3.60555128,\n",
       "        3.46410162, 3.31662479, 2.82842712],\n",
       "       [3.        , 4.        , 2.44948974, 2.82842712, 0.        ,\n",
       "        3.        , 4.12310563, 2.64575131, 2.64575131, 3.31662479,\n",
       "        3.16227766, 3.        , 2.44948974],\n",
       "       [3.16227766, 3.87298335, 2.64575131, 3.31662479, 3.        ,\n",
       "        0.        , 3.74165739, 2.82842712, 2.82842712, 3.46410162,\n",
       "        3.31662479, 3.16227766, 2.64575131],\n",
       "       [4.        , 4.58257569, 3.87298335, 4.35889894, 4.12310563,\n",
       "        3.74165739, 0.        , 4.        , 2.82842712, 4.24264069,\n",
       "        4.35889894, 4.        , 3.87298335],\n",
       "       [2.82842712, 3.87298335, 2.23606798, 3.        , 2.64575131,\n",
       "        2.82842712, 4.        , 0.        , 2.44948974, 3.16227766,\n",
       "        3.        , 2.44948974, 2.23606798],\n",
       "       [2.44948974, 3.60555128, 2.23606798, 3.        , 2.64575131,\n",
       "        2.82842712, 2.82842712, 2.44948974, 0.        , 2.82842712,\n",
       "        2.64575131, 2.44948974, 2.23606798],\n",
       "       [3.16227766, 4.12310563, 2.64575131, 3.60555128, 3.31662479,\n",
       "        3.46410162, 4.24264069, 3.16227766, 2.82842712, 0.        ,\n",
       "        3.60555128, 2.82842712, 3.        ],\n",
       "       [3.31662479, 4.        , 2.82842712, 3.46410162, 3.16227766,\n",
       "        3.31662479, 4.35889894, 3.        , 2.64575131, 3.60555128,\n",
       "        0.        , 3.31662479, 2.82842712],\n",
       "       [2.82842712, 3.60555128, 2.64575131, 3.31662479, 3.        ,\n",
       "        3.16227766, 4.        , 2.44948974, 2.44948974, 2.82842712,\n",
       "        3.31662479, 0.        , 2.64575131],\n",
       "       [2.64575131, 3.74165739, 2.        , 2.82842712, 2.44948974,\n",
       "        2.64575131, 3.87298335, 2.23606798, 2.23606798, 3.        ,\n",
       "        2.82842712, 2.64575131, 0.        ]])"
      ]
     },
     "execution_count": 21,
     "metadata": {},
     "output_type": "execute_result"
    }
   ],
   "source": [
    "euclidean_distances(text_df)"
   ]
  },
  {
   "cell_type": "code",
   "execution_count": 22,
   "metadata": {},
   "outputs": [
    {
     "data": {
      "text/html": [
       "<div>\n",
       "<style scoped>\n",
       "    .dataframe tbody tr th:only-of-type {\n",
       "        vertical-align: middle;\n",
       "    }\n",
       "\n",
       "    .dataframe tbody tr th {\n",
       "        vertical-align: top;\n",
       "    }\n",
       "\n",
       "    .dataframe thead th {\n",
       "        text-align: right;\n",
       "    }\n",
       "</style>\n",
       "<table border=\"1\" class=\"dataframe\">\n",
       "  <thead>\n",
       "    <tr style=\"text-align: right;\">\n",
       "      <th></th>\n",
       "      <th>Demeus Alves</th>\n",
       "      <th>Ryan Booth</th>\n",
       "      <th>Brianna MacDonald</th>\n",
       "      <th>Jair Delgado</th>\n",
       "      <th>Shawn Vincent</th>\n",
       "      <th>Jacob Afonso</th>\n",
       "      <th>Ryan Buquicchio</th>\n",
       "      <th>Nick McCaffery</th>\n",
       "      <th>David Perrone</th>\n",
       "      <th>Masoud</th>\n",
       "      <th>Rony Lopes</th>\n",
       "      <th>Patrick Dowd</th>\n",
       "      <th>Ruifang Kuang</th>\n",
       "    </tr>\n",
       "  </thead>\n",
       "  <tbody>\n",
       "    <tr>\n",
       "      <th>Demeus Alves</th>\n",
       "      <td>0.000000</td>\n",
       "      <td>3.872983</td>\n",
       "      <td>2.645751</td>\n",
       "      <td>3.316625</td>\n",
       "      <td>3.000000</td>\n",
       "      <td>3.162278</td>\n",
       "      <td>4.000000</td>\n",
       "      <td>2.828427</td>\n",
       "      <td>2.449490</td>\n",
       "      <td>3.162278</td>\n",
       "      <td>3.316625</td>\n",
       "      <td>2.828427</td>\n",
       "      <td>2.645751</td>\n",
       "    </tr>\n",
       "    <tr>\n",
       "      <th>Ryan Booth</th>\n",
       "      <td>3.872983</td>\n",
       "      <td>0.000000</td>\n",
       "      <td>3.741657</td>\n",
       "      <td>4.242641</td>\n",
       "      <td>4.000000</td>\n",
       "      <td>3.872983</td>\n",
       "      <td>4.582576</td>\n",
       "      <td>3.872983</td>\n",
       "      <td>3.605551</td>\n",
       "      <td>4.123106</td>\n",
       "      <td>4.000000</td>\n",
       "      <td>3.605551</td>\n",
       "      <td>3.741657</td>\n",
       "    </tr>\n",
       "    <tr>\n",
       "      <th>Brianna MacDonald</th>\n",
       "      <td>2.645751</td>\n",
       "      <td>3.741657</td>\n",
       "      <td>0.000000</td>\n",
       "      <td>2.828427</td>\n",
       "      <td>2.449490</td>\n",
       "      <td>2.645751</td>\n",
       "      <td>3.872983</td>\n",
       "      <td>2.236068</td>\n",
       "      <td>2.236068</td>\n",
       "      <td>2.645751</td>\n",
       "      <td>2.828427</td>\n",
       "      <td>2.645751</td>\n",
       "      <td>2.000000</td>\n",
       "    </tr>\n",
       "    <tr>\n",
       "      <th>Jair Delgado</th>\n",
       "      <td>3.316625</td>\n",
       "      <td>4.242641</td>\n",
       "      <td>2.828427</td>\n",
       "      <td>0.000000</td>\n",
       "      <td>2.828427</td>\n",
       "      <td>3.316625</td>\n",
       "      <td>4.358899</td>\n",
       "      <td>3.000000</td>\n",
       "      <td>3.000000</td>\n",
       "      <td>3.605551</td>\n",
       "      <td>3.464102</td>\n",
       "      <td>3.316625</td>\n",
       "      <td>2.828427</td>\n",
       "    </tr>\n",
       "    <tr>\n",
       "      <th>Shawn Vincent</th>\n",
       "      <td>3.000000</td>\n",
       "      <td>4.000000</td>\n",
       "      <td>2.449490</td>\n",
       "      <td>2.828427</td>\n",
       "      <td>0.000000</td>\n",
       "      <td>3.000000</td>\n",
       "      <td>4.123106</td>\n",
       "      <td>2.645751</td>\n",
       "      <td>2.645751</td>\n",
       "      <td>3.316625</td>\n",
       "      <td>3.162278</td>\n",
       "      <td>3.000000</td>\n",
       "      <td>2.449490</td>\n",
       "    </tr>\n",
       "    <tr>\n",
       "      <th>Jacob Afonso</th>\n",
       "      <td>3.162278</td>\n",
       "      <td>3.872983</td>\n",
       "      <td>2.645751</td>\n",
       "      <td>3.316625</td>\n",
       "      <td>3.000000</td>\n",
       "      <td>0.000000</td>\n",
       "      <td>3.741657</td>\n",
       "      <td>2.828427</td>\n",
       "      <td>2.828427</td>\n",
       "      <td>3.464102</td>\n",
       "      <td>3.316625</td>\n",
       "      <td>3.162278</td>\n",
       "      <td>2.645751</td>\n",
       "    </tr>\n",
       "    <tr>\n",
       "      <th>Ryan Buquicchio</th>\n",
       "      <td>4.000000</td>\n",
       "      <td>4.582576</td>\n",
       "      <td>3.872983</td>\n",
       "      <td>4.358899</td>\n",
       "      <td>4.123106</td>\n",
       "      <td>3.741657</td>\n",
       "      <td>0.000000</td>\n",
       "      <td>4.000000</td>\n",
       "      <td>2.828427</td>\n",
       "      <td>4.242641</td>\n",
       "      <td>4.358899</td>\n",
       "      <td>4.000000</td>\n",
       "      <td>3.872983</td>\n",
       "    </tr>\n",
       "    <tr>\n",
       "      <th>Nick McCaffery</th>\n",
       "      <td>2.828427</td>\n",
       "      <td>3.872983</td>\n",
       "      <td>2.236068</td>\n",
       "      <td>3.000000</td>\n",
       "      <td>2.645751</td>\n",
       "      <td>2.828427</td>\n",
       "      <td>4.000000</td>\n",
       "      <td>0.000000</td>\n",
       "      <td>2.449490</td>\n",
       "      <td>3.162278</td>\n",
       "      <td>3.000000</td>\n",
       "      <td>2.449490</td>\n",
       "      <td>2.236068</td>\n",
       "    </tr>\n",
       "    <tr>\n",
       "      <th>David Perrone</th>\n",
       "      <td>2.449490</td>\n",
       "      <td>3.605551</td>\n",
       "      <td>2.236068</td>\n",
       "      <td>3.000000</td>\n",
       "      <td>2.645751</td>\n",
       "      <td>2.828427</td>\n",
       "      <td>2.828427</td>\n",
       "      <td>2.449490</td>\n",
       "      <td>0.000000</td>\n",
       "      <td>2.828427</td>\n",
       "      <td>2.645751</td>\n",
       "      <td>2.449490</td>\n",
       "      <td>2.236068</td>\n",
       "    </tr>\n",
       "    <tr>\n",
       "      <th>Masoud</th>\n",
       "      <td>3.162278</td>\n",
       "      <td>4.123106</td>\n",
       "      <td>2.645751</td>\n",
       "      <td>3.605551</td>\n",
       "      <td>3.316625</td>\n",
       "      <td>3.464102</td>\n",
       "      <td>4.242641</td>\n",
       "      <td>3.162278</td>\n",
       "      <td>2.828427</td>\n",
       "      <td>0.000000</td>\n",
       "      <td>3.605551</td>\n",
       "      <td>2.828427</td>\n",
       "      <td>3.000000</td>\n",
       "    </tr>\n",
       "    <tr>\n",
       "      <th>Rony Lopes</th>\n",
       "      <td>3.316625</td>\n",
       "      <td>4.000000</td>\n",
       "      <td>2.828427</td>\n",
       "      <td>3.464102</td>\n",
       "      <td>3.162278</td>\n",
       "      <td>3.316625</td>\n",
       "      <td>4.358899</td>\n",
       "      <td>3.000000</td>\n",
       "      <td>2.645751</td>\n",
       "      <td>3.605551</td>\n",
       "      <td>0.000000</td>\n",
       "      <td>3.316625</td>\n",
       "      <td>2.828427</td>\n",
       "    </tr>\n",
       "    <tr>\n",
       "      <th>Patrick Dowd</th>\n",
       "      <td>2.828427</td>\n",
       "      <td>3.605551</td>\n",
       "      <td>2.645751</td>\n",
       "      <td>3.316625</td>\n",
       "      <td>3.000000</td>\n",
       "      <td>3.162278</td>\n",
       "      <td>4.000000</td>\n",
       "      <td>2.449490</td>\n",
       "      <td>2.449490</td>\n",
       "      <td>2.828427</td>\n",
       "      <td>3.316625</td>\n",
       "      <td>0.000000</td>\n",
       "      <td>2.645751</td>\n",
       "    </tr>\n",
       "    <tr>\n",
       "      <th>Ruifang Kuang</th>\n",
       "      <td>2.645751</td>\n",
       "      <td>3.741657</td>\n",
       "      <td>2.000000</td>\n",
       "      <td>2.828427</td>\n",
       "      <td>2.449490</td>\n",
       "      <td>2.645751</td>\n",
       "      <td>3.872983</td>\n",
       "      <td>2.236068</td>\n",
       "      <td>2.236068</td>\n",
       "      <td>3.000000</td>\n",
       "      <td>2.828427</td>\n",
       "      <td>2.645751</td>\n",
       "      <td>0.000000</td>\n",
       "    </tr>\n",
       "  </tbody>\n",
       "</table>\n",
       "</div>"
      ],
      "text/plain": [
       "                   Demeus Alves  Ryan Booth  Brianna MacDonald  Jair Delgado  \\\n",
       "Demeus Alves           0.000000    3.872983           2.645751      3.316625   \n",
       "Ryan Booth             3.872983    0.000000           3.741657      4.242641   \n",
       "Brianna MacDonald      2.645751    3.741657           0.000000      2.828427   \n",
       "Jair Delgado           3.316625    4.242641           2.828427      0.000000   \n",
       "Shawn Vincent          3.000000    4.000000           2.449490      2.828427   \n",
       "Jacob Afonso           3.162278    3.872983           2.645751      3.316625   \n",
       "Ryan Buquicchio        4.000000    4.582576           3.872983      4.358899   \n",
       "Nick McCaffery         2.828427    3.872983           2.236068      3.000000   \n",
       "David Perrone          2.449490    3.605551           2.236068      3.000000   \n",
       "Masoud                 3.162278    4.123106           2.645751      3.605551   \n",
       "Rony Lopes             3.316625    4.000000           2.828427      3.464102   \n",
       "Patrick Dowd           2.828427    3.605551           2.645751      3.316625   \n",
       "Ruifang Kuang          2.645751    3.741657           2.000000      2.828427   \n",
       "\n",
       "                   Shawn Vincent  Jacob Afonso  Ryan Buquicchio  \\\n",
       "Demeus Alves            3.000000      3.162278         4.000000   \n",
       "Ryan Booth              4.000000      3.872983         4.582576   \n",
       "Brianna MacDonald       2.449490      2.645751         3.872983   \n",
       "Jair Delgado            2.828427      3.316625         4.358899   \n",
       "Shawn Vincent           0.000000      3.000000         4.123106   \n",
       "Jacob Afonso            3.000000      0.000000         3.741657   \n",
       "Ryan Buquicchio         4.123106      3.741657         0.000000   \n",
       "Nick McCaffery          2.645751      2.828427         4.000000   \n",
       "David Perrone           2.645751      2.828427         2.828427   \n",
       "Masoud                  3.316625      3.464102         4.242641   \n",
       "Rony Lopes              3.162278      3.316625         4.358899   \n",
       "Patrick Dowd            3.000000      3.162278         4.000000   \n",
       "Ruifang Kuang           2.449490      2.645751         3.872983   \n",
       "\n",
       "                   Nick McCaffery  David Perrone    Masoud  Rony Lopes  \\\n",
       "Demeus Alves             2.828427       2.449490  3.162278    3.316625   \n",
       "Ryan Booth               3.872983       3.605551  4.123106    4.000000   \n",
       "Brianna MacDonald        2.236068       2.236068  2.645751    2.828427   \n",
       "Jair Delgado             3.000000       3.000000  3.605551    3.464102   \n",
       "Shawn Vincent            2.645751       2.645751  3.316625    3.162278   \n",
       "Jacob Afonso             2.828427       2.828427  3.464102    3.316625   \n",
       "Ryan Buquicchio          4.000000       2.828427  4.242641    4.358899   \n",
       "Nick McCaffery           0.000000       2.449490  3.162278    3.000000   \n",
       "David Perrone            2.449490       0.000000  2.828427    2.645751   \n",
       "Masoud                   3.162278       2.828427  0.000000    3.605551   \n",
       "Rony Lopes               3.000000       2.645751  3.605551    0.000000   \n",
       "Patrick Dowd             2.449490       2.449490  2.828427    3.316625   \n",
       "Ruifang Kuang            2.236068       2.236068  3.000000    2.828427   \n",
       "\n",
       "                   Patrick Dowd  Ruifang Kuang  \n",
       "Demeus Alves           2.828427       2.645751  \n",
       "Ryan Booth             3.605551       3.741657  \n",
       "Brianna MacDonald      2.645751       2.000000  \n",
       "Jair Delgado           3.316625       2.828427  \n",
       "Shawn Vincent          3.000000       2.449490  \n",
       "Jacob Afonso           3.162278       2.645751  \n",
       "Ryan Buquicchio        4.000000       3.872983  \n",
       "Nick McCaffery         2.449490       2.236068  \n",
       "David Perrone          2.449490       2.236068  \n",
       "Masoud                 2.828427       3.000000  \n",
       "Rony Lopes             3.316625       2.828427  \n",
       "Patrick Dowd           0.000000       2.645751  \n",
       "Ruifang Kuang          2.645751       0.000000  "
      ]
     },
     "execution_count": 22,
     "metadata": {},
     "output_type": "execute_result"
    }
   ],
   "source": [
    "dist_df = pd.DataFrame(data = euclidean_distances(text_df), \n",
    "                       index=  text.keys(), columns= text.keys())\n",
    "dist_df"
   ]
  },
  {
   "cell_type": "code",
   "execution_count": 23,
   "metadata": {},
   "outputs": [
    {
     "data": {
      "text/plain": [
       "0.0"
      ]
     },
     "execution_count": 23,
     "metadata": {},
     "output_type": "execute_result"
    }
   ],
   "source": [
    "dist_df['Masoud'].min()"
   ]
  },
  {
   "cell_type": "code",
   "execution_count": 24,
   "metadata": {},
   "outputs": [
    {
     "data": {
      "text/plain": [
       "Demeus Alves         3.162278\n",
       "Ryan Booth           4.123106\n",
       "Brianna MacDonald    2.645751\n",
       "Jair Delgado         3.605551\n",
       "Shawn Vincent        3.316625\n",
       "Jacob Afonso         3.464102\n",
       "Ryan Buquicchio      4.242641\n",
       "Nick McCaffery       3.162278\n",
       "David Perrone        2.828427\n",
       "Rony Lopes           3.605551\n",
       "Patrick Dowd         2.828427\n",
       "Ruifang Kuang        3.000000\n",
       "Name: Masoud, dtype: float64"
      ]
     },
     "execution_count": 24,
     "metadata": {},
     "output_type": "execute_result"
    }
   ],
   "source": [
    "dist_df['Masoud'].drop('Masoud')"
   ]
  },
  {
   "cell_type": "code",
   "execution_count": 25,
   "metadata": {},
   "outputs": [
    {
     "data": {
      "text/plain": [
       "2.6457513110645907"
      ]
     },
     "execution_count": 25,
     "metadata": {},
     "output_type": "execute_result"
    }
   ],
   "source": [
    "dist_df['Masoud'].drop('Masoud').min()"
   ]
  },
  {
   "cell_type": "code",
   "execution_count": 26,
   "metadata": {},
   "outputs": [
    {
     "data": {
      "text/plain": [
       "'Brianna MacDonald'"
      ]
     },
     "execution_count": 26,
     "metadata": {},
     "output_type": "execute_result"
    }
   ],
   "source": [
    "dist_df['Masoud'].drop('Masoud').idxmin()"
   ]
  },
  {
   "cell_type": "code",
   "execution_count": null,
   "metadata": {},
   "outputs": [],
   "source": []
  }
 ],
 "metadata": {
  "jupytext": {
   "text_representation": {
    "extension": ".md",
    "format_name": "myst",
    "format_version": 0.12,
    "jupytext_version": "1.6.0"
   }
  },
  "kernelspec": {
   "display_name": "Python 3",
   "language": "python",
   "name": "python3"
  },
  "language_info": {
   "codemirror_mode": {
    "name": "ipython",
    "version": 3
   },
   "file_extension": ".py",
   "mimetype": "text/x-python",
   "name": "python",
   "nbconvert_exporter": "python",
   "pygments_lexer": "ipython3",
   "version": "3.7.9"
  },
  "source_map": [
   12,
   16,
   21,
   25,
   40,
   44,
   48,
   53,
   55,
   59,
   73,
   92,
   97,
   101,
   105,
   109,
   113,
   117,
   121,
   125,
   129,
   134,
   138,
   142,
   147,
   151,
   157,
   161,
   165,
   169,
   173
  ]
 },
 "nbformat": 4,
 "nbformat_minor": 4
}