{
 "cells": [
  {
   "cell_type": "markdown",
   "id": "a6d33e96",
   "metadata": {},
   "source": [
    "# Class : More Representations of Text"
   ]
  },
  {
   "cell_type": "markdown",
   "id": "f140c7f4",
   "metadata": {},
   "source": [
    "[[1],[1],[1],[1],[1]]"
   ]
  },
  {
   "cell_type": "code",
   "execution_count": 1,
   "id": "4b5f8033",
   "metadata": {},
   "outputs": [],
   "source": [
    "# %load http://drsmb.co/310\n",
    "from sklearn.feature_extraction import text\n",
    "from sklearn.metrics.pairwise import euclidean_distances\n",
    "from sklearn import datasets\n",
    "import pandas as pd\n",
    "from sklearn.naive_bayes import MultinomialNB\n",
    "import numpy as np"
   ]
  },
  {
   "cell_type": "code",
   "execution_count": 2,
   "id": "c9e5970a",
   "metadata": {},
   "outputs": [],
   "source": [
    "ng_X,ng_y = datasets.fetch_20newsgroups(categories =['comp.graphics','sci.crypt'],\n",
    "                                       return_X_y = True)"
   ]
  },
  {
   "cell_type": "code",
   "execution_count": 3,
   "id": "730a7aab",
   "metadata": {},
   "outputs": [],
   "source": [
    "count_vec = text.CountVectorizer()"
   ]
  },
  {
   "cell_type": "code",
   "execution_count": 4,
   "id": "e93af127",
   "metadata": {},
   "outputs": [],
   "source": [
    "ng_X_vec = count_vec.fit_transform(ng_X)"
   ]
  },
  {
   "cell_type": "code",
   "execution_count": 5,
   "id": "bbadf9fc",
   "metadata": {},
   "outputs": [
    {
     "data": {
      "text/plain": [
       "array([[0, 0, 0, ..., 0, 0, 0],\n",
       "       [0, 0, 0, ..., 0, 0, 0],\n",
       "       [1, 1, 0, ..., 0, 0, 0]])"
      ]
     },
     "execution_count": 5,
     "metadata": {},
     "output_type": "execute_result"
    }
   ],
   "source": [
    "ng_X_vec.toarray()[:3]"
   ]
  },
  {
   "cell_type": "code",
   "execution_count": 6,
   "id": "ac6bcffb",
   "metadata": {},
   "outputs": [
    {
     "data": {
      "text/plain": [
       "(1179, 24257)"
      ]
     },
     "execution_count": 6,
     "metadata": {},
     "output_type": "execute_result"
    }
   ],
   "source": [
    "ng_X_vec.shape"
   ]
  },
  {
   "cell_type": "code",
   "execution_count": 7,
   "id": "d583e027",
   "metadata": {},
   "outputs": [
    {
     "data": {
      "text/plain": [
       "549"
      ]
     },
     "execution_count": 7,
     "metadata": {},
     "output_type": "execute_result"
    }
   ],
   "source": [
    "np.max(ng_X_vec)"
   ]
  },
  {
   "cell_type": "code",
   "execution_count": 8,
   "id": "5bf6b1ea",
   "metadata": {},
   "outputs": [],
   "source": [
    "tfidf = text.TfidfTransformer()"
   ]
  },
  {
   "cell_type": "code",
   "execution_count": 9,
   "id": "b1cd44de",
   "metadata": {},
   "outputs": [],
   "source": [
    "ng_X_tfidf = tfidf.fit_transform(ng_X_vec)"
   ]
  },
  {
   "cell_type": "code",
   "execution_count": 10,
   "id": "15738d19",
   "metadata": {},
   "outputs": [
    {
     "data": {
      "text/plain": [
       "array([[0.        , 0.        , 0.        , ..., 0.        , 0.        ,\n",
       "        0.        ],\n",
       "       [0.        , 0.        , 0.        , ..., 0.        , 0.        ,\n",
       "        0.        ],\n",
       "       [0.05125476, 0.0576842 , 0.        , ..., 0.        , 0.        ,\n",
       "        0.        ]])"
      ]
     },
     "execution_count": 10,
     "metadata": {},
     "output_type": "execute_result"
    }
   ],
   "source": [
    "ng_X_tfidf.toarray()[:3]"
   ]
  },
  {
   "cell_type": "code",
   "execution_count": 11,
   "id": "02dd9b2c",
   "metadata": {},
   "outputs": [
    {
     "data": {
      "text/plain": [
       "(1179, 24257)"
      ]
     },
     "execution_count": 11,
     "metadata": {},
     "output_type": "execute_result"
    }
   ],
   "source": [
    "ng_X_tfidf.shape"
   ]
  },
  {
   "cell_type": "code",
   "execution_count": 12,
   "id": "a53f76e6",
   "metadata": {},
   "outputs": [
    {
     "data": {
      "text/plain": [
       "0.938424962381379"
      ]
     },
     "execution_count": 12,
     "metadata": {},
     "output_type": "execute_result"
    }
   ],
   "source": [
    "np.max(ng_X_tfidf)"
   ]
  },
  {
   "cell_type": "markdown",
   "id": "5ebcd56f",
   "metadata": {},
   "source": [
    "Does this representation improve our classification for this task?"
   ]
  },
  {
   "cell_type": "code",
   "execution_count": 13,
   "id": "7030ce16",
   "metadata": {},
   "outputs": [
    {
     "data": {
      "text/plain": [
       "<1179x149885 sparse matrix of type '<class 'numpy.int64'>'\n",
       "\twith 313557 stored elements in Compressed Sparse Row format>"
      ]
     },
     "execution_count": 13,
     "metadata": {},
     "output_type": "execute_result"
    }
   ],
   "source": [
    "counts_bigram = text.CountVectorizer(ngram_range = (2,2))\n",
    "counts_bigram.fit_transform(ng_X)"
   ]
  },
  {
   "cell_type": "code",
   "execution_count": 14,
   "id": "a0e1c7ba",
   "metadata": {},
   "outputs": [
    {
     "data": {
      "text/plain": [
       "<1179x125898 sparse matrix of type '<class 'numpy.int64'>'\n",
       "\twith 192349 stored elements in Compressed Sparse Row format>"
      ]
     },
     "execution_count": 14,
     "metadata": {},
     "output_type": "execute_result"
    }
   ],
   "source": [
    "counts_bigram = text.CountVectorizer(ngram_range = (2,2),stop_words = 'english')\n",
    "counts_bigram.fit_transform(ng_X)"
   ]
  },
  {
   "cell_type": "code",
   "execution_count": null,
   "id": "8a1c0924",
   "metadata": {},
   "outputs": [],
   "source": []
  }
 ],
 "metadata": {
  "jupytext": {
   "text_representation": {
    "extension": ".md",
    "format_name": "myst",
    "format_version": 0.12,
    "jupytext_version": "1.6.0"
   }
  },
  "kernelspec": {
   "display_name": "Python 3",
   "language": "python",
   "name": "python3"
  },
  "language_info": {
   "codemirror_mode": {
    "name": "ipython",
    "version": 3
   },
   "file_extension": ".py",
   "mimetype": "text/x-python",
   "name": "python",
   "nbconvert_exporter": "python",
   "pygments_lexer": "ipython3",
   "version": "3.7.10"
  },
  "source_map": [
   12,
   16,
   22,
   32,
   37,
   41,
   45,
   49,
   53,
   57,
   61,
   65,
   69,
   73,
   75,
   79,
   84,
   89
  ]
 },
 "nbformat": 4,
 "nbformat_minor": 5
}