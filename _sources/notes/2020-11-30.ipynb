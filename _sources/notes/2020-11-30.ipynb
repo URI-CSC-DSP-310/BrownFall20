{
 "cells": [
  {
   "cell_type": "markdown",
   "id": "140fe46a",
   "metadata": {},
   "source": [
    "# Class : More Representations of Text"
   ]
  },
  {
   "cell_type": "markdown",
   "id": "f92b1aa3",
   "metadata": {},
   "source": [
    "[[1],[1],[1],[1],[1]]"
   ]
  },
  {
   "cell_type": "code",
   "execution_count": 1,
   "id": "a2ae5daf",
   "metadata": {},
   "outputs": [],
   "source": [
    "# %load http://drsmb.co/310\n",
    "from sklearn.feature_extraction import text\n",
    "from sklearn.metrics.pairwise import euclidean_distances\n",
    "from sklearn import datasets\n",
    "import pandas as pd\n",
    "from sklearn.naive_bayes import MultinomialNB\n",
    "import numpy as np"
   ]
  },
  {
   "cell_type": "code",
   "execution_count": 2,
   "id": "8bc825b6",
   "metadata": {},
   "outputs": [],
   "source": [
    "ng_X,ng_y = datasets.fetch_20newsgroups(categories =['comp.graphics','sci.crypt'],\n",
    "                                       return_X_y = True)"
   ]
  },
  {
   "cell_type": "code",
   "execution_count": 3,
   "id": "12eb6af5",
   "metadata": {},
   "outputs": [],
   "source": [
    "count_vec = text.CountVectorizer()"
   ]
  },
  {
   "cell_type": "code",
   "execution_count": 4,
   "id": "225e8e2a",
   "metadata": {},
   "outputs": [],
   "source": [
    "ng_X_vec = count_vec.fit_transform(ng_X)"
   ]
  },
  {
   "cell_type": "code",
   "execution_count": 5,
   "id": "94d8462e",
   "metadata": {},
   "outputs": [
    {
     "data": {
      "text/plain": [
       "array([[0, 0, 0, ..., 0, 0, 0],\n",
       "       [0, 0, 0, ..., 0, 0, 0],\n",
       "       [1, 1, 0, ..., 0, 0, 0]])"
      ]
     },
     "execution_count": 5,
     "metadata": {},
     "output_type": "execute_result"
    }
   ],
   "source": [
    "ng_X_vec.toarray()[:3]"
   ]
  },
  {
   "cell_type": "code",
   "execution_count": 6,
   "id": "40ea96a6",
   "metadata": {},
   "outputs": [
    {
     "data": {
      "text/plain": [
       "(1179, 24257)"
      ]
     },
     "execution_count": 6,
     "metadata": {},
     "output_type": "execute_result"
    }
   ],
   "source": [
    "ng_X_vec.shape"
   ]
  },
  {
   "cell_type": "code",
   "execution_count": 7,
   "id": "8b9cc6e0",
   "metadata": {},
   "outputs": [
    {
     "data": {
      "text/plain": [
       "549"
      ]
     },
     "execution_count": 7,
     "metadata": {},
     "output_type": "execute_result"
    }
   ],
   "source": [
    "np.max(ng_X_vec)"
   ]
  },
  {
   "cell_type": "code",
   "execution_count": 8,
   "id": "86ac6207",
   "metadata": {},
   "outputs": [],
   "source": [
    "tfidf = text.TfidfTransformer()"
   ]
  },
  {
   "cell_type": "code",
   "execution_count": 9,
   "id": "ec633268",
   "metadata": {},
   "outputs": [],
   "source": [
    "ng_X_tfidf = tfidf.fit_transform(ng_X_vec)"
   ]
  },
  {
   "cell_type": "code",
   "execution_count": 10,
   "id": "b5ff6533",
   "metadata": {},
   "outputs": [
    {
     "data": {
      "text/plain": [
       "array([[0.        , 0.        , 0.        , ..., 0.        , 0.        ,\n",
       "        0.        ],\n",
       "       [0.        , 0.        , 0.        , ..., 0.        , 0.        ,\n",
       "        0.        ],\n",
       "       [0.05125476, 0.0576842 , 0.        , ..., 0.        , 0.        ,\n",
       "        0.        ]])"
      ]
     },
     "execution_count": 10,
     "metadata": {},
     "output_type": "execute_result"
    }
   ],
   "source": [
    "ng_X_tfidf.toarray()[:3]"
   ]
  },
  {
   "cell_type": "code",
   "execution_count": 11,
   "id": "4d71b5e8",
   "metadata": {},
   "outputs": [
    {
     "data": {
      "text/plain": [
       "(1179, 24257)"
      ]
     },
     "execution_count": 11,
     "metadata": {},
     "output_type": "execute_result"
    }
   ],
   "source": [
    "ng_X_tfidf.shape"
   ]
  },
  {
   "cell_type": "code",
   "execution_count": 12,
   "id": "85382672",
   "metadata": {},
   "outputs": [
    {
     "data": {
      "text/plain": [
       "0.9384249623813788"
      ]
     },
     "execution_count": 12,
     "metadata": {},
     "output_type": "execute_result"
    }
   ],
   "source": [
    "np.max(ng_X_tfidf)"
   ]
  },
  {
   "cell_type": "markdown",
   "id": "cafae116",
   "metadata": {},
   "source": [
    "Does this representation improve our classification for this task?"
   ]
  },
  {
   "cell_type": "code",
   "execution_count": 13,
   "id": "32da095d",
   "metadata": {},
   "outputs": [
    {
     "data": {
      "text/plain": [
       "<1179x149885 sparse matrix of type '<class 'numpy.int64'>'\n",
       "\twith 313557 stored elements in Compressed Sparse Row format>"
      ]
     },
     "execution_count": 13,
     "metadata": {},
     "output_type": "execute_result"
    }
   ],
   "source": [
    "counts_bigram = text.CountVectorizer(ngram_range = (2,2))\n",
    "counts_bigram.fit_transform(ng_X)"
   ]
  },
  {
   "cell_type": "code",
   "execution_count": 14,
   "id": "2b809ebf",
   "metadata": {},
   "outputs": [
    {
     "data": {
      "text/plain": [
       "<1179x125898 sparse matrix of type '<class 'numpy.int64'>'\n",
       "\twith 192349 stored elements in Compressed Sparse Row format>"
      ]
     },
     "execution_count": 14,
     "metadata": {},
     "output_type": "execute_result"
    }
   ],
   "source": [
    "counts_bigram = text.CountVectorizer(ngram_range = (2,2),stop_words = 'english')\n",
    "counts_bigram.fit_transform(ng_X)"
   ]
  },
  {
   "cell_type": "code",
   "execution_count": null,
   "id": "2a2621b0",
   "metadata": {},
   "outputs": [],
   "source": []
  }
 ],
 "metadata": {
  "jupytext": {
   "text_representation": {
    "extension": ".md",
    "format_name": "myst",
    "format_version": 0.12,
    "jupytext_version": "1.6.0"
   }
  },
  "kernelspec": {
   "display_name": "Python 3",
   "language": "python",
   "name": "python3"
  },
  "language_info": {
   "codemirror_mode": {
    "name": "ipython",
    "version": 3
   },
   "file_extension": ".py",
   "mimetype": "text/x-python",
   "name": "python",
   "nbconvert_exporter": "python",
   "pygments_lexer": "ipython3",
   "version": "3.7.10"
  },
  "source_map": [
   12,
   16,
   22,
   32,
   37,
   41,
   45,
   49,
   53,
   57,
   61,
   65,
   69,
   73,
   75,
   79,
   84,
   89
  ]
 },
 "nbformat": 4,
 "nbformat_minor": 5
}