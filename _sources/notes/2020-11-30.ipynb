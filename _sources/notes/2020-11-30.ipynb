{
 "cells": [
  {
   "cell_type": "markdown",
   "id": "a85af120",
   "metadata": {},
   "source": [
    "# Class : More Representations of Text"
   ]
  },
  {
   "cell_type": "markdown",
   "id": "eb8700a7",
   "metadata": {},
   "source": [
    "[[1],[1],[1],[1],[1]]"
   ]
  },
  {
   "cell_type": "code",
   "execution_count": 1,
   "id": "8e364c44",
   "metadata": {},
   "outputs": [],
   "source": [
    "# %load http://drsmb.co/310\n",
    "from sklearn.feature_extraction import text\n",
    "from sklearn.metrics.pairwise import euclidean_distances\n",
    "from sklearn import datasets\n",
    "import pandas as pd\n",
    "from sklearn.naive_bayes import MultinomialNB\n",
    "import numpy as np"
   ]
  },
  {
   "cell_type": "code",
   "execution_count": 2,
   "id": "1f44b3ba",
   "metadata": {},
   "outputs": [],
   "source": [
    "ng_X,ng_y = datasets.fetch_20newsgroups(categories =['comp.graphics','sci.crypt'],\n",
    "                                       return_X_y = True)"
   ]
  },
  {
   "cell_type": "code",
   "execution_count": 3,
   "id": "75625fcd",
   "metadata": {},
   "outputs": [],
   "source": [
    "count_vec = text.CountVectorizer()"
   ]
  },
  {
   "cell_type": "code",
   "execution_count": 4,
   "id": "35ec82fd",
   "metadata": {},
   "outputs": [],
   "source": [
    "ng_X_vec = count_vec.fit_transform(ng_X)"
   ]
  },
  {
   "cell_type": "code",
   "execution_count": 5,
   "id": "61edf06f",
   "metadata": {},
   "outputs": [
    {
     "data": {
      "text/plain": [
       "array([[0, 0, 0, ..., 0, 0, 0],\n",
       "       [0, 0, 0, ..., 0, 0, 0],\n",
       "       [1, 1, 0, ..., 0, 0, 0]])"
      ]
     },
     "execution_count": 5,
     "metadata": {},
     "output_type": "execute_result"
    }
   ],
   "source": [
    "ng_X_vec.toarray()[:3]"
   ]
  },
  {
   "cell_type": "code",
   "execution_count": 6,
   "id": "298196d2",
   "metadata": {},
   "outputs": [
    {
     "data": {
      "text/plain": [
       "(1179, 24257)"
      ]
     },
     "execution_count": 6,
     "metadata": {},
     "output_type": "execute_result"
    }
   ],
   "source": [
    "ng_X_vec.shape"
   ]
  },
  {
   "cell_type": "code",
   "execution_count": 7,
   "id": "f97e6e12",
   "metadata": {},
   "outputs": [
    {
     "data": {
      "text/plain": [
       "549"
      ]
     },
     "execution_count": 7,
     "metadata": {},
     "output_type": "execute_result"
    }
   ],
   "source": [
    "np.max(ng_X_vec)"
   ]
  },
  {
   "cell_type": "code",
   "execution_count": 8,
   "id": "d5bd0ea1",
   "metadata": {},
   "outputs": [],
   "source": [
    "tfidf = text.TfidfTransformer()"
   ]
  },
  {
   "cell_type": "code",
   "execution_count": 9,
   "id": "a4e7a46a",
   "metadata": {},
   "outputs": [],
   "source": [
    "ng_X_tfidf = tfidf.fit_transform(ng_X_vec)"
   ]
  },
  {
   "cell_type": "code",
   "execution_count": 10,
   "id": "c8d13e8f",
   "metadata": {},
   "outputs": [
    {
     "data": {
      "text/plain": [
       "array([[0.        , 0.        , 0.        , ..., 0.        , 0.        ,\n",
       "        0.        ],\n",
       "       [0.        , 0.        , 0.        , ..., 0.        , 0.        ,\n",
       "        0.        ],\n",
       "       [0.05125476, 0.0576842 , 0.        , ..., 0.        , 0.        ,\n",
       "        0.        ]])"
      ]
     },
     "execution_count": 10,
     "metadata": {},
     "output_type": "execute_result"
    }
   ],
   "source": [
    "ng_X_tfidf.toarray()[:3]"
   ]
  },
  {
   "cell_type": "code",
   "execution_count": 11,
   "id": "f3a190e5",
   "metadata": {},
   "outputs": [
    {
     "data": {
      "text/plain": [
       "(1179, 24257)"
      ]
     },
     "execution_count": 11,
     "metadata": {},
     "output_type": "execute_result"
    }
   ],
   "source": [
    "ng_X_tfidf.shape"
   ]
  },
  {
   "cell_type": "code",
   "execution_count": 12,
   "id": "804583f7",
   "metadata": {},
   "outputs": [
    {
     "data": {
      "text/plain": [
       "0.9384249623813788"
      ]
     },
     "execution_count": 12,
     "metadata": {},
     "output_type": "execute_result"
    }
   ],
   "source": [
    "np.max(ng_X_tfidf)"
   ]
  },
  {
   "cell_type": "markdown",
   "id": "2c49e665",
   "metadata": {},
   "source": [
    "Does this representation improve our classification for this task?"
   ]
  },
  {
   "cell_type": "code",
   "execution_count": 13,
   "id": "ae483041",
   "metadata": {},
   "outputs": [
    {
     "data": {
      "text/plain": [
       "<1179x149885 sparse matrix of type '<class 'numpy.int64'>'\n",
       "\twith 313557 stored elements in Compressed Sparse Row format>"
      ]
     },
     "execution_count": 13,
     "metadata": {},
     "output_type": "execute_result"
    }
   ],
   "source": [
    "counts_bigram = text.CountVectorizer(ngram_range = (2,2))\n",
    "counts_bigram.fit_transform(ng_X)"
   ]
  },
  {
   "cell_type": "code",
   "execution_count": 14,
   "id": "9639538e",
   "metadata": {},
   "outputs": [
    {
     "data": {
      "text/plain": [
       "<1179x125898 sparse matrix of type '<class 'numpy.int64'>'\n",
       "\twith 192349 stored elements in Compressed Sparse Row format>"
      ]
     },
     "execution_count": 14,
     "metadata": {},
     "output_type": "execute_result"
    }
   ],
   "source": [
    "counts_bigram = text.CountVectorizer(ngram_range = (2,2),stop_words = 'english')\n",
    "counts_bigram.fit_transform(ng_X)"
   ]
  },
  {
   "cell_type": "code",
   "execution_count": null,
   "id": "52bf01e8",
   "metadata": {},
   "outputs": [],
   "source": []
  }
 ],
 "metadata": {
  "jupytext": {
   "text_representation": {
    "extension": ".md",
    "format_name": "myst",
    "format_version": 0.12,
    "jupytext_version": "1.6.0"
   }
  },
  "kernelspec": {
   "display_name": "Python 3",
   "language": "python",
   "name": "python3"
  },
  "language_info": {
   "codemirror_mode": {
    "name": "ipython",
    "version": 3
   },
   "file_extension": ".py",
   "mimetype": "text/x-python",
   "name": "python",
   "nbconvert_exporter": "python",
   "pygments_lexer": "ipython3",
   "version": "3.7.10"
  },
  "source_map": [
   12,
   16,
   22,
   32,
   37,
   41,
   45,
   49,
   53,
   57,
   61,
   65,
   69,
   73,
   75,
   79,
   84,
   89
  ]
 },
 "nbformat": 4,
 "nbformat_minor": 5
}